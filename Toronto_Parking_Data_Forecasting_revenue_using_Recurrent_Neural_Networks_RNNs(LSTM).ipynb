{
  "nbformat": 4,
  "nbformat_minor": 0,
  "metadata": {
    "colab": {
      "name": "Toronto Parking Data - Forecasting revenue using Recurrent Neural Networks RNNs(LSTM)",
      "provenance": [],
      "collapsed_sections": [],
      "mount_file_id": "1OiC6Gu0DJ8iJzC4tpslpzDqquIhEYXlR",
      "authorship_tag": "ABX9TyP9YriMQGfpO/E2ExSsh0OC",
      "include_colab_link": true
    },
    "kernelspec": {
      "name": "python3",
      "display_name": "Python 3"
    },
    "accelerator": "GPU"
  },
  "cells": [
    {
      "cell_type": "markdown",
      "metadata": {
        "id": "view-in-github",
        "colab_type": "text"
      },
      "source": [
        "<a href=\"https://colab.research.google.com/github/KevinLolochum/Toronto-Parking/blob/master/Toronto_Parking_Data_Forecasting_revenue_using_Recurrent_Neural_Networks_RNNs(LSTM).ipynb\" target=\"_parent\"><img src=\"https://colab.research.google.com/assets/colab-badge.svg\" alt=\"Open In Colab\"/></a>"
      ]
    },
    {
      "cell_type": "markdown",
      "metadata": {
        "id": "8IZFf1vsz9oN",
        "colab_type": "text"
      },
      "source": [
        "# Introduction"
      ]
    },
    {
      "cell_type": "markdown",
      "metadata": {
        "id": "SG4apB0a0KX1",
        "colab_type": "text"
      },
      "source": [
        "Below, I use the publicly available toronto city data to predict and give recommendations on parking revenue and compliance/enforcement.\n",
        "Revenue is measured by amount of fine.\n",
        "I am assuming that small fines and reduced frequency of fines indiicate compliance.\n",
        "\n",
        "In addition to parking data, I also add the publicly available data on seasons, weather and public holidays as features/variables in my model."
      ]
    },
    {
      "cell_type": "markdown",
      "metadata": {
        "id": "OvOSlYsc18mC",
        "colab_type": "text"
      },
      "source": [
        "Data sources\n",
        "\n",
        "1. Canadian holidays dataset https://github.com/uWaterloo/Datasets/blob/master/Holidays/holidays.csv  \n",
        "2. Toronto temp and seasons dataset https://www.kaggle.com/rainbowgirl/climate-data-toronto-19372018\n",
        "and https://toronto.weatherstats.ca/download.html\n",
        "3. Parking tickets  https://open.toronto.ca/dataset/parking-tickets/\n",
        "\n",
        "Some assumptions include\n",
        "1. All canadian holidays are celebrated in Toronto\n"
      ]
    },
    {
      "cell_type": "code",
      "metadata": {
        "id": "MoBnXoqZOAUR",
        "colab_type": "code",
        "colab": {}
      },
      "source": [
        "# Importing useful libraries\n",
        "\n",
        "# For data analysis and visualization\n",
        "import pandas as pd\n",
        "import numpy as np\n",
        "import glob\n",
        "# for ML and DL\n",
        "import tensorflow as ts\n",
        "import keras"
      ],
      "execution_count": 5,
      "outputs": []
    },
    {
      "cell_type": "code",
      "metadata": {
        "id": "Po9ve_LZPnYt",
        "colab_type": "code",
        "colab": {
          "base_uri": "https://localhost:8080/",
          "height": 125
        },
        "outputId": "f1c5d65d-ad3f-4e53-af70-916e389e916c"
      },
      "source": [
        "# Connecting to Gdrive to aceess data\n",
        "from google.colab import drive\n",
        "drive.mount('/content/gdrive')"
      ],
      "execution_count": 3,
      "outputs": [
        {
          "output_type": "stream",
          "text": [
            "Go to this URL in a browser: https://accounts.google.com/o/oauth2/auth?client_id=947318989803-6bn6qk8qdgf4n4g3pfee6491hc0brc4i.apps.googleusercontent.com&redirect_uri=urn%3aietf%3awg%3aoauth%3a2.0%3aoob&scope=email%20https%3a%2f%2fwww.googleapis.com%2fauth%2fdocs.test%20https%3a%2f%2fwww.googleapis.com%2fauth%2fdrive%20https%3a%2f%2fwww.googleapis.com%2fauth%2fdrive.photos.readonly%20https%3a%2f%2fwww.googleapis.com%2fauth%2fpeopleapi.readonly&response_type=code\n",
            "\n",
            "Enter your authorization code:\n",
            "4/4AGXuL7hYmmdvCYb8Olk4dJ46nx6Luz67dilyG02xVKvpuSknjdg-pE\n",
            "Mounted at /content/gdrive\n"
          ],
          "name": "stdout"
        }
      ]
    },
    {
      "cell_type": "markdown",
      "metadata": {
        "id": "cQHWxn1-FcnA",
        "colab_type": "text"
      },
      "source": [
        "Loading and combining the parking dataset that is spread over 13 periods"
      ]
    },
    {
      "cell_type": "markdown",
      "metadata": {
        "id": "7UulPyzDpxa0",
        "colab_type": "text"
      },
      "source": [
        "Currecntly suspended from using colab so my notebook can't access google drive."
      ]
    },
    {
      "cell_type": "code",
      "metadata": {
        "id": "MJJUY9tQbRGq",
        "colab_type": "code",
        "colab": {
          "base_uri": "https://localhost:8080/",
          "height": 476
        },
        "outputId": "04b12b6e-ad8d-42e4-fb9a-c66e3ddf87da"
      },
      "source": [
        "# Join all the dataframes as you upload, \n",
        "# Alternatively use sorted(glob.glob) and loops to name then concat (slower and takes more RAM space)\n",
        "Parking = pd.concat ([pd.read_csv('/content/gdrive/My Drive/Parking_Tags_Data_2015_1.csv'),\n",
        "                     pd.read_csv('/content/gdrive/My Drive/Parking_Tags_Data_2015_2.csv'),\n",
        "                     pd.read_csv('/content/gdrive/My Drive/Parking_Tags_Data_2015_3.csv'),\n",
        "                     pd.read_csv('/content/gdrive/My Drive/Parking_Tags_Data_2016_1.csv'),\n",
        "                     pd.read_csv('/content/gdrive/My Drive/Parking_Tags_Data_2016_2.csv'),\n",
        "                     pd.read_csv('/content/gdrive/My Drive/Parking_Tags_Data_2016_3.csv'),\n",
        "                     pd.read_csv('/content/gdrive/My Drive/Parking_Tags_Data_2016_4.csv'),\n",
        "                     pd.read_csv('/content/gdrive/My Drive/Parking_Tags_Data_2017_1.csv'),\n",
        "                     pd.read_csv('/content/gdrive/My Drive/Parking_Tags_Data_2017_2.csv'),\n",
        "                     pd.read_csv('/content/gdrive/My Drive/Parking_Tags_Data_2017_3.csv'),\n",
        "                     pd.read_csv('/content/gdrive/My Drive/Parking_Tags_Data_2018_1.csv'),\n",
        "                     pd.read_csv('/content/gdrive/My Drive/Parking_Tags_Data_2018_2.csv'),\n",
        "                     pd.read_csv('/content/gdrive/My Drive/Parking_Tags_Data_2018_3.csv')])\n",
        "\n",
        "Parking.head(2)\n"
      ],
      "execution_count": 4,
      "outputs": [
        {
          "output_type": "error",
          "ename": "FileNotFoundError",
          "evalue": "ignored",
          "traceback": [
            "\u001b[0;31m---------------------------------------------------------------------------\u001b[0m",
            "\u001b[0;31mFileNotFoundError\u001b[0m                         Traceback (most recent call last)",
            "\u001b[0;32m<ipython-input-4-86c39408361c>\u001b[0m in \u001b[0;36m<module>\u001b[0;34m()\u001b[0m\n\u001b[1;32m      1\u001b[0m \u001b[0;31m# Join all the dataframes as you upload,\u001b[0m\u001b[0;34m\u001b[0m\u001b[0;34m\u001b[0m\u001b[0;34m\u001b[0m\u001b[0m\n\u001b[1;32m      2\u001b[0m \u001b[0;31m# Alternatively use sorted(glob.glob) and loops to name then concat (slower and takes more RAM space)\u001b[0m\u001b[0;34m\u001b[0m\u001b[0;34m\u001b[0m\u001b[0;34m\u001b[0m\u001b[0m\n\u001b[0;32m----> 3\u001b[0;31m Parking = pd.concat ([pd.read_csv('/content/gdrive/My Drive/Parking_Tags_Data_2015_1.csv'),\n\u001b[0m\u001b[1;32m      4\u001b[0m                      \u001b[0mpd\u001b[0m\u001b[0;34m.\u001b[0m\u001b[0mread_csv\u001b[0m\u001b[0;34m(\u001b[0m\u001b[0;34m'/content/gdrive/My Drive/Parking_Tags_Data_2015_2.csv'\u001b[0m\u001b[0;34m)\u001b[0m\u001b[0;34m,\u001b[0m\u001b[0;34m\u001b[0m\u001b[0;34m\u001b[0m\u001b[0m\n\u001b[1;32m      5\u001b[0m                      \u001b[0mpd\u001b[0m\u001b[0;34m.\u001b[0m\u001b[0mread_csv\u001b[0m\u001b[0;34m(\u001b[0m\u001b[0;34m'/content/gdrive/My Drive/Parking_Tags_Data_2015_3.csv'\u001b[0m\u001b[0;34m)\u001b[0m\u001b[0;34m,\u001b[0m\u001b[0;34m\u001b[0m\u001b[0;34m\u001b[0m\u001b[0m\n",
            "\u001b[0;32m/usr/local/lib/python3.6/dist-packages/pandas/io/parsers.py\u001b[0m in \u001b[0;36mparser_f\u001b[0;34m(filepath_or_buffer, sep, delimiter, header, names, index_col, usecols, squeeze, prefix, mangle_dupe_cols, dtype, engine, converters, true_values, false_values, skipinitialspace, skiprows, skipfooter, nrows, na_values, keep_default_na, na_filter, verbose, skip_blank_lines, parse_dates, infer_datetime_format, keep_date_col, date_parser, dayfirst, cache_dates, iterator, chunksize, compression, thousands, decimal, lineterminator, quotechar, quoting, doublequote, escapechar, comment, encoding, dialect, error_bad_lines, warn_bad_lines, delim_whitespace, low_memory, memory_map, float_precision)\u001b[0m\n\u001b[1;32m    674\u001b[0m         )\n\u001b[1;32m    675\u001b[0m \u001b[0;34m\u001b[0m\u001b[0m\n\u001b[0;32m--> 676\u001b[0;31m         \u001b[0;32mreturn\u001b[0m \u001b[0m_read\u001b[0m\u001b[0;34m(\u001b[0m\u001b[0mfilepath_or_buffer\u001b[0m\u001b[0;34m,\u001b[0m \u001b[0mkwds\u001b[0m\u001b[0;34m)\u001b[0m\u001b[0;34m\u001b[0m\u001b[0;34m\u001b[0m\u001b[0m\n\u001b[0m\u001b[1;32m    677\u001b[0m \u001b[0;34m\u001b[0m\u001b[0m\n\u001b[1;32m    678\u001b[0m     \u001b[0mparser_f\u001b[0m\u001b[0;34m.\u001b[0m\u001b[0m__name__\u001b[0m \u001b[0;34m=\u001b[0m \u001b[0mname\u001b[0m\u001b[0;34m\u001b[0m\u001b[0;34m\u001b[0m\u001b[0m\n",
            "\u001b[0;32m/usr/local/lib/python3.6/dist-packages/pandas/io/parsers.py\u001b[0m in \u001b[0;36m_read\u001b[0;34m(filepath_or_buffer, kwds)\u001b[0m\n\u001b[1;32m    446\u001b[0m \u001b[0;34m\u001b[0m\u001b[0m\n\u001b[1;32m    447\u001b[0m     \u001b[0;31m# Create the parser.\u001b[0m\u001b[0;34m\u001b[0m\u001b[0;34m\u001b[0m\u001b[0;34m\u001b[0m\u001b[0m\n\u001b[0;32m--> 448\u001b[0;31m     \u001b[0mparser\u001b[0m \u001b[0;34m=\u001b[0m \u001b[0mTextFileReader\u001b[0m\u001b[0;34m(\u001b[0m\u001b[0mfp_or_buf\u001b[0m\u001b[0;34m,\u001b[0m \u001b[0;34m**\u001b[0m\u001b[0mkwds\u001b[0m\u001b[0;34m)\u001b[0m\u001b[0;34m\u001b[0m\u001b[0;34m\u001b[0m\u001b[0m\n\u001b[0m\u001b[1;32m    449\u001b[0m \u001b[0;34m\u001b[0m\u001b[0m\n\u001b[1;32m    450\u001b[0m     \u001b[0;32mif\u001b[0m \u001b[0mchunksize\u001b[0m \u001b[0;32mor\u001b[0m \u001b[0miterator\u001b[0m\u001b[0;34m:\u001b[0m\u001b[0;34m\u001b[0m\u001b[0;34m\u001b[0m\u001b[0m\n",
            "\u001b[0;32m/usr/local/lib/python3.6/dist-packages/pandas/io/parsers.py\u001b[0m in \u001b[0;36m__init__\u001b[0;34m(self, f, engine, **kwds)\u001b[0m\n\u001b[1;32m    878\u001b[0m             \u001b[0mself\u001b[0m\u001b[0;34m.\u001b[0m\u001b[0moptions\u001b[0m\u001b[0;34m[\u001b[0m\u001b[0;34m\"has_index_names\"\u001b[0m\u001b[0;34m]\u001b[0m \u001b[0;34m=\u001b[0m \u001b[0mkwds\u001b[0m\u001b[0;34m[\u001b[0m\u001b[0;34m\"has_index_names\"\u001b[0m\u001b[0;34m]\u001b[0m\u001b[0;34m\u001b[0m\u001b[0;34m\u001b[0m\u001b[0m\n\u001b[1;32m    879\u001b[0m \u001b[0;34m\u001b[0m\u001b[0m\n\u001b[0;32m--> 880\u001b[0;31m         \u001b[0mself\u001b[0m\u001b[0;34m.\u001b[0m\u001b[0m_make_engine\u001b[0m\u001b[0;34m(\u001b[0m\u001b[0mself\u001b[0m\u001b[0;34m.\u001b[0m\u001b[0mengine\u001b[0m\u001b[0;34m)\u001b[0m\u001b[0;34m\u001b[0m\u001b[0;34m\u001b[0m\u001b[0m\n\u001b[0m\u001b[1;32m    881\u001b[0m \u001b[0;34m\u001b[0m\u001b[0m\n\u001b[1;32m    882\u001b[0m     \u001b[0;32mdef\u001b[0m \u001b[0mclose\u001b[0m\u001b[0;34m(\u001b[0m\u001b[0mself\u001b[0m\u001b[0;34m)\u001b[0m\u001b[0;34m:\u001b[0m\u001b[0;34m\u001b[0m\u001b[0;34m\u001b[0m\u001b[0m\n",
            "\u001b[0;32m/usr/local/lib/python3.6/dist-packages/pandas/io/parsers.py\u001b[0m in \u001b[0;36m_make_engine\u001b[0;34m(self, engine)\u001b[0m\n\u001b[1;32m   1112\u001b[0m     \u001b[0;32mdef\u001b[0m \u001b[0m_make_engine\u001b[0m\u001b[0;34m(\u001b[0m\u001b[0mself\u001b[0m\u001b[0;34m,\u001b[0m \u001b[0mengine\u001b[0m\u001b[0;34m=\u001b[0m\u001b[0;34m\"c\"\u001b[0m\u001b[0;34m)\u001b[0m\u001b[0;34m:\u001b[0m\u001b[0;34m\u001b[0m\u001b[0;34m\u001b[0m\u001b[0m\n\u001b[1;32m   1113\u001b[0m         \u001b[0;32mif\u001b[0m \u001b[0mengine\u001b[0m \u001b[0;34m==\u001b[0m \u001b[0;34m\"c\"\u001b[0m\u001b[0;34m:\u001b[0m\u001b[0;34m\u001b[0m\u001b[0;34m\u001b[0m\u001b[0m\n\u001b[0;32m-> 1114\u001b[0;31m             \u001b[0mself\u001b[0m\u001b[0;34m.\u001b[0m\u001b[0m_engine\u001b[0m \u001b[0;34m=\u001b[0m \u001b[0mCParserWrapper\u001b[0m\u001b[0;34m(\u001b[0m\u001b[0mself\u001b[0m\u001b[0;34m.\u001b[0m\u001b[0mf\u001b[0m\u001b[0;34m,\u001b[0m \u001b[0;34m**\u001b[0m\u001b[0mself\u001b[0m\u001b[0;34m.\u001b[0m\u001b[0moptions\u001b[0m\u001b[0;34m)\u001b[0m\u001b[0;34m\u001b[0m\u001b[0;34m\u001b[0m\u001b[0m\n\u001b[0m\u001b[1;32m   1115\u001b[0m         \u001b[0;32melse\u001b[0m\u001b[0;34m:\u001b[0m\u001b[0;34m\u001b[0m\u001b[0;34m\u001b[0m\u001b[0m\n\u001b[1;32m   1116\u001b[0m             \u001b[0;32mif\u001b[0m \u001b[0mengine\u001b[0m \u001b[0;34m==\u001b[0m \u001b[0;34m\"python\"\u001b[0m\u001b[0;34m:\u001b[0m\u001b[0;34m\u001b[0m\u001b[0;34m\u001b[0m\u001b[0m\n",
            "\u001b[0;32m/usr/local/lib/python3.6/dist-packages/pandas/io/parsers.py\u001b[0m in \u001b[0;36m__init__\u001b[0;34m(self, src, **kwds)\u001b[0m\n\u001b[1;32m   1889\u001b[0m         \u001b[0mkwds\u001b[0m\u001b[0;34m[\u001b[0m\u001b[0;34m\"usecols\"\u001b[0m\u001b[0;34m]\u001b[0m \u001b[0;34m=\u001b[0m \u001b[0mself\u001b[0m\u001b[0;34m.\u001b[0m\u001b[0musecols\u001b[0m\u001b[0;34m\u001b[0m\u001b[0;34m\u001b[0m\u001b[0m\n\u001b[1;32m   1890\u001b[0m \u001b[0;34m\u001b[0m\u001b[0m\n\u001b[0;32m-> 1891\u001b[0;31m         \u001b[0mself\u001b[0m\u001b[0;34m.\u001b[0m\u001b[0m_reader\u001b[0m \u001b[0;34m=\u001b[0m \u001b[0mparsers\u001b[0m\u001b[0;34m.\u001b[0m\u001b[0mTextReader\u001b[0m\u001b[0;34m(\u001b[0m\u001b[0msrc\u001b[0m\u001b[0;34m,\u001b[0m \u001b[0;34m**\u001b[0m\u001b[0mkwds\u001b[0m\u001b[0;34m)\u001b[0m\u001b[0;34m\u001b[0m\u001b[0;34m\u001b[0m\u001b[0m\n\u001b[0m\u001b[1;32m   1892\u001b[0m         \u001b[0mself\u001b[0m\u001b[0;34m.\u001b[0m\u001b[0munnamed_cols\u001b[0m \u001b[0;34m=\u001b[0m \u001b[0mself\u001b[0m\u001b[0;34m.\u001b[0m\u001b[0m_reader\u001b[0m\u001b[0;34m.\u001b[0m\u001b[0munnamed_cols\u001b[0m\u001b[0;34m\u001b[0m\u001b[0;34m\u001b[0m\u001b[0m\n\u001b[1;32m   1893\u001b[0m \u001b[0;34m\u001b[0m\u001b[0m\n",
            "\u001b[0;32mpandas/_libs/parsers.pyx\u001b[0m in \u001b[0;36mpandas._libs.parsers.TextReader.__cinit__\u001b[0;34m()\u001b[0m\n",
            "\u001b[0;32mpandas/_libs/parsers.pyx\u001b[0m in \u001b[0;36mpandas._libs.parsers.TextReader._setup_parser_source\u001b[0;34m()\u001b[0m\n",
            "\u001b[0;31mFileNotFoundError\u001b[0m: [Errno 2] File /content/gdrive/My Drive/Parking_Tags_Data_2015_1.csv does not exist: '/content/gdrive/My Drive/Parking_Tags_Data_2015_1.csv'"
          ]
        }
      ]
    },
    {
      "cell_type": "markdown",
      "metadata": {
        "id": "BfUJ-Tzwp_6Y",
        "colab_type": "text"
      },
      "source": [
        "Exploring output"
      ]
    },
    {
      "cell_type": "code",
      "metadata": {
        "id": "MyuEve7JnIXz",
        "colab_type": "code",
        "colab": {
          "base_uri": "https://localhost:8080/",
          "height": 34
        },
        "outputId": "2b563b64-0357-43eb-f9e8-9a9db92eca90"
      },
      "source": [
        "#Checking the shape of data\n",
        "Parking.shape"
      ],
      "execution_count": 5,
      "outputs": [
        {
          "output_type": "execute_result",
          "data": {
            "text/plain": [
              "(8611768, 11)"
            ]
          },
          "metadata": {
            "tags": []
          },
          "execution_count": 5
        }
      ]
    },
    {
      "cell_type": "code",
      "metadata": {
        "id": "peJVvyvb_RNK",
        "colab_type": "code",
        "colab": {
          "base_uri": "https://localhost:8080/",
          "height": 230
        },
        "outputId": "14dfb659-57b4-45a2-c267-40980de1b74e"
      },
      "source": [
        "Parking.isna().sum()"
      ],
      "execution_count": 6,
      "outputs": [
        {
          "output_type": "execute_result",
          "data": {
            "text/plain": [
              "tag_number_masked               0\n",
              "date_of_infraction              0\n",
              "infraction_code                 2\n",
              "infraction_description          0\n",
              "set_fine_amount                 0\n",
              "time_of_infraction           5667\n",
              "location1                  712263\n",
              "location2                    1318\n",
              "location3                 8034965\n",
              "location4                 8032911\n",
              "province                        2\n",
              "dtype: int64"
            ]
          },
          "metadata": {
            "tags": []
          },
          "execution_count": 6
        }
      ]
    },
    {
      "cell_type": "code",
      "metadata": {
        "id": "JqLkbAt9II1X",
        "colab_type": "code",
        "colab": {
          "base_uri": "https://localhost:8080/",
          "height": 230
        },
        "outputId": "e47d80b8-e98f-41f0-a512-56a65861304d"
      },
      "source": [
        "#Column datatypes\n",
        "Parking.dtypes"
      ],
      "execution_count": 8,
      "outputs": [
        {
          "output_type": "execute_result",
          "data": {
            "text/plain": [
              "tag_number_masked          object\n",
              "date_of_infraction          int64\n",
              "infraction_code           float64\n",
              "infraction_description     object\n",
              "set_fine_amount             int64\n",
              "time_of_infraction        float64\n",
              "location1                  object\n",
              "location2                  object\n",
              "location3                  object\n",
              "location4                  object\n",
              "province                   object\n",
              "dtype: object"
            ]
          },
          "metadata": {
            "tags": []
          },
          "execution_count": 8
        }
      ]
    },
    {
      "cell_type": "markdown",
      "metadata": {
        "id": "EFdeY2cqmO4V",
        "colab_type": "text"
      },
      "source": [
        "From exploration, it seems that the most important data fine amount and data. \n",
        "\n",
        "Location have too much cardinality and missing values thus wont be meanigful for our predictions. \n",
        "\n",
        "This could be improved by reducing location to a few regions (e.g Downtown, midtown etc)\n",
        "\n",
        "Time in hours and minutes is not important for two reasons.\n",
        "1. Time is not well captures in the dataset (first quarter times for each year)\n",
        "2. Predicting revenue per hour/minute might not be be important for the businesss\n",
        "For the above reasons I will aggregate/reshape revenue by day going forward.\n"
      ]
    },
    {
      "cell_type": "code",
      "metadata": {
        "id": "VgAvzrtoBpuv",
        "colab_type": "code",
        "colab": {
          "base_uri": "https://localhost:8080/",
          "height": 167
        },
        "outputId": "325dcae5-73d2-4a0b-c620-7dc9c06949ee"
      },
      "source": [
        "# Converting date of infraction to date and set as index\n",
        "Parking.date_of_infraction = pd.to_datetime(Parking['date_of_infraction'], format='%Y%m%d', errors='ignore')\n",
        "dfr = Parking.set_index('date_of_infraction')\n",
        "\n",
        "# Aggregate fine amount by date, change to dataframe and rename as revenue\n",
        "\n",
        "dfx = dfr['set_fine_amount'].resample('d').sum()\n",
        "dfs = pd.DataFrame(dfx)\n",
        "dfs = dfs.rename(columns={'set_fine_amount': 'Revenue'})\n",
        "dfs.head(3)\n",
        "\n",
        "# A more robust model could be created by hourly aggregation but hourly data is messy"
      ],
      "execution_count": 13,
      "outputs": [
        {
          "output_type": "execute_result",
          "data": {
            "text/html": [
              "<div>\n",
              "<style scoped>\n",
              "    .dataframe tbody tr th:only-of-type {\n",
              "        vertical-align: middle;\n",
              "    }\n",
              "\n",
              "    .dataframe tbody tr th {\n",
              "        vertical-align: top;\n",
              "    }\n",
              "\n",
              "    .dataframe thead th {\n",
              "        text-align: right;\n",
              "    }\n",
              "</style>\n",
              "<table border=\"1\" class=\"dataframe\">\n",
              "  <thead>\n",
              "    <tr style=\"text-align: right;\">\n",
              "      <th></th>\n",
              "      <th>Revenue</th>\n",
              "    </tr>\n",
              "    <tr>\n",
              "      <th>date_of_infraction</th>\n",
              "      <th></th>\n",
              "    </tr>\n",
              "  </thead>\n",
              "  <tbody>\n",
              "    <tr>\n",
              "      <th>2015-01-01</th>\n",
              "      <td>79975</td>\n",
              "    </tr>\n",
              "    <tr>\n",
              "      <th>2015-01-02</th>\n",
              "      <td>315130</td>\n",
              "    </tr>\n",
              "    <tr>\n",
              "      <th>2015-01-03</th>\n",
              "      <td>194880</td>\n",
              "    </tr>\n",
              "  </tbody>\n",
              "</table>\n",
              "</div>"
            ],
            "text/plain": [
              "                    Revenue\n",
              "date_of_infraction         \n",
              "2015-01-01            79975\n",
              "2015-01-02           315130\n",
              "2015-01-03           194880"
            ]
          },
          "metadata": {
            "tags": []
          },
          "execution_count": 13
        }
      ]
    },
    {
      "cell_type": "code",
      "metadata": {
        "id": "yx-eNtA1vzi0",
        "colab_type": "code",
        "colab": {
          "base_uri": "https://localhost:8080/",
          "height": 52
        },
        "outputId": "45f33238-ef7c-4b4a-b8c2-efb4a768e8ae"
      },
      "source": [
        "dfs.dtypes"
      ],
      "execution_count": 10,
      "outputs": [
        {
          "output_type": "execute_result",
          "data": {
            "text/plain": [
              "Revenue    int64\n",
              "dtype: object"
            ]
          },
          "metadata": {
            "tags": []
          },
          "execution_count": 10
        }
      ]
    },
    {
      "cell_type": "markdown",
      "metadata": {
        "id": "eKZK4CXLq9ID",
        "colab_type": "text"
      },
      "source": [
        "## Additional data - Weather, Holidays and Seasons"
      ]
    },
    {
      "cell_type": "markdown",
      "metadata": {
        "id": "U8h1ej6gs6KK",
        "colab_type": "text"
      },
      "source": [
        "Data sources are indicated above. Some cleaning of this data in excel."
      ]
    },
    {
      "cell_type": "code",
      "metadata": {
        "id": "aZYtoFVZ9aRE",
        "colab_type": "code",
        "colab": {
          "base_uri": "https://localhost:8080/",
          "height": 476
        },
        "outputId": "3cfb1797-13b9-43c6-b7cc-e8033ee60e75"
      },
      "source": [
        "# Loading from drive\n",
        "Data = pd.read_csv('/content/gdrive/My Drive/Toronto_weather_and_holidays.csv', delimiter=',', parse_dates=True)\n",
        "\n",
        "# Set date as index\n",
        "\n",
        "Data['DATE'] = pd.to_datetime(Data[['Year', 'Month', 'Day']])\n",
        "Data = Data.set_index('DATE')\n",
        "Data.pop('Date')\n",
        "Data.head(3)"
      ],
      "execution_count": 16,
      "outputs": [
        {
          "output_type": "error",
          "ename": "FileNotFoundError",
          "evalue": "ignored",
          "traceback": [
            "\u001b[0;31m---------------------------------------------------------------------------\u001b[0m",
            "\u001b[0;31mFileNotFoundError\u001b[0m                         Traceback (most recent call last)",
            "\u001b[0;32m<ipython-input-16-93140195ca1d>\u001b[0m in \u001b[0;36m<module>\u001b[0;34m()\u001b[0m\n\u001b[1;32m      1\u001b[0m \u001b[0;31m# Loading from drive\u001b[0m\u001b[0;34m\u001b[0m\u001b[0;34m\u001b[0m\u001b[0;34m\u001b[0m\u001b[0m\n\u001b[0;32m----> 2\u001b[0;31m \u001b[0mData\u001b[0m \u001b[0;34m=\u001b[0m \u001b[0mpd\u001b[0m\u001b[0;34m.\u001b[0m\u001b[0mread_csv\u001b[0m\u001b[0;34m(\u001b[0m\u001b[0;34m'/content/gdrive/My Drive/Toronto_weather_and_holidays.csv'\u001b[0m\u001b[0;34m,\u001b[0m \u001b[0mdelimiter\u001b[0m\u001b[0;34m=\u001b[0m\u001b[0;34m','\u001b[0m\u001b[0;34m,\u001b[0m \u001b[0mparse_dates\u001b[0m\u001b[0;34m=\u001b[0m\u001b[0;32mTrue\u001b[0m\u001b[0;34m)\u001b[0m\u001b[0;34m\u001b[0m\u001b[0;34m\u001b[0m\u001b[0m\n\u001b[0m\u001b[1;32m      3\u001b[0m \u001b[0;34m\u001b[0m\u001b[0m\n\u001b[1;32m      4\u001b[0m \u001b[0;31m# Set date as index\u001b[0m\u001b[0;34m\u001b[0m\u001b[0;34m\u001b[0m\u001b[0;34m\u001b[0m\u001b[0m\n\u001b[1;32m      5\u001b[0m \u001b[0;34m\u001b[0m\u001b[0m\n",
            "\u001b[0;32m/usr/local/lib/python3.6/dist-packages/pandas/io/parsers.py\u001b[0m in \u001b[0;36mparser_f\u001b[0;34m(filepath_or_buffer, sep, delimiter, header, names, index_col, usecols, squeeze, prefix, mangle_dupe_cols, dtype, engine, converters, true_values, false_values, skipinitialspace, skiprows, skipfooter, nrows, na_values, keep_default_na, na_filter, verbose, skip_blank_lines, parse_dates, infer_datetime_format, keep_date_col, date_parser, dayfirst, cache_dates, iterator, chunksize, compression, thousands, decimal, lineterminator, quotechar, quoting, doublequote, escapechar, comment, encoding, dialect, error_bad_lines, warn_bad_lines, delim_whitespace, low_memory, memory_map, float_precision)\u001b[0m\n\u001b[1;32m    674\u001b[0m         )\n\u001b[1;32m    675\u001b[0m \u001b[0;34m\u001b[0m\u001b[0m\n\u001b[0;32m--> 676\u001b[0;31m         \u001b[0;32mreturn\u001b[0m \u001b[0m_read\u001b[0m\u001b[0;34m(\u001b[0m\u001b[0mfilepath_or_buffer\u001b[0m\u001b[0;34m,\u001b[0m \u001b[0mkwds\u001b[0m\u001b[0;34m)\u001b[0m\u001b[0;34m\u001b[0m\u001b[0;34m\u001b[0m\u001b[0m\n\u001b[0m\u001b[1;32m    677\u001b[0m \u001b[0;34m\u001b[0m\u001b[0m\n\u001b[1;32m    678\u001b[0m     \u001b[0mparser_f\u001b[0m\u001b[0;34m.\u001b[0m\u001b[0m__name__\u001b[0m \u001b[0;34m=\u001b[0m \u001b[0mname\u001b[0m\u001b[0;34m\u001b[0m\u001b[0;34m\u001b[0m\u001b[0m\n",
            "\u001b[0;32m/usr/local/lib/python3.6/dist-packages/pandas/io/parsers.py\u001b[0m in \u001b[0;36m_read\u001b[0;34m(filepath_or_buffer, kwds)\u001b[0m\n\u001b[1;32m    446\u001b[0m \u001b[0;34m\u001b[0m\u001b[0m\n\u001b[1;32m    447\u001b[0m     \u001b[0;31m# Create the parser.\u001b[0m\u001b[0;34m\u001b[0m\u001b[0;34m\u001b[0m\u001b[0;34m\u001b[0m\u001b[0m\n\u001b[0;32m--> 448\u001b[0;31m     \u001b[0mparser\u001b[0m \u001b[0;34m=\u001b[0m \u001b[0mTextFileReader\u001b[0m\u001b[0;34m(\u001b[0m\u001b[0mfp_or_buf\u001b[0m\u001b[0;34m,\u001b[0m \u001b[0;34m**\u001b[0m\u001b[0mkwds\u001b[0m\u001b[0;34m)\u001b[0m\u001b[0;34m\u001b[0m\u001b[0;34m\u001b[0m\u001b[0m\n\u001b[0m\u001b[1;32m    449\u001b[0m \u001b[0;34m\u001b[0m\u001b[0m\n\u001b[1;32m    450\u001b[0m     \u001b[0;32mif\u001b[0m \u001b[0mchunksize\u001b[0m \u001b[0;32mor\u001b[0m \u001b[0miterator\u001b[0m\u001b[0;34m:\u001b[0m\u001b[0;34m\u001b[0m\u001b[0;34m\u001b[0m\u001b[0m\n",
            "\u001b[0;32m/usr/local/lib/python3.6/dist-packages/pandas/io/parsers.py\u001b[0m in \u001b[0;36m__init__\u001b[0;34m(self, f, engine, **kwds)\u001b[0m\n\u001b[1;32m    878\u001b[0m             \u001b[0mself\u001b[0m\u001b[0;34m.\u001b[0m\u001b[0moptions\u001b[0m\u001b[0;34m[\u001b[0m\u001b[0;34m\"has_index_names\"\u001b[0m\u001b[0;34m]\u001b[0m \u001b[0;34m=\u001b[0m \u001b[0mkwds\u001b[0m\u001b[0;34m[\u001b[0m\u001b[0;34m\"has_index_names\"\u001b[0m\u001b[0;34m]\u001b[0m\u001b[0;34m\u001b[0m\u001b[0;34m\u001b[0m\u001b[0m\n\u001b[1;32m    879\u001b[0m \u001b[0;34m\u001b[0m\u001b[0m\n\u001b[0;32m--> 880\u001b[0;31m         \u001b[0mself\u001b[0m\u001b[0;34m.\u001b[0m\u001b[0m_make_engine\u001b[0m\u001b[0;34m(\u001b[0m\u001b[0mself\u001b[0m\u001b[0;34m.\u001b[0m\u001b[0mengine\u001b[0m\u001b[0;34m)\u001b[0m\u001b[0;34m\u001b[0m\u001b[0;34m\u001b[0m\u001b[0m\n\u001b[0m\u001b[1;32m    881\u001b[0m \u001b[0;34m\u001b[0m\u001b[0m\n\u001b[1;32m    882\u001b[0m     \u001b[0;32mdef\u001b[0m \u001b[0mclose\u001b[0m\u001b[0;34m(\u001b[0m\u001b[0mself\u001b[0m\u001b[0;34m)\u001b[0m\u001b[0;34m:\u001b[0m\u001b[0;34m\u001b[0m\u001b[0;34m\u001b[0m\u001b[0m\n",
            "\u001b[0;32m/usr/local/lib/python3.6/dist-packages/pandas/io/parsers.py\u001b[0m in \u001b[0;36m_make_engine\u001b[0;34m(self, engine)\u001b[0m\n\u001b[1;32m   1112\u001b[0m     \u001b[0;32mdef\u001b[0m \u001b[0m_make_engine\u001b[0m\u001b[0;34m(\u001b[0m\u001b[0mself\u001b[0m\u001b[0;34m,\u001b[0m \u001b[0mengine\u001b[0m\u001b[0;34m=\u001b[0m\u001b[0;34m\"c\"\u001b[0m\u001b[0;34m)\u001b[0m\u001b[0;34m:\u001b[0m\u001b[0;34m\u001b[0m\u001b[0;34m\u001b[0m\u001b[0m\n\u001b[1;32m   1113\u001b[0m         \u001b[0;32mif\u001b[0m \u001b[0mengine\u001b[0m \u001b[0;34m==\u001b[0m \u001b[0;34m\"c\"\u001b[0m\u001b[0;34m:\u001b[0m\u001b[0;34m\u001b[0m\u001b[0;34m\u001b[0m\u001b[0m\n\u001b[0;32m-> 1114\u001b[0;31m             \u001b[0mself\u001b[0m\u001b[0;34m.\u001b[0m\u001b[0m_engine\u001b[0m \u001b[0;34m=\u001b[0m \u001b[0mCParserWrapper\u001b[0m\u001b[0;34m(\u001b[0m\u001b[0mself\u001b[0m\u001b[0;34m.\u001b[0m\u001b[0mf\u001b[0m\u001b[0;34m,\u001b[0m \u001b[0;34m**\u001b[0m\u001b[0mself\u001b[0m\u001b[0;34m.\u001b[0m\u001b[0moptions\u001b[0m\u001b[0;34m)\u001b[0m\u001b[0;34m\u001b[0m\u001b[0;34m\u001b[0m\u001b[0m\n\u001b[0m\u001b[1;32m   1115\u001b[0m         \u001b[0;32melse\u001b[0m\u001b[0;34m:\u001b[0m\u001b[0;34m\u001b[0m\u001b[0;34m\u001b[0m\u001b[0m\n\u001b[1;32m   1116\u001b[0m             \u001b[0;32mif\u001b[0m \u001b[0mengine\u001b[0m \u001b[0;34m==\u001b[0m \u001b[0;34m\"python\"\u001b[0m\u001b[0;34m:\u001b[0m\u001b[0;34m\u001b[0m\u001b[0;34m\u001b[0m\u001b[0m\n",
            "\u001b[0;32m/usr/local/lib/python3.6/dist-packages/pandas/io/parsers.py\u001b[0m in \u001b[0;36m__init__\u001b[0;34m(self, src, **kwds)\u001b[0m\n\u001b[1;32m   1889\u001b[0m         \u001b[0mkwds\u001b[0m\u001b[0;34m[\u001b[0m\u001b[0;34m\"usecols\"\u001b[0m\u001b[0;34m]\u001b[0m \u001b[0;34m=\u001b[0m \u001b[0mself\u001b[0m\u001b[0;34m.\u001b[0m\u001b[0musecols\u001b[0m\u001b[0;34m\u001b[0m\u001b[0;34m\u001b[0m\u001b[0m\n\u001b[1;32m   1890\u001b[0m \u001b[0;34m\u001b[0m\u001b[0m\n\u001b[0;32m-> 1891\u001b[0;31m         \u001b[0mself\u001b[0m\u001b[0;34m.\u001b[0m\u001b[0m_reader\u001b[0m \u001b[0;34m=\u001b[0m \u001b[0mparsers\u001b[0m\u001b[0;34m.\u001b[0m\u001b[0mTextReader\u001b[0m\u001b[0;34m(\u001b[0m\u001b[0msrc\u001b[0m\u001b[0;34m,\u001b[0m \u001b[0;34m**\u001b[0m\u001b[0mkwds\u001b[0m\u001b[0;34m)\u001b[0m\u001b[0;34m\u001b[0m\u001b[0;34m\u001b[0m\u001b[0m\n\u001b[0m\u001b[1;32m   1892\u001b[0m         \u001b[0mself\u001b[0m\u001b[0;34m.\u001b[0m\u001b[0munnamed_cols\u001b[0m \u001b[0;34m=\u001b[0m \u001b[0mself\u001b[0m\u001b[0;34m.\u001b[0m\u001b[0m_reader\u001b[0m\u001b[0;34m.\u001b[0m\u001b[0munnamed_cols\u001b[0m\u001b[0;34m\u001b[0m\u001b[0;34m\u001b[0m\u001b[0m\n\u001b[1;32m   1893\u001b[0m \u001b[0;34m\u001b[0m\u001b[0m\n",
            "\u001b[0;32mpandas/_libs/parsers.pyx\u001b[0m in \u001b[0;36mpandas._libs.parsers.TextReader.__cinit__\u001b[0;34m()\u001b[0m\n",
            "\u001b[0;32mpandas/_libs/parsers.pyx\u001b[0m in \u001b[0;36mpandas._libs.parsers.TextReader._setup_parser_source\u001b[0;34m()\u001b[0m\n",
            "\u001b[0;31mFileNotFoundError\u001b[0m: [Errno 2] File /content/gdrive/My Drive/Toronto_weather_and_holidays.csv does not exist: '/content/gdrive/My Drive/Toronto_weather_and_holidays.csv'"
          ]
        }
      ]
    },
    {
      "cell_type": "markdown",
      "metadata": {
        "id": "uoS1WMZDF4tL",
        "colab_type": "text"
      },
      "source": [
        "Combining the two datasets form our final dataset"
      ]
    },
    {
      "cell_type": "code",
      "metadata": {
        "id": "WZdYpw4gLjHJ",
        "colab_type": "code",
        "colab": {
          "base_uri": "https://localhost:8080/",
          "height": 203
        },
        "outputId": "8a9eeb97-9d52-4fe0-9b69-d0edd87b5f2a"
      },
      "source": [
        "# Pd.merge on date combines horizontally and also implements cross join if\n",
        "df = pd.merge(Data, dfs, left_index=True, right_index=True)\n",
        "df.head(3)\n"
      ],
      "execution_count": 15,
      "outputs": [
        {
          "output_type": "error",
          "ename": "NameError",
          "evalue": "ignored",
          "traceback": [
            "\u001b[0;31m---------------------------------------------------------------------------\u001b[0m",
            "\u001b[0;31mNameError\u001b[0m                                 Traceback (most recent call last)",
            "\u001b[0;32m<ipython-input-15-034d8ecd0621>\u001b[0m in \u001b[0;36m<module>\u001b[0;34m()\u001b[0m\n\u001b[1;32m      1\u001b[0m \u001b[0;31m# Pd.merge on date combines horizontally and also implements cross join if\u001b[0m\u001b[0;34m\u001b[0m\u001b[0;34m\u001b[0m\u001b[0;34m\u001b[0m\u001b[0m\n\u001b[0;32m----> 2\u001b[0;31m \u001b[0mdf\u001b[0m \u001b[0;34m=\u001b[0m \u001b[0mpd\u001b[0m\u001b[0;34m.\u001b[0m\u001b[0mmerge\u001b[0m\u001b[0;34m(\u001b[0m\u001b[0mData\u001b[0m\u001b[0;34m,\u001b[0m \u001b[0mdfs\u001b[0m\u001b[0;34m,\u001b[0m \u001b[0mleft_index\u001b[0m\u001b[0;34m=\u001b[0m\u001b[0;32mTrue\u001b[0m\u001b[0;34m,\u001b[0m \u001b[0mright_index\u001b[0m\u001b[0;34m=\u001b[0m\u001b[0;32mTrue\u001b[0m\u001b[0;34m)\u001b[0m\u001b[0;34m\u001b[0m\u001b[0;34m\u001b[0m\u001b[0m\n\u001b[0m\u001b[1;32m      3\u001b[0m \u001b[0mdf\u001b[0m\u001b[0;34m.\u001b[0m\u001b[0mhead\u001b[0m\u001b[0;34m(\u001b[0m\u001b[0;36m3\u001b[0m\u001b[0;34m)\u001b[0m\u001b[0;34m\u001b[0m\u001b[0;34m\u001b[0m\u001b[0m\n",
            "\u001b[0;31mNameError\u001b[0m: name 'Data' is not defined"
          ]
        }
      ]
    },
    {
      "cell_type": "code",
      "metadata": {
        "id": "vCGpS1Ncbvjb",
        "colab_type": "code",
        "colab": {
          "base_uri": "https://localhost:8080/",
          "height": 34
        },
        "outputId": "29aa5f1e-e8e2-4563-fca0-be8abe1beaa9"
      },
      "source": [
        "df.shape"
      ],
      "execution_count": 13,
      "outputs": [
        {
          "output_type": "execute_result",
          "data": {
            "text/plain": [
              "(1461, 11)"
            ]
          },
          "metadata": {
            "tags": []
          },
          "execution_count": 13
        }
      ]
    },
    {
      "cell_type": "code",
      "metadata": {
        "id": "W7cSk21-hj9S",
        "colab_type": "code",
        "colab": {
          "base_uri": "https://localhost:8080/",
          "height": 34
        },
        "outputId": "48351549-75ac-4475-d099-0700beaec5dc"
      },
      "source": [
        "df.Revenue.min()"
      ],
      "execution_count": 15,
      "outputs": [
        {
          "output_type": "execute_result",
          "data": {
            "text/plain": [
              "25780"
            ]
          },
          "metadata": {
            "tags": []
          },
          "execution_count": 15
        }
      ]
    },
    {
      "cell_type": "code",
      "metadata": {
        "id": "eMC7y8NGI7ca",
        "colab_type": "code",
        "colab": {}
      },
      "source": [
        "# Changing holiday to categorical\n",
        "df['Is_holiday'] = df['Is_holiday'].astype('uint8')\n"
      ],
      "execution_count": 16,
      "outputs": []
    },
    {
      "cell_type": "markdown",
      "metadata": {
        "id": "VGSrm4eLvYg7",
        "colab_type": "text"
      },
      "source": [
        "Downloading data to excel to be used for power BI Analysis"
      ]
    },
    {
      "cell_type": "code",
      "metadata": {
        "id": "deuuUROHAD4y",
        "colab_type": "code",
        "colab": {}
      },
      "source": [
        "#df.to_excel(\"Toronto_Parking_Data.xlsx\", index=True, encoding='utf8')"
      ],
      "execution_count": 55,
      "outputs": []
    },
    {
      "cell_type": "code",
      "metadata": {
        "id": "_8N5gPk-2w39",
        "colab_type": "code",
        "colab": {
          "base_uri": "https://localhost:8080/",
          "height": 107
        },
        "outputId": "fefc774e-2f5c-490f-bd6e-040434682055"
      },
      "source": [
        "# This are the most important columns for our model\n",
        "df1 = df[['Month','Day','Temp', 'Rain', 'Snow', 'Precip', 'season', 'Is_holiday',  'Revenue']]\n",
        "\n",
        "\n",
        "# one-hot encoding seasons and setting a date index with the same length as our data\n",
        "df2 = pd.get_dummies(df1['season'])\n",
        "df2.set_index(keys = pd.date_range('01/01/2015','12/31/2018', periods=1461))\n",
        "\n",
        "# Merging the dummies dataset and the real dataset using index\n",
        "df3 = pd.merge(df1,df2, left_index=True, right_index=True)\n",
        "\n",
        "# Don't need seasons anymore\n",
        "df3.pop('season')\n",
        "df3.head(2)\n"
      ],
      "execution_count": 18,
      "outputs": [
        {
          "output_type": "execute_result",
          "data": {
            "text/html": [
              "<div>\n",
              "<style scoped>\n",
              "    .dataframe tbody tr th:only-of-type {\n",
              "        vertical-align: middle;\n",
              "    }\n",
              "\n",
              "    .dataframe tbody tr th {\n",
              "        vertical-align: top;\n",
              "    }\n",
              "\n",
              "    .dataframe thead th {\n",
              "        text-align: right;\n",
              "    }\n",
              "</style>\n",
              "<table border=\"1\" class=\"dataframe\">\n",
              "  <thead>\n",
              "    <tr style=\"text-align: right;\">\n",
              "      <th></th>\n",
              "      <th>Month</th>\n",
              "      <th>Day</th>\n",
              "      <th>Temp</th>\n",
              "      <th>Rain</th>\n",
              "      <th>Snow</th>\n",
              "      <th>Precip</th>\n",
              "      <th>Is_holiday</th>\n",
              "      <th>Revenue</th>\n",
              "      <th>Fall</th>\n",
              "      <th>Spring</th>\n",
              "      <th>Summer</th>\n",
              "      <th>Winter</th>\n",
              "    </tr>\n",
              "  </thead>\n",
              "  <tbody>\n",
              "    <tr>\n",
              "      <th>2018-01-01</th>\n",
              "      <td>1</td>\n",
              "      <td>1</td>\n",
              "      <td>-15</td>\n",
              "      <td>0</td>\n",
              "      <td>0</td>\n",
              "      <td>0</td>\n",
              "      <td>1</td>\n",
              "      <td>63490</td>\n",
              "      <td>0</td>\n",
              "      <td>0</td>\n",
              "      <td>0</td>\n",
              "      <td>1</td>\n",
              "    </tr>\n",
              "    <tr>\n",
              "      <th>2018-01-02</th>\n",
              "      <td>1</td>\n",
              "      <td>2</td>\n",
              "      <td>-11</td>\n",
              "      <td>0</td>\n",
              "      <td>1</td>\n",
              "      <td>1</td>\n",
              "      <td>0</td>\n",
              "      <td>285635</td>\n",
              "      <td>0</td>\n",
              "      <td>0</td>\n",
              "      <td>0</td>\n",
              "      <td>1</td>\n",
              "    </tr>\n",
              "  </tbody>\n",
              "</table>\n",
              "</div>"
            ],
            "text/plain": [
              "            Month  Day  Temp  Rain  Snow  ...  Revenue  Fall  Spring  Summer  Winter\n",
              "2018-01-01      1    1   -15     0     0  ...    63490     0       0       0       1\n",
              "2018-01-02      1    2   -11     0     1  ...   285635     0       0       0       1\n",
              "\n",
              "[2 rows x 12 columns]"
            ]
          },
          "metadata": {
            "tags": []
          },
          "execution_count": 18
        }
      ]
    },
    {
      "cell_type": "code",
      "metadata": {
        "id": "gkm0Ff9-pY8g",
        "colab_type": "code",
        "colab": {
          "base_uri": "https://localhost:8080/",
          "height": 247
        },
        "outputId": "6e81164d-4411-4b81-906b-b4b8d3c4b510"
      },
      "source": [
        "# datatypes look good\n",
        "df3.dtypes"
      ],
      "execution_count": 135,
      "outputs": [
        {
          "output_type": "execute_result",
          "data": {
            "text/plain": [
              "Month         int64\n",
              "Day           int64\n",
              "Temp          int64\n",
              "Rain          int64\n",
              "Snow          int64\n",
              "Precip        int64\n",
              "Is_holiday    uint8\n",
              "Revenue       int64\n",
              "Fall          uint8\n",
              "Spring        uint8\n",
              "Summer        uint8\n",
              "Winter        uint8\n",
              "dtype: object"
            ]
          },
          "metadata": {
            "tags": []
          },
          "execution_count": 135
        }
      ]
    },
    {
      "cell_type": "code",
      "metadata": {
        "id": "Cgcpvvq38zF0",
        "colab_type": "code",
        "colab": {
          "base_uri": "https://localhost:8080/",
          "height": 247
        },
        "outputId": "dc9d96f5-8cf8-4bf3-8e00-b7b524b53660"
      },
      "source": [
        "# No null values, Data looks good to try some models\n",
        "df3.isna().sum()"
      ],
      "execution_count": 136,
      "outputs": [
        {
          "output_type": "execute_result",
          "data": {
            "text/plain": [
              "Month         0\n",
              "Day           0\n",
              "Temp          0\n",
              "Rain          0\n",
              "Snow          0\n",
              "Precip        0\n",
              "Is_holiday    0\n",
              "Revenue       0\n",
              "Fall          0\n",
              "Spring        0\n",
              "Summer        0\n",
              "Winter        0\n",
              "dtype: int64"
            ]
          },
          "metadata": {
            "tags": []
          },
          "execution_count": 136
        }
      ]
    },
    {
      "cell_type": "markdown",
      "metadata": {
        "id": "jLE8UKqBxXCs",
        "colab_type": "text"
      },
      "source": [
        "## Exploratory Analysis"
      ]
    },
    {
      "cell_type": "markdown",
      "metadata": {
        "id": "ns9NX1k12S4E",
        "colab_type": "text"
      },
      "source": [
        "This section will help me decide which model is best for this problem"
      ]
    },
    {
      "cell_type": "code",
      "metadata": {
        "id": "_qelNLS7xVuH",
        "colab_type": "code",
        "colab": {
          "base_uri": "https://localhost:8080/",
          "height": 112
        },
        "outputId": "edbe0ffa-5607-4643-ae7f-5fb9b6cb3089"
      },
      "source": [
        "import matplotlib.pyplot as plt\n",
        "import seaborn as sns\n",
        "\n",
        "columns = ['Month', 'Day', 'Temp', 'Rain', 'Snow', 'Precip', 'Is_holiday', 'Fall', 'Spring', 'Summer', 'Winter']\n",
        "\n",
        "sns.pairplot(df3, x_vars = columns , \n",
        "             y_vars = 'Revenue', height = 2);"
      ],
      "execution_count": 20,
      "outputs": [
        {
          "output_type": "display_data",
          "data": {
            "image/png": "[encoded data removed]",
            "text/plain": [
              "<Figure size 1584x144 with 11 Axes>"
            ]
          },
          "metadata": {
            "tags": [],
            "needs_background": "light"
          }
        }
      ]
    },
    {
      "cell_type": "markdown",
      "metadata": {
        "id": "pktwwF8r2c80",
        "colab_type": "text"
      },
      "source": [
        "There is some linear relationship between weather conditions and revenue. For instance, as precipitation increases revenue collected per day seems to be larger as shown by the dots trending to upper left. However, dots are less clustered showing that there are fewer days with that amount of predipitation.\n",
        "\n",
        "There is almost no relationship between revenue collected and day of the month. Day of the week could be different but we will have to encode another 7 different variables."
      ]
    },
    {
      "cell_type": "code",
      "metadata": {
        "id": "SBDJEE8PxuaS",
        "colab_type": "code",
        "colab": {}
      },
      "source": [
        ""
      ],
      "execution_count": null,
      "outputs": []
    },
    {
      "cell_type": "markdown",
      "metadata": {
        "id": "cqzXTJRR36q6",
        "colab_type": "text"
      },
      "source": [
        "# Modelling"
      ]
    },
    {
      "cell_type": "markdown",
      "metadata": {
        "id": "JWFclvE54BA_",
        "colab_type": "text"
      },
      "source": [
        "Even though my analysis above indicate indicate that there is some linear relationship between revenue and some some features, this data perfomed very bad on linear models even after regularization. The R2 for the best linear model was 0.2815.\n",
        "\n",
        "After testing a few other models such as SVR I decided to use a LSTM time series forecasting model, which performed pretty well as shown below.\n"
      ]
    },
    {
      "cell_type": "markdown",
      "metadata": {
        "id": "x4311ZffdrVK",
        "colab_type": "text"
      },
      "source": [
        "## LSTM MODEL"
      ]
    },
    {
      "cell_type": "markdown",
      "metadata": {
        "id": "cZ5bKxx_HpUO",
        "colab_type": "text"
      },
      "source": [
        "LSTM is ideal for this problem because we are trying to predict future values using current and past values.\n",
        "\n",
        "LSTM can remember values from the past when they are important and forget when they are no longer important. This is great for example as seasons change, our model will no not to put so much weight on conditions such as snow or precipitation."
      ]
    },
    {
      "cell_type": "code",
      "metadata": {
        "id": "XK_JJVNRuSKS",
        "colab_type": "code",
        "colab": {}
      },
      "source": [
        "# Rearranging columns for prediction\n",
        "\n",
        "df4 = df3[['Temp', 'Rain', 'Snow', 'Precip', 'Is_holiday', 'Fall', 'Spring', 'Summer', 'Winter', 'Revenue']]\n"
      ],
      "execution_count": 70,
      "outputs": []
    },
    {
      "cell_type": "code",
      "metadata": {
        "id": "WDc_vp-S1PdL",
        "colab_type": "code",
        "colab": {
          "base_uri": "https://localhost:8080/",
          "height": 137
        },
        "outputId": "bb854496-4e7a-42d5-8936-7d3e8450d084"
      },
      "source": [
        "# This change to my dataset is implemented after I realized my data is too small for the model\n",
        "# I am downscaling revenue to minute and then averaging daily revenue total to minute average per minute per day\n",
        "# I already assumed other factors don't change across the day\n",
        "df4 = df4.resample('1Min').ffill()\n",
        "df4['Revenue'] = df4['Revenue']/(24*60)\n",
        "df4.head(3)\n"
      ],
      "execution_count": 47,
      "outputs": [
        {
          "output_type": "execute_result",
          "data": {
            "text/html": [
              "<div>\n",
              "<style scoped>\n",
              "    .dataframe tbody tr th:only-of-type {\n",
              "        vertical-align: middle;\n",
              "    }\n",
              "\n",
              "    .dataframe tbody tr th {\n",
              "        vertical-align: top;\n",
              "    }\n",
              "\n",
              "    .dataframe thead th {\n",
              "        text-align: right;\n",
              "    }\n",
              "</style>\n",
              "<table border=\"1\" class=\"dataframe\">\n",
              "  <thead>\n",
              "    <tr style=\"text-align: right;\">\n",
              "      <th></th>\n",
              "      <th>Temp</th>\n",
              "      <th>Rain</th>\n",
              "      <th>Snow</th>\n",
              "      <th>Precip</th>\n",
              "      <th>Is_holiday</th>\n",
              "      <th>Fall</th>\n",
              "      <th>Spring</th>\n",
              "      <th>Summer</th>\n",
              "      <th>Winter</th>\n",
              "      <th>Revenue</th>\n",
              "    </tr>\n",
              "  </thead>\n",
              "  <tbody>\n",
              "    <tr>\n",
              "      <th>2015-01-01 00:00:00</th>\n",
              "      <td>-5</td>\n",
              "      <td>0</td>\n",
              "      <td>0</td>\n",
              "      <td>0</td>\n",
              "      <td>1</td>\n",
              "      <td>0</td>\n",
              "      <td>0</td>\n",
              "      <td>0</td>\n",
              "      <td>1</td>\n",
              "      <td>55.538194</td>\n",
              "    </tr>\n",
              "    <tr>\n",
              "      <th>2015-01-01 00:01:00</th>\n",
              "      <td>-5</td>\n",
              "      <td>0</td>\n",
              "      <td>0</td>\n",
              "      <td>0</td>\n",
              "      <td>1</td>\n",
              "      <td>0</td>\n",
              "      <td>0</td>\n",
              "      <td>0</td>\n",
              "      <td>1</td>\n",
              "      <td>55.538194</td>\n",
              "    </tr>\n",
              "    <tr>\n",
              "      <th>2015-01-01 00:02:00</th>\n",
              "      <td>-5</td>\n",
              "      <td>0</td>\n",
              "      <td>0</td>\n",
              "      <td>0</td>\n",
              "      <td>1</td>\n",
              "      <td>0</td>\n",
              "      <td>0</td>\n",
              "      <td>0</td>\n",
              "      <td>1</td>\n",
              "      <td>55.538194</td>\n",
              "    </tr>\n",
              "  </tbody>\n",
              "</table>\n",
              "</div>"
            ],
            "text/plain": [
              "                     Temp  Rain  Snow  ...  Summer  Winter    Revenue\n",
              "2015-01-01 00:00:00    -5     0     0  ...       0       1  55.538194\n",
              "2015-01-01 00:01:00    -5     0     0  ...       0       1  55.538194\n",
              "2015-01-01 00:02:00    -5     0     0  ...       0       1  55.538194\n",
              "\n",
              "[3 rows x 10 columns]"
            ]
          },
          "metadata": {
            "tags": []
          },
          "execution_count": 47
        }
      ]
    },
    {
      "cell_type": "code",
      "metadata": {
        "id": "nw7UCFyz5da7",
        "colab_type": "code",
        "colab": {
          "base_uri": "https://localhost:8080/",
          "height": 34
        },
        "outputId": "3c24afde-a006-4e4b-f225-8de78ff1b7c7"
      },
      "source": [
        "# Now we have a much larger dataset\n",
        "df4.shape"
      ],
      "execution_count": 48,
      "outputs": [
        {
          "output_type": "execute_result",
          "data": {
            "text/plain": [
              "(2102401, 10)"
            ]
          },
          "metadata": {
            "tags": []
          },
          "execution_count": 48
        }
      ]
    },
    {
      "cell_type": "markdown",
      "metadata": {
        "id": "DJcEAOxPhfqV",
        "colab_type": "text"
      },
      "source": [
        "To apply LSTM we need to convert our time_series data to supervised learning problem"
      ]
    },
    {
      "cell_type": "markdown",
      "metadata": {
        "id": "0c4BKmtdJOtb",
        "colab_type": "text"
      },
      "source": [
        "This long code does the following.\n",
        "\n",
        "1. Takes our data and naively forecasts the next value for each column by simply shifting the current value to one period in future.\n",
        "\n",
        "   i.e we are predicting values at time (t) & t(1-n) using past values. for both outputs and inputs.\n",
        "2. Aggegates the columns and deletes null values created by shifting values forward.\n",
        "3. Does this for each column so not only are we predicting revenue using past values we are also predicting rain, temp, snow using past values."
      ]
    },
    {
      "cell_type": "code",
      "metadata": {
        "id": "hNQYSytehdSP",
        "colab_type": "code",
        "colab": {}
      },
      "source": [
        "\n",
        "# prepare data for lstm\n",
        "from pandas import concat\n",
        "from sklearn.preprocessing import MinMaxScaler\n",
        "from pandas import DataFrame\n",
        "from sklearn.model_selection import train_test_split\n",
        " \n",
        "# convert series to supervised learning\n",
        "\n",
        "def dataframe_to_supervised(data, n_in=1, n_out=1, dropnan=True):\n",
        "# n_in, n_out define the lag of input and output, I can increase if I want to predict deeper into the future\n",
        "\tn_vars = 1 if type(data) is list else data.shape[1]\n",
        "\tdf = DataFrame(data)\n",
        "\tcols, names = list(), list()\n",
        " \n",
        "\t# input sequence (t-n, ... t-1)\n",
        "\tfor i in range(n_in, 0, -1):\n",
        "\t\tcols.append(df.shift(i))\n",
        "\t\tnames += [('Col%d(t-%d)' % (j+1, i)) for j in range(n_vars)]\n",
        "\n",
        "\t# forecast sequence (t, t+1, ... t+n)\n",
        "\tfor i in range(0, n_out):\n",
        "\t\tcols.append(df.shift(-i))\n",
        "\t\tif i == 0:\n",
        "\t\t\tnames += [('Col%d(t)' % (j+1)) for j in range(n_vars)]\n",
        "\t\telse:\n",
        "\t\t\tnames += [('Col%d(t+%d)' % (j+1, i)) for j in range(n_vars)]\n",
        "\t\n",
        "  # put it all together\n",
        "\tagg = concat(cols, axis=1)\n",
        "\tagg.columns = names\n",
        "\t\n",
        "  # drop rows with NaN values\n",
        "\tif dropnan:\n",
        "\t\tagg.dropna(inplace=True)\n",
        "\treturn agg\n",
        " "
      ],
      "execution_count": 71,
      "outputs": []
    },
    {
      "cell_type": "code",
      "metadata": {
        "id": "59HK4vyk-Ve1",
        "colab_type": "code",
        "colab": {}
      },
      "source": [
        "# Convert  dataframe to numpy array to easily normalize everything\n",
        "values = df4.values \n",
        "\n",
        "# Make data float for normalization\n",
        "values = values.astype('float32')\n",
        "\n",
        "# normalize features for model convinience\n",
        "# model does not work well with large features\n",
        "scaler = MinMaxScaler(feature_range=(0, 1))\n",
        "scaled = scaler.fit_transform(values)"
      ],
      "execution_count": 72,
      "outputs": []
    },
    {
      "cell_type": "code",
      "metadata": {
        "id": "KioyCBmtkm9P",
        "colab_type": "code",
        "colab": {
          "base_uri": "https://localhost:8080/",
          "height": 174
        },
        "outputId": "db473397-3320-4449-ef7f-6633520a0d93"
      },
      "source": [
        "# Transforming our dataset into a supervised learning problem using the function\n",
        "# Columns Colx(t-x) represented the forecated values for Colx(t) for the dataset\n",
        "\n",
        "df5 = dataframe_to_supervised(scaled)\n",
        "df5.head(3)"
      ],
      "execution_count": 73,
      "outputs": [
        {
          "output_type": "execute_result",
          "data": {
            "text/html": [
              "<div>\n",
              "<style scoped>\n",
              "    .dataframe tbody tr th:only-of-type {\n",
              "        vertical-align: middle;\n",
              "    }\n",
              "\n",
              "    .dataframe tbody tr th {\n",
              "        vertical-align: top;\n",
              "    }\n",
              "\n",
              "    .dataframe thead th {\n",
              "        text-align: right;\n",
              "    }\n",
              "</style>\n",
              "<table border=\"1\" class=\"dataframe\">\n",
              "  <thead>\n",
              "    <tr style=\"text-align: right;\">\n",
              "      <th></th>\n",
              "      <th>Col1(t-1)</th>\n",
              "      <th>Col2(t-1)</th>\n",
              "      <th>Col3(t-1)</th>\n",
              "      <th>Col4(t-1)</th>\n",
              "      <th>Col5(t-1)</th>\n",
              "      <th>Col6(t-1)</th>\n",
              "      <th>Col7(t-1)</th>\n",
              "      <th>Col8(t-1)</th>\n",
              "      <th>Col9(t-1)</th>\n",
              "      <th>Col10(t-1)</th>\n",
              "      <th>Col1(t)</th>\n",
              "      <th>Col2(t)</th>\n",
              "      <th>Col3(t)</th>\n",
              "      <th>Col4(t)</th>\n",
              "      <th>Col5(t)</th>\n",
              "      <th>Col6(t)</th>\n",
              "      <th>Col7(t)</th>\n",
              "      <th>Col8(t)</th>\n",
              "      <th>Col9(t)</th>\n",
              "      <th>Col10(t)</th>\n",
              "    </tr>\n",
              "  </thead>\n",
              "  <tbody>\n",
              "    <tr>\n",
              "      <th>1</th>\n",
              "      <td>0.132075</td>\n",
              "      <td>0.0</td>\n",
              "      <td>0.0000</td>\n",
              "      <td>0.000000</td>\n",
              "      <td>1.0</td>\n",
              "      <td>0.0</td>\n",
              "      <td>0.0</td>\n",
              "      <td>0.0</td>\n",
              "      <td>1.0</td>\n",
              "      <td>0.088383</td>\n",
              "      <td>0.207547</td>\n",
              "      <td>0.0</td>\n",
              "      <td>0.0625</td>\n",
              "      <td>0.022222</td>\n",
              "      <td>0.0</td>\n",
              "      <td>0.0</td>\n",
              "      <td>0.0</td>\n",
              "      <td>0.0</td>\n",
              "      <td>1.0</td>\n",
              "      <td>0.609038</td>\n",
              "    </tr>\n",
              "    <tr>\n",
              "      <th>2</th>\n",
              "      <td>0.207547</td>\n",
              "      <td>0.0</td>\n",
              "      <td>0.0625</td>\n",
              "      <td>0.022222</td>\n",
              "      <td>0.0</td>\n",
              "      <td>0.0</td>\n",
              "      <td>0.0</td>\n",
              "      <td>0.0</td>\n",
              "      <td>1.0</td>\n",
              "      <td>0.609038</td>\n",
              "      <td>0.226415</td>\n",
              "      <td>0.0</td>\n",
              "      <td>0.0000</td>\n",
              "      <td>0.000000</td>\n",
              "      <td>0.0</td>\n",
              "      <td>0.0</td>\n",
              "      <td>0.0</td>\n",
              "      <td>0.0</td>\n",
              "      <td>1.0</td>\n",
              "      <td>0.591424</td>\n",
              "    </tr>\n",
              "    <tr>\n",
              "      <th>3</th>\n",
              "      <td>0.226415</td>\n",
              "      <td>0.0</td>\n",
              "      <td>0.0000</td>\n",
              "      <td>0.000000</td>\n",
              "      <td>0.0</td>\n",
              "      <td>0.0</td>\n",
              "      <td>0.0</td>\n",
              "      <td>0.0</td>\n",
              "      <td>1.0</td>\n",
              "      <td>0.591424</td>\n",
              "      <td>0.132075</td>\n",
              "      <td>0.0</td>\n",
              "      <td>0.0000</td>\n",
              "      <td>0.000000</td>\n",
              "      <td>0.0</td>\n",
              "      <td>0.0</td>\n",
              "      <td>0.0</td>\n",
              "      <td>0.0</td>\n",
              "      <td>1.0</td>\n",
              "      <td>0.564483</td>\n",
              "    </tr>\n",
              "  </tbody>\n",
              "</table>\n",
              "</div>"
            ],
            "text/plain": [
              "   Col1(t-1)  Col2(t-1)  Col3(t-1)  ...  Col8(t)  Col9(t)  Col10(t)\n",
              "1   0.132075        0.0     0.0000  ...      0.0      1.0  0.609038\n",
              "2   0.207547        0.0     0.0625  ...      0.0      1.0  0.591424\n",
              "3   0.226415        0.0     0.0000  ...      0.0      1.0  0.564483\n",
              "\n",
              "[3 rows x 20 columns]"
            ]
          },
          "metadata": {
            "tags": []
          },
          "execution_count": 73
        }
      ]
    },
    {
      "cell_type": "markdown",
      "metadata": {
        "id": "GRDN16Quf68x",
        "colab_type": "text"
      },
      "source": [
        "The new dataset is constructed as a DataFrame, with each column suitably named both by variable number and time step. This allows you to design a variety of different time step sequence type forecasting problems from a given univariate or multivariate time series"
      ]
    },
    {
      "cell_type": "code",
      "metadata": {
        "id": "_EOXlf_zzGtw",
        "colab_type": "code",
        "colab": {}
      },
      "source": [
        "#df5.columns"
      ],
      "execution_count": 206,
      "outputs": []
    },
    {
      "cell_type": "code",
      "metadata": {
        "id": "HnvVbJs-iJD4",
        "colab_type": "code",
        "colab": {
          "base_uri": "https://localhost:8080/",
          "height": 221
        },
        "outputId": "b0603321-6a81-440c-8cfb-d64b7b325b77"
      },
      "source": [
        "df6 = df5[['Col10(t-1)', 'Col1(t-1)', 'Col2(t-1)', 'Col3(t-1)', \n",
        "           'Col4(t-1)', 'Col5(t-1)', 'Col6(t-1)', 'Col7(t-1)', 'Col8(t-1)', 'Col9(t-1)', 'Col10(t)' ]]\n",
        "\n",
        "df6.head(3)\n"
      ],
      "execution_count": 1,
      "outputs": [
        {
          "output_type": "error",
          "ename": "NameError",
          "evalue": "ignored",
          "traceback": [
            "\u001b[0;31m---------------------------------------------------------------------------\u001b[0m",
            "\u001b[0;31mNameError\u001b[0m                                 Traceback (most recent call last)",
            "\u001b[0;32m<ipython-input-1-862fa845fca7>\u001b[0m in \u001b[0;36m<module>\u001b[0;34m()\u001b[0m\n\u001b[0;32m----> 1\u001b[0;31m df6 = df5[['Col1(t-1)', 'Col2(t-1)', 'Col3(t-1)', \n\u001b[0m\u001b[1;32m      2\u001b[0m            'Col4(t-1)', 'Col5(t-1)', 'Col6(t-1)', 'Col7(t-1)', 'Col8(t-1)', 'Col9(t-1)', 'Col10(t-1)', 'Col10(t)' ]]\n\u001b[1;32m      3\u001b[0m \u001b[0;34m\u001b[0m\u001b[0m\n\u001b[1;32m      4\u001b[0m \u001b[0mdf6\u001b[0m\u001b[0;34m.\u001b[0m\u001b[0mhead\u001b[0m\u001b[0;34m(\u001b[0m\u001b[0;36m3\u001b[0m\u001b[0;34m)\u001b[0m\u001b[0;34m\u001b[0m\u001b[0;34m\u001b[0m\u001b[0m\n",
            "\u001b[0;31mNameError\u001b[0m: name 'df5' is not defined"
          ]
        }
      ]
    },
    {
      "cell_type": "code",
      "metadata": {
        "id": "L144wFYncVlt",
        "colab_type": "code",
        "colab": {
          "base_uri": "https://localhost:8080/",
          "height": 107
        },
        "outputId": "73be10f0-517c-417d-aac8-323567c20f1b"
      },
      "source": [
        "# I will round my data to revenue data to 2 decimal place, i.e nearest 10 thousand to improve my model performance\n",
        "df6 = df6.round(1)\n",
        "df6.head(2)"
      ],
      "execution_count": 75,
      "outputs": [
        {
          "output_type": "execute_result",
          "data": {
            "text/html": [
              "<div>\n",
              "<style scoped>\n",
              "    .dataframe tbody tr th:only-of-type {\n",
              "        vertical-align: middle;\n",
              "    }\n",
              "\n",
              "    .dataframe tbody tr th {\n",
              "        vertical-align: top;\n",
              "    }\n",
              "\n",
              "    .dataframe thead th {\n",
              "        text-align: right;\n",
              "    }\n",
              "</style>\n",
              "<table border=\"1\" class=\"dataframe\">\n",
              "  <thead>\n",
              "    <tr style=\"text-align: right;\">\n",
              "      <th></th>\n",
              "      <th>Col1(t-1)</th>\n",
              "      <th>Col2(t-1)</th>\n",
              "      <th>Col3(t-1)</th>\n",
              "      <th>Col4(t-1)</th>\n",
              "      <th>Col5(t-1)</th>\n",
              "      <th>Col6(t-1)</th>\n",
              "      <th>Col7(t-1)</th>\n",
              "      <th>Col8(t-1)</th>\n",
              "      <th>Col9(t-1)</th>\n",
              "      <th>Col10(t-1)</th>\n",
              "    </tr>\n",
              "  </thead>\n",
              "  <tbody>\n",
              "    <tr>\n",
              "      <th>1</th>\n",
              "      <td>0.0</td>\n",
              "      <td>0.0</td>\n",
              "      <td>0.0</td>\n",
              "      <td>0.0</td>\n",
              "      <td>1.0</td>\n",
              "      <td>0.0</td>\n",
              "      <td>0.0</td>\n",
              "      <td>0.0</td>\n",
              "      <td>1.0</td>\n",
              "      <td>0.0</td>\n",
              "    </tr>\n",
              "    <tr>\n",
              "      <th>2</th>\n",
              "      <td>0.0</td>\n",
              "      <td>0.0</td>\n",
              "      <td>0.0</td>\n",
              "      <td>0.0</td>\n",
              "      <td>0.0</td>\n",
              "      <td>0.0</td>\n",
              "      <td>0.0</td>\n",
              "      <td>0.0</td>\n",
              "      <td>1.0</td>\n",
              "      <td>1.0</td>\n",
              "    </tr>\n",
              "  </tbody>\n",
              "</table>\n",
              "</div>"
            ],
            "text/plain": [
              "   Col1(t-1)  Col2(t-1)  Col3(t-1)  ...  Col8(t-1)  Col9(t-1)  Col10(t-1)\n",
              "1        0.0        0.0        0.0  ...        0.0        1.0         0.0\n",
              "2        0.0        0.0        0.0  ...        0.0        1.0         1.0\n",
              "\n",
              "[2 rows x 10 columns]"
            ]
          },
          "metadata": {
            "tags": []
          },
          "execution_count": 75
        }
      ]
    },
    {
      "cell_type": "code",
      "metadata": {
        "id": "w8rmsoBlWJM2",
        "colab_type": "code",
        "colab": {
          "base_uri": "https://localhost:8080/",
          "height": 34
        },
        "outputId": "3d2c155c-b296-481b-b52b-422e3421c1e9"
      },
      "source": [
        "# I need a numpy array of values to proceed\n",
        "values = df6.values\n",
        "\n",
        "#Split to train and test\n",
        "Len = int(len(values)*0.8)\n",
        "train = values[:Len, :]\n",
        "test = values[Len:, :]\n",
        "\n",
        "# split into input and outputs\n",
        "train_X, train_y = train[:, :-1], train[:, -1]\n",
        "test_X, test_y = test[:, :-1], test[:, -1]\n",
        "\n",
        "# reshape input to be 3D [samples, timesteps, features]\n",
        "train_X = train_X.reshape((train_X.shape[0], 1, train_X.shape[1]))\n",
        "test_X = test_X.reshape((test_X.shape[0], 1, test_X.shape[1]))\n",
        "print(train_X.shape, train_y.shape, test_X.shape, test_y.shape)"
      ],
      "execution_count": 104,
      "outputs": [
        {
          "output_type": "stream",
          "text": [
            "(1168, 1, 9) (1168,) (292, 1, 9) (292,)\n"
          ],
          "name": "stdout"
        }
      ]
    },
    {
      "cell_type": "markdown",
      "metadata": {
        "id": "MC5k1Urf-Bd4",
        "colab_type": "text"
      },
      "source": [
        "Creating the LSTM Model"
      ]
    },
    {
      "cell_type": "code",
      "metadata": {
        "id": "g150EeVS6XzA",
        "colab_type": "code",
        "colab": {}
      },
      "source": [
        "\n",
        "import keras\n",
        "from keras.models import Sequential\n",
        "from keras.layers import LSTM, Dense\n",
        "\n",
        "# Creating/Initializing\n",
        "\n",
        "model = Sequential()\n",
        "model.add(LSTM(50, input_shape=(train_X.shape[1], train_X.shape[2]), return_sequences= True, stateful= False))\n",
        "model.add(Dense(1))\n",
        "\n",
        "# Compiling\n",
        "model.compile(loss='mae', optimizer='adam', metrics = ['mae'])\n",
        "\n"
      ],
      "execution_count": 105,
      "outputs": []
    },
    {
      "cell_type": "markdown",
      "metadata": {
        "id": "BJES3_ky58jO",
        "colab_type": "text"
      },
      "source": [
        "Fitting model and evalueting to see accuracy"
      ]
    },
    {
      "cell_type": "code",
      "metadata": {
        "id": "GSBGMhk96Cgn",
        "colab_type": "code",
        "colab": {
          "base_uri": "https://localhost:8080/",
          "height": 1000
        },
        "outputId": "2880a00d-7185-4289-f9ba-e0cf02427aec"
      },
      "source": [
        "# params\n",
        "\n",
        "epochs = 30\n",
        "BATCH_SIZE = 50\n",
        "# fit network\n",
        "history = model.fit(train_X, train_y, epochs=epochs, batch_size= BATCH_SIZE, validation_data=(test_X, test_y), verbose=1, shuffle=True)\n",
        "\n",
        "# plot history\n",
        "plt.plot(history.history['loss'], label='train')\n",
        "plt.plot(history.history['val_loss'], label='test')\n",
        "plt.title('loss')\n",
        "plt.legend()\n",
        "plt.show()\n",
        "\n",
        "\n",
        "#plt.plot(history.history['accuracy'], label='train')\n",
        "#plt.plot(history.history['val_accuracy'], label='test')\n",
        "#plt.title('Accuracy')\n",
        "#plt.legend()\n",
        "#plt.show()"
      ],
      "execution_count": 107,
      "outputs": [
        {
          "output_type": "stream",
          "text": [
            "Epoch 1/30\n",
            "24/24 [==============================] - 0s 5ms/step - loss: 0.2193 - mae: 0.2193 - val_loss: 0.2376 - val_mae: 0.2376\n",
            "Epoch 2/30\n",
            "24/24 [==============================] - 0s 5ms/step - loss: 0.2186 - mae: 0.2186 - val_loss: 0.2408 - val_mae: 0.2408\n",
            "Epoch 3/30\n",
            "24/24 [==============================] - 0s 5ms/step - loss: 0.2191 - mae: 0.2191 - val_loss: 0.2379 - val_mae: 0.2379\n",
            "Epoch 4/30\n",
            "24/24 [==============================] - 0s 4ms/step - loss: 0.2183 - mae: 0.2183 - val_loss: 0.2369 - val_mae: 0.2369\n",
            "Epoch 5/30\n",
            "24/24 [==============================] - 0s 4ms/step - loss: 0.2184 - mae: 0.2184 - val_loss: 0.2378 - val_mae: 0.2378\n",
            "Epoch 6/30\n",
            "24/24 [==============================] - 0s 4ms/step - loss: 0.2183 - mae: 0.2183 - val_loss: 0.2385 - val_mae: 0.2385\n",
            "Epoch 7/30\n",
            "24/24 [==============================] - 0s 4ms/step - loss: 0.2179 - mae: 0.2179 - val_loss: 0.2373 - val_mae: 0.2373\n",
            "Epoch 8/30\n",
            "24/24 [==============================] - 0s 4ms/step - loss: 0.2176 - mae: 0.2176 - val_loss: 0.2369 - val_mae: 0.2369\n",
            "Epoch 9/30\n",
            "24/24 [==============================] - 0s 5ms/step - loss: 0.2182 - mae: 0.2182 - val_loss: 0.2366 - val_mae: 0.2366\n",
            "Epoch 10/30\n",
            "24/24 [==============================] - 0s 5ms/step - loss: 0.2183 - mae: 0.2183 - val_loss: 0.2373 - val_mae: 0.2373\n",
            "Epoch 11/30\n",
            "24/24 [==============================] - 0s 5ms/step - loss: 0.2175 - mae: 0.2175 - val_loss: 0.2369 - val_mae: 0.2369\n",
            "Epoch 12/30\n",
            "24/24 [==============================] - 0s 5ms/step - loss: 0.2178 - mae: 0.2178 - val_loss: 0.2368 - val_mae: 0.2368\n",
            "Epoch 13/30\n",
            "24/24 [==============================] - 0s 5ms/step - loss: 0.2174 - mae: 0.2174 - val_loss: 0.2374 - val_mae: 0.2374\n",
            "Epoch 14/30\n",
            "24/24 [==============================] - 0s 5ms/step - loss: 0.2173 - mae: 0.2173 - val_loss: 0.2375 - val_mae: 0.2375\n",
            "Epoch 15/30\n",
            "24/24 [==============================] - 0s 5ms/step - loss: 0.2176 - mae: 0.2176 - val_loss: 0.2376 - val_mae: 0.2376\n",
            "Epoch 16/30\n",
            "24/24 [==============================] - 0s 5ms/step - loss: 0.2177 - mae: 0.2177 - val_loss: 0.2377 - val_mae: 0.2377\n",
            "Epoch 17/30\n",
            "24/24 [==============================] - 0s 5ms/step - loss: 0.2177 - mae: 0.2177 - val_loss: 0.2371 - val_mae: 0.2371\n",
            "Epoch 18/30\n",
            "24/24 [==============================] - 0s 5ms/step - loss: 0.2177 - mae: 0.2177 - val_loss: 0.2372 - val_mae: 0.2372\n",
            "Epoch 19/30\n",
            "24/24 [==============================] - 0s 5ms/step - loss: 0.2176 - mae: 0.2176 - val_loss: 0.2370 - val_mae: 0.2370\n",
            "Epoch 20/30\n",
            "24/24 [==============================] - 0s 5ms/step - loss: 0.2177 - mae: 0.2177 - val_loss: 0.2374 - val_mae: 0.2374\n",
            "Epoch 21/30\n",
            "24/24 [==============================] - 0s 5ms/step - loss: 0.2177 - mae: 0.2177 - val_loss: 0.2384 - val_mae: 0.2384\n",
            "Epoch 22/30\n",
            "24/24 [==============================] - 0s 5ms/step - loss: 0.2180 - mae: 0.2180 - val_loss: 0.2368 - val_mae: 0.2368\n",
            "Epoch 23/30\n",
            "24/24 [==============================] - 0s 5ms/step - loss: 0.2177 - mae: 0.2177 - val_loss: 0.2379 - val_mae: 0.2379\n",
            "Epoch 24/30\n",
            "24/24 [==============================] - 0s 5ms/step - loss: 0.2176 - mae: 0.2176 - val_loss: 0.2367 - val_mae: 0.2367\n",
            "Epoch 25/30\n",
            "24/24 [==============================] - 0s 5ms/step - loss: 0.2171 - mae: 0.2171 - val_loss: 0.2371 - val_mae: 0.2371\n",
            "Epoch 26/30\n",
            "24/24 [==============================] - 0s 5ms/step - loss: 0.2174 - mae: 0.2174 - val_loss: 0.2381 - val_mae: 0.2381\n",
            "Epoch 27/30\n",
            "24/24 [==============================] - 0s 5ms/step - loss: 0.2182 - mae: 0.2182 - val_loss: 0.2373 - val_mae: 0.2373\n",
            "Epoch 28/30\n",
            "24/24 [==============================] - 0s 5ms/step - loss: 0.2178 - mae: 0.2178 - val_loss: 0.2380 - val_mae: 0.2380\n",
            "Epoch 29/30\n",
            "24/24 [==============================] - 0s 4ms/step - loss: 0.2177 - mae: 0.2177 - val_loss: 0.2379 - val_mae: 0.2379\n",
            "Epoch 30/30\n",
            "24/24 [==============================] - 0s 5ms/step - loss: 0.2175 - mae: 0.2175 - val_loss: 0.2370 - val_mae: 0.2370\n"
          ],
          "name": "stdout"
        },
        {
          "output_type": "display_data",
          "data": {
            "image/png": "[encoded data removed]",
            "text/plain": [
              "<Figure size 432x288 with 1 Axes>"
            ]
          },
          "metadata": {
            "tags": [],
            "needs_background": "light"
          }
        }
      ]
    },
    {
      "cell_type": "markdown",
      "metadata": {
        "id": "9zGK-31AcIsx",
        "colab_type": "text"
      },
      "source": [
        "Evaluating model"
      ]
    },
    {
      "cell_type": "code",
      "metadata": {
        "id": "hSZma3g-iGoA",
        "colab_type": "code",
        "colab": {
          "base_uri": "https://localhost:8080/",
          "height": 292
        },
        "outputId": "8cb04b29-58ae-4a38-9b39-37b088ec587c"
      },
      "source": [
        "from pandas import DataFrame\n",
        "from pandas import concat\n",
        "from numpy import concatenate\n",
        "\n",
        "# Predicting Y values using our test data\n",
        "yhat = model.predict(test_X)\n",
        "test_X = test_X.reshape((test_X.shape[0], test_X.shape[2]))\n",
        "\n",
        "# Inverting forecasted values to original values (denormalizing)\n",
        "inv_yhat = concatenate((yhat, test_X[:, 1:]), axis=1)\n",
        "inv_yhat = scaler.inverse_transform(inv_yhat)\n",
        "inv_yhat = inv_yhat[:,0]\n",
        "\n",
        "# Invert actual Y values to original scale\n",
        "test_y = test_y.reshape((len(test_y), 1))\n",
        "inv_y = concatenate((test_y, test_X[:, 1:]), axis=1)\n",
        "inv_y = scaler.inverse_transform(inv_y)\n",
        "inv_y = inv_y[:,0]\n",
        "\n",
        "# calculating RMSE\n",
        "rmse = sqrt(mean_squared_error(inv_y, inv_yhat))\n",
        "print('Test RMSE: %.3f' % rmse)"
      ],
      "execution_count": 109,
      "outputs": [
        {
          "output_type": "error",
          "ename": "ValueError",
          "evalue": "ignored",
          "traceback": [
            "\u001b[0;31m---------------------------------------------------------------------------\u001b[0m",
            "\u001b[0;31mValueError\u001b[0m                                Traceback (most recent call last)",
            "\u001b[0;32m<ipython-input-109-1b3a278aecb6>\u001b[0m in \u001b[0;36m<module>\u001b[0;34m()\u001b[0m\n\u001b[1;32m      6\u001b[0m \u001b[0mtest_X\u001b[0m \u001b[0;34m=\u001b[0m \u001b[0mtest_X\u001b[0m\u001b[0;34m.\u001b[0m\u001b[0mreshape\u001b[0m\u001b[0;34m(\u001b[0m\u001b[0;34m(\u001b[0m\u001b[0mtest_X\u001b[0m\u001b[0;34m.\u001b[0m\u001b[0mshape\u001b[0m\u001b[0;34m[\u001b[0m\u001b[0;36m0\u001b[0m\u001b[0;34m]\u001b[0m\u001b[0;34m,\u001b[0m \u001b[0mtest_X\u001b[0m\u001b[0;34m.\u001b[0m\u001b[0mshape\u001b[0m\u001b[0;34m[\u001b[0m\u001b[0;36m2\u001b[0m\u001b[0;34m]\u001b[0m\u001b[0;34m)\u001b[0m\u001b[0;34m)\u001b[0m\u001b[0;34m\u001b[0m\u001b[0;34m\u001b[0m\u001b[0m\n\u001b[1;32m      7\u001b[0m \u001b[0;31m# invert scaling for forecast\u001b[0m\u001b[0;34m\u001b[0m\u001b[0;34m\u001b[0m\u001b[0;34m\u001b[0m\u001b[0m\n\u001b[0;32m----> 8\u001b[0;31m \u001b[0minv_yhat\u001b[0m \u001b[0;34m=\u001b[0m \u001b[0mconcatenate\u001b[0m\u001b[0;34m(\u001b[0m\u001b[0;34m(\u001b[0m\u001b[0myhat\u001b[0m\u001b[0;34m,\u001b[0m \u001b[0mtest_X\u001b[0m\u001b[0;34m[\u001b[0m\u001b[0;34m:\u001b[0m\u001b[0;34m,\u001b[0m \u001b[0;36m1\u001b[0m\u001b[0;34m:\u001b[0m\u001b[0;34m]\u001b[0m\u001b[0;34m)\u001b[0m\u001b[0;34m,\u001b[0m \u001b[0maxis\u001b[0m\u001b[0;34m=\u001b[0m\u001b[0;36m1\u001b[0m\u001b[0;34m)\u001b[0m\u001b[0;34m\u001b[0m\u001b[0;34m\u001b[0m\u001b[0m\n\u001b[0m\u001b[1;32m      9\u001b[0m \u001b[0minv_yhat\u001b[0m \u001b[0;34m=\u001b[0m \u001b[0mscaler\u001b[0m\u001b[0;34m.\u001b[0m\u001b[0minverse_transform\u001b[0m\u001b[0;34m(\u001b[0m\u001b[0minv_yhat\u001b[0m\u001b[0;34m)\u001b[0m\u001b[0;34m\u001b[0m\u001b[0;34m\u001b[0m\u001b[0m\n\u001b[1;32m     10\u001b[0m \u001b[0minv_yhat\u001b[0m \u001b[0;34m=\u001b[0m \u001b[0minv_yhat\u001b[0m\u001b[0;34m[\u001b[0m\u001b[0;34m:\u001b[0m\u001b[0;34m,\u001b[0m\u001b[0;36m0\u001b[0m\u001b[0;34m]\u001b[0m\u001b[0;34m\u001b[0m\u001b[0;34m\u001b[0m\u001b[0m\n",
            "\u001b[0;32m<__array_function__ internals>\u001b[0m in \u001b[0;36mconcatenate\u001b[0;34m(*args, **kwargs)\u001b[0m\n",
            "\u001b[0;31mValueError\u001b[0m: all the input arrays must have same number of dimensions, but the array at index 0 has 3 dimension(s) and the array at index 1 has 2 dimension(s)"
          ]
        }
      ]
    },
    {
      "cell_type": "markdown",
      "metadata": {
        "id": "-1o3OtTMroE4",
        "colab_type": "text"
      },
      "source": [
        "Did not run in this case because of lack of access to GPU."
      ]
    },
    {
      "cell_type": "markdown",
      "metadata": {
        "id": "qY-HGbObrbDx",
        "colab_type": "text"
      },
      "source": [
        "Model achieves respectable RMSE of. I could improve this model by doing using more data"
      ]
    }
  ]
}