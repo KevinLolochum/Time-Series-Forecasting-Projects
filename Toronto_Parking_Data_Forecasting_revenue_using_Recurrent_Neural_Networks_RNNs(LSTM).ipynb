{
  "nbformat": 4,
  "nbformat_minor": 0,
  "metadata": {
    "colab": {
      "name": "Toronto Parking Data - Forecasting revenue using Recurrent Neural Networks RNNs(LSTM)",
      "provenance": [],
      "collapsed_sections": [],
      "mount_file_id": "1OiC6Gu0DJ8iJzC4tpslpzDqquIhEYXlR",
      "authorship_tag": "ABX9TyP2/lVSffqJK0OecNhGaj0g",
      "include_colab_link": true
    },
    "kernelspec": {
      "name": "python3",
      "display_name": "Python 3"
    },
    "accelerator": "GPU"
  },
  "cells": [
    {
      "cell_type": "markdown",
      "metadata": {
        "id": "view-in-github",
        "colab_type": "text"
      },
      "source": [
        "<a href=\"https://colab.research.google.com/github/KevinLolochum/Toronto-Parking-Revenue-Prediction/blob/master/Toronto_Parking_Data_Forecasting_revenue_using_Recurrent_Neural_Networks_RNNs(LSTM).ipynb\" target=\"_parent\"><img src=\"https://colab.research.google.com/assets/colab-badge.svg\" alt=\"Open In Colab\"/></a>"
      ]
    },
    {
      "cell_type": "markdown",
      "metadata": {
        "id": "8IZFf1vsz9oN",
        "colab_type": "text"
      },
      "source": [
        "# Introduction"
      ]
    },
    {
      "cell_type": "markdown",
      "metadata": {
        "id": "SG4apB0a0KX1",
        "colab_type": "text"
      },
      "source": [
        "Below, I use the publicly available toronto city data to predict and give recommendations on parking revenue and compliance/enforcement.\n",
        "Revenue is measured by amount of fine.\n",
        "I am assuming that small fines and reduced frequency of fines indiicate compliance.\n",
        "\n",
        "In addition to parking data, I also add the publicly available data on seasons, weather and public holidays as features/variables in my model."
      ]
    },
    {
      "cell_type": "markdown",
      "metadata": {
        "id": "OvOSlYsc18mC",
        "colab_type": "text"
      },
      "source": [
        "Data sources\n",
        "\n",
        "1. Canadian holidays dataset https://github.com/uWaterloo/Datasets/blob/master/Holidays/holidays.csv  \n",
        "2. Toronto temp and seasons dataset https://www.kaggle.com/rainbowgirl/climate-data-toronto-19372018\n",
        "and https://toronto.weatherstats.ca/download.html\n",
        "3. Parking tickets  https://open.toronto.ca/dataset/parking-tickets/\n",
        "\n",
        "Some assumptions include\n",
        "1. All canadian holidays are celebrated in Toronto\n"
      ]
    },
    {
      "cell_type": "code",
      "metadata": {
        "id": "MoBnXoqZOAUR",
        "colab_type": "code",
        "colab": {}
      },
      "source": [
        "# Importing useful libraries\n",
        "\n",
        "# For data analysis and visualization\n",
        "import pandas as pd\n",
        "import numpy as np\n",
        "import glob\n",
        "# for ML and DL\n",
        "import tensorflow as ts\n",
        "import keras"
      ],
      "execution_count": 1,
      "outputs": []
    },
    {
      "cell_type": "code",
      "metadata": {
        "id": "Po9ve_LZPnYt",
        "colab_type": "code",
        "colab": {
          "base_uri": "https://localhost:8080/",
          "height": 34
        },
        "outputId": "e8369e80-d04c-492c-d591-2b8cc09175b9"
      },
      "source": [
        "# Connecting to Gdrive to aceess data\n",
        "from google.colab import drive\n",
        "drive.mount('/content/gdrive')"
      ],
      "execution_count": 2,
      "outputs": [
        {
          "output_type": "stream",
          "text": [
            "Mounted at /content/gdrive\n"
          ],
          "name": "stdout"
        }
      ]
    },
    {
      "cell_type": "markdown",
      "metadata": {
        "id": "cQHWxn1-FcnA",
        "colab_type": "text"
      },
      "source": [
        "Loading and combining the parking dataset that is spread over 13 periods"
      ]
    },
    {
      "cell_type": "markdown",
      "metadata": {
        "id": "7UulPyzDpxa0",
        "colab_type": "text"
      },
      "source": [
        "Currecntly suspended from using colab so my notebook can't access google drive."
      ]
    },
    {
      "cell_type": "code",
      "metadata": {
        "id": "MJJUY9tQbRGq",
        "colab_type": "code",
        "colab": {
          "base_uri": "https://localhost:8080/",
          "height": 141
        },
        "outputId": "fc79272f-b785-48b1-ea2c-4c85158f9ca5"
      },
      "source": [
        "# Join all the dataframes as you upload, \n",
        "# Alternatively use sorted(glob.glob) and loops to name then concat (slower and takes more RAM space)\n",
        "Parking = pd.concat ([pd.read_csv('/content/gdrive/My Drive/Parking_Tags_Data_2015_1.csv'),\n",
        "                     pd.read_csv('/content/gdrive/My Drive/Parking_Tags_Data_2015_2.csv'),\n",
        "                     pd.read_csv('/content/gdrive/My Drive/Parking_Tags_Data_2015_3.csv'),\n",
        "                     pd.read_csv('/content/gdrive/My Drive/Parking_Tags_Data_2016_1.csv'),\n",
        "                     pd.read_csv('/content/gdrive/My Drive/Parking_Tags_Data_2016_2.csv'),\n",
        "                     pd.read_csv('/content/gdrive/My Drive/Parking_Tags_Data_2016_3.csv'),\n",
        "                     pd.read_csv('/content/gdrive/My Drive/Parking_Tags_Data_2016_4.csv'),\n",
        "                     pd.read_csv('/content/gdrive/My Drive/Parking_Tags_Data_2017_1.csv'),\n",
        "                     pd.read_csv('/content/gdrive/My Drive/Parking_Tags_Data_2017_2.csv'),\n",
        "                     pd.read_csv('/content/gdrive/My Drive/Parking_Tags_Data_2017_3.csv'),\n",
        "                     pd.read_csv('/content/gdrive/My Drive/Parking_Tags_Data_2018_1.csv'),\n",
        "                     pd.read_csv('/content/gdrive/My Drive/Parking_Tags_Data_2018_2.csv'),\n",
        "                     pd.read_csv('/content/gdrive/My Drive/Parking_Tags_Data_2018_3.csv')])\n",
        "\n",
        "Parking.head(2)\n"
      ],
      "execution_count": 3,
      "outputs": [
        {
          "output_type": "execute_result",
          "data": {
            "text/html": [
              "<div>\n",
              "<style scoped>\n",
              "    .dataframe tbody tr th:only-of-type {\n",
              "        vertical-align: middle;\n",
              "    }\n",
              "\n",
              "    .dataframe tbody tr th {\n",
              "        vertical-align: top;\n",
              "    }\n",
              "\n",
              "    .dataframe thead th {\n",
              "        text-align: right;\n",
              "    }\n",
              "</style>\n",
              "<table border=\"1\" class=\"dataframe\">\n",
              "  <thead>\n",
              "    <tr style=\"text-align: right;\">\n",
              "      <th></th>\n",
              "      <th>tag_number_masked</th>\n",
              "      <th>date_of_infraction</th>\n",
              "      <th>infraction_code</th>\n",
              "      <th>infraction_description</th>\n",
              "      <th>set_fine_amount</th>\n",
              "      <th>time_of_infraction</th>\n",
              "      <th>location1</th>\n",
              "      <th>location2</th>\n",
              "      <th>location3</th>\n",
              "      <th>location4</th>\n",
              "      <th>province</th>\n",
              "    </tr>\n",
              "  </thead>\n",
              "  <tbody>\n",
              "    <tr>\n",
              "      <th>0</th>\n",
              "      <td>***87325</td>\n",
              "      <td>20150101</td>\n",
              "      <td>15.0</td>\n",
              "      <td>PARK-WITHIN 3M OF FIRE HYDRANT</td>\n",
              "      <td>100</td>\n",
              "      <td>1.0</td>\n",
              "      <td>OPP</td>\n",
              "      <td>11 CENTRE AVE</td>\n",
              "      <td>NaN</td>\n",
              "      <td>NaN</td>\n",
              "      <td>ON</td>\n",
              "    </tr>\n",
              "    <tr>\n",
              "      <th>1</th>\n",
              "      <td>***87326</td>\n",
              "      <td>20150101</td>\n",
              "      <td>15.0</td>\n",
              "      <td>PARK-WITHIN 3M OF FIRE HYDRANT</td>\n",
              "      <td>100</td>\n",
              "      <td>1.0</td>\n",
              "      <td>OPP</td>\n",
              "      <td>11 CENTRE AVE</td>\n",
              "      <td>NaN</td>\n",
              "      <td>NaN</td>\n",
              "      <td>ON</td>\n",
              "    </tr>\n",
              "  </tbody>\n",
              "</table>\n",
              "</div>"
            ],
            "text/plain": [
              "  tag_number_masked  date_of_infraction  ...  location4 province\n",
              "0          ***87325            20150101  ...        NaN       ON\n",
              "1          ***87326            20150101  ...        NaN       ON\n",
              "\n",
              "[2 rows x 11 columns]"
            ]
          },
          "metadata": {
            "tags": []
          },
          "execution_count": 3
        }
      ]
    },
    {
      "cell_type": "markdown",
      "metadata": {
        "id": "BfUJ-Tzwp_6Y",
        "colab_type": "text"
      },
      "source": [
        "Exploring output"
      ]
    },
    {
      "cell_type": "code",
      "metadata": {
        "id": "MyuEve7JnIXz",
        "colab_type": "code",
        "colab": {
          "base_uri": "https://localhost:8080/",
          "height": 34
        },
        "outputId": "a80bcda7-43b0-44b7-cefa-bbb2e513dcdd"
      },
      "source": [
        "#Checking the shape of data\n",
        "Parking.shape"
      ],
      "execution_count": 4,
      "outputs": [
        {
          "output_type": "execute_result",
          "data": {
            "text/plain": [
              "(8611768, 11)"
            ]
          },
          "metadata": {
            "tags": []
          },
          "execution_count": 4
        }
      ]
    },
    {
      "cell_type": "code",
      "metadata": {
        "id": "peJVvyvb_RNK",
        "colab_type": "code",
        "colab": {
          "base_uri": "https://localhost:8080/",
          "height": 230
        },
        "outputId": "e0005442-c453-43bf-cf29-e9b8ea248e25"
      },
      "source": [
        "Parking.isna().sum()"
      ],
      "execution_count": 5,
      "outputs": [
        {
          "output_type": "execute_result",
          "data": {
            "text/plain": [
              "tag_number_masked               0\n",
              "date_of_infraction              0\n",
              "infraction_code                 2\n",
              "infraction_description          0\n",
              "set_fine_amount                 0\n",
              "time_of_infraction           5667\n",
              "location1                  712263\n",
              "location2                    1318\n",
              "location3                 8034965\n",
              "location4                 8032911\n",
              "province                        2\n",
              "dtype: int64"
            ]
          },
          "metadata": {
            "tags": []
          },
          "execution_count": 5
        }
      ]
    },
    {
      "cell_type": "code",
      "metadata": {
        "id": "JqLkbAt9II1X",
        "colab_type": "code",
        "colab": {
          "base_uri": "https://localhost:8080/",
          "height": 230
        },
        "outputId": "093f483d-c5ff-4198-f659-402df71495c0"
      },
      "source": [
        "#Column datatypes\n",
        "Parking.dtypes"
      ],
      "execution_count": 6,
      "outputs": [
        {
          "output_type": "execute_result",
          "data": {
            "text/plain": [
              "tag_number_masked          object\n",
              "date_of_infraction          int64\n",
              "infraction_code           float64\n",
              "infraction_description     object\n",
              "set_fine_amount             int64\n",
              "time_of_infraction        float64\n",
              "location1                  object\n",
              "location2                  object\n",
              "location3                  object\n",
              "location4                  object\n",
              "province                   object\n",
              "dtype: object"
            ]
          },
          "metadata": {
            "tags": []
          },
          "execution_count": 6
        }
      ]
    },
    {
      "cell_type": "markdown",
      "metadata": {
        "id": "EFdeY2cqmO4V",
        "colab_type": "text"
      },
      "source": [
        "From exploration, it seems that the most important data fine amount and data. \n",
        "\n",
        "Location have too much cardinality and missing values thus wont be meanigful for our predictions. \n",
        "\n",
        "This could be improved by reducing location to a few regions (e.g Downtown, midtown etc)\n",
        "\n",
        "Time in hours and minutes is not important for two reasons.\n",
        "1. Time is not well captures in the dataset (first quarter times for each year)\n",
        "2. Predicting revenue per hour/minute might not be be important for the businesss\n",
        "For the above reasons I will aggregate/reshape revenue by day going forward.\n"
      ]
    },
    {
      "cell_type": "code",
      "metadata": {
        "id": "VgAvzrtoBpuv",
        "colab_type": "code",
        "colab": {
          "base_uri": "https://localhost:8080/",
          "height": 167
        },
        "outputId": "1b94a1b9-0410-4f92-a7f7-7091179d37e4"
      },
      "source": [
        "# Converting date of infraction to date and set as index\n",
        "Parking.date_of_infraction = pd.to_datetime(Parking['date_of_infraction'], format='%Y%m%d', errors='ignore')\n",
        "dfr = Parking.set_index('date_of_infraction')\n",
        "\n",
        "# Aggregate fine amount by date, change to dataframe and rename as revenue\n",
        "\n",
        "dfx = dfr['set_fine_amount'].resample('d').sum()\n",
        "dfs = pd.DataFrame(dfx)\n",
        "dfs = dfs.rename(columns={'set_fine_amount': 'Revenue'})\n",
        "dfs.head(3)\n",
        "\n",
        "# A more robust model could be created by hourly aggregation but hourly data is messy"
      ],
      "execution_count": 8,
      "outputs": [
        {
          "output_type": "execute_result",
          "data": {
            "text/html": [
              "<div>\n",
              "<style scoped>\n",
              "    .dataframe tbody tr th:only-of-type {\n",
              "        vertical-align: middle;\n",
              "    }\n",
              "\n",
              "    .dataframe tbody tr th {\n",
              "        vertical-align: top;\n",
              "    }\n",
              "\n",
              "    .dataframe thead th {\n",
              "        text-align: right;\n",
              "    }\n",
              "</style>\n",
              "<table border=\"1\" class=\"dataframe\">\n",
              "  <thead>\n",
              "    <tr style=\"text-align: right;\">\n",
              "      <th></th>\n",
              "      <th>Revenue</th>\n",
              "    </tr>\n",
              "    <tr>\n",
              "      <th>date_of_infraction</th>\n",
              "      <th></th>\n",
              "    </tr>\n",
              "  </thead>\n",
              "  <tbody>\n",
              "    <tr>\n",
              "      <th>2015-01-01</th>\n",
              "      <td>79975</td>\n",
              "    </tr>\n",
              "    <tr>\n",
              "      <th>2015-01-02</th>\n",
              "      <td>315130</td>\n",
              "    </tr>\n",
              "    <tr>\n",
              "      <th>2015-01-03</th>\n",
              "      <td>194880</td>\n",
              "    </tr>\n",
              "  </tbody>\n",
              "</table>\n",
              "</div>"
            ],
            "text/plain": [
              "                    Revenue\n",
              "date_of_infraction         \n",
              "2015-01-01            79975\n",
              "2015-01-02           315130\n",
              "2015-01-03           194880"
            ]
          },
          "metadata": {
            "tags": []
          },
          "execution_count": 8
        }
      ]
    },
    {
      "cell_type": "code",
      "metadata": {
        "id": "yx-eNtA1vzi0",
        "colab_type": "code",
        "colab": {
          "base_uri": "https://localhost:8080/",
          "height": 52
        },
        "outputId": "3035ec6b-32b9-4e23-ed76-7dea9e85dcea"
      },
      "source": [
        "dfs.dtypes"
      ],
      "execution_count": null,
      "outputs": [
        {
          "output_type": "execute_result",
          "data": {
            "text/plain": [
              "Revenue    int64\n",
              "dtype: object"
            ]
          },
          "metadata": {
            "tags": []
          },
          "execution_count": 10
        }
      ]
    },
    {
      "cell_type": "markdown",
      "metadata": {
        "id": "eKZK4CXLq9ID",
        "colab_type": "text"
      },
      "source": [
        "## Additional data - Weather, Holidays and Seasons"
      ]
    },
    {
      "cell_type": "markdown",
      "metadata": {
        "id": "U8h1ej6gs6KK",
        "colab_type": "text"
      },
      "source": [
        "Data sources are indicated above. Some cleaning of this data in excel."
      ]
    },
    {
      "cell_type": "code",
      "metadata": {
        "id": "aZYtoFVZ9aRE",
        "colab_type": "code",
        "colab": {
          "base_uri": "https://localhost:8080/",
          "height": 167
        },
        "outputId": "3c67b447-331f-4976-9486-faea2f830ff3"
      },
      "source": [
        "# Loading from drive\n",
        "Data = pd.read_csv('/content/gdrive/My Drive/Toronto_weather_and_holidays.csv', delimiter=',', parse_dates=True)\n",
        "\n",
        "# Set date as index\n",
        "\n",
        "Data['DATE'] = pd.to_datetime(Data[['Year', 'Month', 'Day']])\n",
        "Data = Data.set_index('DATE')\n",
        "Data.pop('Date')\n",
        "Data.head(3)"
      ],
      "execution_count": 9,
      "outputs": [
        {
          "output_type": "execute_result",
          "data": {
            "text/html": [
              "<div>\n",
              "<style scoped>\n",
              "    .dataframe tbody tr th:only-of-type {\n",
              "        vertical-align: middle;\n",
              "    }\n",
              "\n",
              "    .dataframe tbody tr th {\n",
              "        vertical-align: top;\n",
              "    }\n",
              "\n",
              "    .dataframe thead th {\n",
              "        text-align: right;\n",
              "    }\n",
              "</style>\n",
              "<table border=\"1\" class=\"dataframe\">\n",
              "  <thead>\n",
              "    <tr style=\"text-align: right;\">\n",
              "      <th></th>\n",
              "      <th>Year</th>\n",
              "      <th>Month</th>\n",
              "      <th>Day</th>\n",
              "      <th>Temp</th>\n",
              "      <th>Rain</th>\n",
              "      <th>Snow</th>\n",
              "      <th>Precip</th>\n",
              "      <th>season</th>\n",
              "      <th>Holiday</th>\n",
              "      <th>Is_holiday</th>\n",
              "    </tr>\n",
              "    <tr>\n",
              "      <th>DATE</th>\n",
              "      <th></th>\n",
              "      <th></th>\n",
              "      <th></th>\n",
              "      <th></th>\n",
              "      <th></th>\n",
              "      <th></th>\n",
              "      <th></th>\n",
              "      <th></th>\n",
              "      <th></th>\n",
              "      <th></th>\n",
              "    </tr>\n",
              "  </thead>\n",
              "  <tbody>\n",
              "    <tr>\n",
              "      <th>2018-01-01</th>\n",
              "      <td>2018</td>\n",
              "      <td>1</td>\n",
              "      <td>1</td>\n",
              "      <td>-15</td>\n",
              "      <td>0</td>\n",
              "      <td>0</td>\n",
              "      <td>0</td>\n",
              "      <td>Winter</td>\n",
              "      <td>New Year's Day</td>\n",
              "      <td>1</td>\n",
              "    </tr>\n",
              "    <tr>\n",
              "      <th>2018-01-02</th>\n",
              "      <td>2018</td>\n",
              "      <td>1</td>\n",
              "      <td>2</td>\n",
              "      <td>-11</td>\n",
              "      <td>0</td>\n",
              "      <td>1</td>\n",
              "      <td>1</td>\n",
              "      <td>Winter</td>\n",
              "      <td>NaN</td>\n",
              "      <td>0</td>\n",
              "    </tr>\n",
              "    <tr>\n",
              "      <th>2018-01-03</th>\n",
              "      <td>2018</td>\n",
              "      <td>1</td>\n",
              "      <td>3</td>\n",
              "      <td>-10</td>\n",
              "      <td>0</td>\n",
              "      <td>0</td>\n",
              "      <td>0</td>\n",
              "      <td>Winter</td>\n",
              "      <td>NaN</td>\n",
              "      <td>0</td>\n",
              "    </tr>\n",
              "  </tbody>\n",
              "</table>\n",
              "</div>"
            ],
            "text/plain": [
              "            Year  Month  Day  Temp  ...  Precip  season         Holiday Is_holiday\n",
              "DATE                                ...                                           \n",
              "2018-01-01  2018      1    1   -15  ...       0  Winter  New Year's Day          1\n",
              "2018-01-02  2018      1    2   -11  ...       1  Winter             NaN          0\n",
              "2018-01-03  2018      1    3   -10  ...       0  Winter             NaN          0\n",
              "\n",
              "[3 rows x 10 columns]"
            ]
          },
          "metadata": {
            "tags": []
          },
          "execution_count": 9
        }
      ]
    },
    {
      "cell_type": "markdown",
      "metadata": {
        "id": "uoS1WMZDF4tL",
        "colab_type": "text"
      },
      "source": [
        "Combining the two datasets form our final dataset"
      ]
    },
    {
      "cell_type": "code",
      "metadata": {
        "id": "WZdYpw4gLjHJ",
        "colab_type": "code",
        "colab": {
          "base_uri": "https://localhost:8080/",
          "height": 137
        },
        "outputId": "b8434c0b-2055-4fd0-d722-0227fe136cf7"
      },
      "source": [
        "# Pd.merge on date combines horizontally and also implements cross join if\n",
        "df = pd.merge(Data, dfs, left_index=True, right_index=True)\n",
        "df.head(3)\n"
      ],
      "execution_count": 10,
      "outputs": [
        {
          "output_type": "execute_result",
          "data": {
            "text/html": [
              "<div>\n",
              "<style scoped>\n",
              "    .dataframe tbody tr th:only-of-type {\n",
              "        vertical-align: middle;\n",
              "    }\n",
              "\n",
              "    .dataframe tbody tr th {\n",
              "        vertical-align: top;\n",
              "    }\n",
              "\n",
              "    .dataframe thead th {\n",
              "        text-align: right;\n",
              "    }\n",
              "</style>\n",
              "<table border=\"1\" class=\"dataframe\">\n",
              "  <thead>\n",
              "    <tr style=\"text-align: right;\">\n",
              "      <th></th>\n",
              "      <th>Year</th>\n",
              "      <th>Month</th>\n",
              "      <th>Day</th>\n",
              "      <th>Temp</th>\n",
              "      <th>Rain</th>\n",
              "      <th>Snow</th>\n",
              "      <th>Precip</th>\n",
              "      <th>season</th>\n",
              "      <th>Holiday</th>\n",
              "      <th>Is_holiday</th>\n",
              "      <th>Revenue</th>\n",
              "    </tr>\n",
              "  </thead>\n",
              "  <tbody>\n",
              "    <tr>\n",
              "      <th>2018-01-01</th>\n",
              "      <td>2018</td>\n",
              "      <td>1</td>\n",
              "      <td>1</td>\n",
              "      <td>-15</td>\n",
              "      <td>0</td>\n",
              "      <td>0</td>\n",
              "      <td>0</td>\n",
              "      <td>Winter</td>\n",
              "      <td>New Year's Day</td>\n",
              "      <td>1</td>\n",
              "      <td>63490</td>\n",
              "    </tr>\n",
              "    <tr>\n",
              "      <th>2018-01-02</th>\n",
              "      <td>2018</td>\n",
              "      <td>1</td>\n",
              "      <td>2</td>\n",
              "      <td>-11</td>\n",
              "      <td>0</td>\n",
              "      <td>1</td>\n",
              "      <td>1</td>\n",
              "      <td>Winter</td>\n",
              "      <td>NaN</td>\n",
              "      <td>0</td>\n",
              "      <td>285635</td>\n",
              "    </tr>\n",
              "    <tr>\n",
              "      <th>2018-01-03</th>\n",
              "      <td>2018</td>\n",
              "      <td>1</td>\n",
              "      <td>3</td>\n",
              "      <td>-10</td>\n",
              "      <td>0</td>\n",
              "      <td>0</td>\n",
              "      <td>0</td>\n",
              "      <td>Winter</td>\n",
              "      <td>NaN</td>\n",
              "      <td>0</td>\n",
              "      <td>278120</td>\n",
              "    </tr>\n",
              "  </tbody>\n",
              "</table>\n",
              "</div>"
            ],
            "text/plain": [
              "            Year  Month  Day  Temp  ...  season         Holiday  Is_holiday Revenue\n",
              "2018-01-01  2018      1    1   -15  ...  Winter  New Year's Day           1   63490\n",
              "2018-01-02  2018      1    2   -11  ...  Winter             NaN           0  285635\n",
              "2018-01-03  2018      1    3   -10  ...  Winter             NaN           0  278120\n",
              "\n",
              "[3 rows x 11 columns]"
            ]
          },
          "metadata": {
            "tags": []
          },
          "execution_count": 10
        }
      ]
    },
    {
      "cell_type": "code",
      "metadata": {
        "id": "vCGpS1Ncbvjb",
        "colab_type": "code",
        "colab": {
          "base_uri": "https://localhost:8080/",
          "height": 34
        },
        "outputId": "24cdca29-cba1-40ba-cc3b-9bc3092a8e7d"
      },
      "source": [
        "df.shape"
      ],
      "execution_count": 11,
      "outputs": [
        {
          "output_type": "execute_result",
          "data": {
            "text/plain": [
              "(1461, 11)"
            ]
          },
          "metadata": {
            "tags": []
          },
          "execution_count": 11
        }
      ]
    },
    {
      "cell_type": "code",
      "metadata": {
        "id": "YlxbI7Tgxjmi",
        "colab_type": "code",
        "colab": {}
      },
      "source": [
        "# Changing holiday to categorical\n",
        "df['Is_holiday'] = df['Is_holiday'].astype('uint8')"
      ],
      "execution_count": 12,
      "outputs": []
    },
    {
      "cell_type": "markdown",
      "metadata": {
        "id": "VGSrm4eLvYg7",
        "colab_type": "text"
      },
      "source": [
        "Downloading data to excel to be used for power BI Analysis"
      ]
    },
    {
      "cell_type": "code",
      "metadata": {
        "id": "deuuUROHAD4y",
        "colab_type": "code",
        "colab": {}
      },
      "source": [
        "#df.to_excel(\"Toronto_Parking_Data.xlsx\", index=True, encoding='utf8')"
      ],
      "execution_count": null,
      "outputs": []
    },
    {
      "cell_type": "markdown",
      "metadata": {
        "id": "dSCUB0ZexUY4",
        "colab_type": "text"
      },
      "source": [
        "A little more cleaning"
      ]
    },
    {
      "cell_type": "code",
      "metadata": {
        "id": "_8N5gPk-2w39",
        "colab_type": "code",
        "colab": {
          "base_uri": "https://localhost:8080/",
          "height": 107
        },
        "outputId": "9a4c083f-0e0b-4329-d09f-21ff76b18529"
      },
      "source": [
        "\n",
        "# This are the most important columns for our model\n",
        "df1 = df[['Month','Day','Temp', 'Rain', 'Snow', 'Precip', 'season', 'Is_holiday',  'Revenue']]\n",
        "\n",
        "\n",
        "# one-hot encoding seasons and setting a date index with the same length as our data\n",
        "df2 = pd.get_dummies(df1['season'])\n",
        "df2.set_index(keys = pd.date_range('01/01/2015','12/31/2018', periods=1461))\n",
        "\n",
        "# Merging the dummies dataset and the real dataset using index\n",
        "df3 = pd.merge(df1,df2, left_index=True, right_index=True)\n",
        "\n",
        "# Don't need seasons anymore\n",
        "df3.pop('season')\n",
        "df3.head(2)\n"
      ],
      "execution_count": 14,
      "outputs": [
        {
          "output_type": "execute_result",
          "data": {
            "text/html": [
              "<div>\n",
              "<style scoped>\n",
              "    .dataframe tbody tr th:only-of-type {\n",
              "        vertical-align: middle;\n",
              "    }\n",
              "\n",
              "    .dataframe tbody tr th {\n",
              "        vertical-align: top;\n",
              "    }\n",
              "\n",
              "    .dataframe thead th {\n",
              "        text-align: right;\n",
              "    }\n",
              "</style>\n",
              "<table border=\"1\" class=\"dataframe\">\n",
              "  <thead>\n",
              "    <tr style=\"text-align: right;\">\n",
              "      <th></th>\n",
              "      <th>Month</th>\n",
              "      <th>Day</th>\n",
              "      <th>Temp</th>\n",
              "      <th>Rain</th>\n",
              "      <th>Snow</th>\n",
              "      <th>Precip</th>\n",
              "      <th>Is_holiday</th>\n",
              "      <th>Revenue</th>\n",
              "      <th>Fall</th>\n",
              "      <th>Spring</th>\n",
              "      <th>Summer</th>\n",
              "      <th>Winter</th>\n",
              "    </tr>\n",
              "  </thead>\n",
              "  <tbody>\n",
              "    <tr>\n",
              "      <th>2018-01-01</th>\n",
              "      <td>1</td>\n",
              "      <td>1</td>\n",
              "      <td>-15</td>\n",
              "      <td>0</td>\n",
              "      <td>0</td>\n",
              "      <td>0</td>\n",
              "      <td>1</td>\n",
              "      <td>63490</td>\n",
              "      <td>0</td>\n",
              "      <td>0</td>\n",
              "      <td>0</td>\n",
              "      <td>1</td>\n",
              "    </tr>\n",
              "    <tr>\n",
              "      <th>2018-01-02</th>\n",
              "      <td>1</td>\n",
              "      <td>2</td>\n",
              "      <td>-11</td>\n",
              "      <td>0</td>\n",
              "      <td>1</td>\n",
              "      <td>1</td>\n",
              "      <td>0</td>\n",
              "      <td>285635</td>\n",
              "      <td>0</td>\n",
              "      <td>0</td>\n",
              "      <td>0</td>\n",
              "      <td>1</td>\n",
              "    </tr>\n",
              "  </tbody>\n",
              "</table>\n",
              "</div>"
            ],
            "text/plain": [
              "            Month  Day  Temp  Rain  Snow  ...  Revenue  Fall  Spring  Summer  Winter\n",
              "2018-01-01      1    1   -15     0     0  ...    63490     0       0       0       1\n",
              "2018-01-02      1    2   -11     0     1  ...   285635     0       0       0       1\n",
              "\n",
              "[2 rows x 12 columns]"
            ]
          },
          "metadata": {
            "tags": []
          },
          "execution_count": 14
        }
      ]
    },
    {
      "cell_type": "code",
      "metadata": {
        "id": "gkm0Ff9-pY8g",
        "colab_type": "code",
        "colab": {
          "base_uri": "https://localhost:8080/",
          "height": 247
        },
        "outputId": "26188b8d-a8d8-44e7-aec2-930bee6fc260"
      },
      "source": [
        "# datatypes look good\n",
        "df3.dtypes"
      ],
      "execution_count": 15,
      "outputs": [
        {
          "output_type": "execute_result",
          "data": {
            "text/plain": [
              "Month         int64\n",
              "Day           int64\n",
              "Temp          int64\n",
              "Rain          int64\n",
              "Snow          int64\n",
              "Precip        int64\n",
              "Is_holiday    uint8\n",
              "Revenue       int64\n",
              "Fall          uint8\n",
              "Spring        uint8\n",
              "Summer        uint8\n",
              "Winter        uint8\n",
              "dtype: object"
            ]
          },
          "metadata": {
            "tags": []
          },
          "execution_count": 15
        }
      ]
    },
    {
      "cell_type": "code",
      "metadata": {
        "id": "Cgcpvvq38zF0",
        "colab_type": "code",
        "colab": {
          "base_uri": "https://localhost:8080/",
          "height": 247
        },
        "outputId": "ab5b0107-54b4-4dc9-ed18-4f4978571045"
      },
      "source": [
        "# No null values, Data looks good to try some models\n",
        "df3.isna().sum()"
      ],
      "execution_count": 16,
      "outputs": [
        {
          "output_type": "execute_result",
          "data": {
            "text/plain": [
              "Month         0\n",
              "Day           0\n",
              "Temp          0\n",
              "Rain          0\n",
              "Snow          0\n",
              "Precip        0\n",
              "Is_holiday    0\n",
              "Revenue       0\n",
              "Fall          0\n",
              "Spring        0\n",
              "Summer        0\n",
              "Winter        0\n",
              "dtype: int64"
            ]
          },
          "metadata": {
            "tags": []
          },
          "execution_count": 16
        }
      ]
    },
    {
      "cell_type": "markdown",
      "metadata": {
        "id": "jLE8UKqBxXCs",
        "colab_type": "text"
      },
      "source": [
        "## Exploratory Analysis"
      ]
    },
    {
      "cell_type": "markdown",
      "metadata": {
        "id": "ns9NX1k12S4E",
        "colab_type": "text"
      },
      "source": [
        "This section will help me decide which model is best for this problem"
      ]
    },
    {
      "cell_type": "code",
      "metadata": {
        "id": "_qelNLS7xVuH",
        "colab_type": "code",
        "colab": {
          "base_uri": "https://localhost:8080/",
          "height": 150
        },
        "outputId": "224fdc37-49e5-43a6-f020-605528c2f367"
      },
      "source": [
        "import matplotlib.pyplot as plt\n",
        "import seaborn as sns\n",
        "\n",
        "columns = ['Month', 'Day', 'Temp', 'Rain', 'Snow', 'Precip', 'Is_holiday', 'Fall', 'Spring', 'Summer', 'Winter']\n",
        "\n",
        "sns.pairplot(df3, x_vars = columns , \n",
        "             y_vars = 'Revenue', height = 2);"
      ],
      "execution_count": 18,
      "outputs": [
        {
          "output_type": "display_data",
          "data": {
            "image/png": "[encoded data removed]",
            "text/plain": [
              "<Figure size 1584x144 with 11 Axes>"
            ]
          },
          "metadata": {
            "tags": [],
            "needs_background": "light"
          }
        }
      ]
    },
    {
      "cell_type": "markdown",
      "metadata": {
        "id": "pktwwF8r2c80",
        "colab_type": "text"
      },
      "source": [
        "There is some linear relationship between weather conditions and revenue. For instance, as precipitation increases revenue collected per day seems to be larger as shown by the dots trending to upper left. However, dots are less clustered showing that there are fewer days with that amount of predipitation.\n",
        "\n",
        "There is almost no relationship between revenue collected and day of the month. Day of the week could be different but we will have to encode another 7 different variables."
      ]
    },
    {
      "cell_type": "markdown",
      "metadata": {
        "id": "cqzXTJRR36q6",
        "colab_type": "text"
      },
      "source": [
        "# Modelling"
      ]
    },
    {
      "cell_type": "markdown",
      "metadata": {
        "id": "JWFclvE54BA_",
        "colab_type": "text"
      },
      "source": [
        "Even though my analysis above indicate indicate that there is some linear relationship between revenue and some some features, this data perfomed very bad on linear models even after regularization. The R_squared (coefficient of determination) for the best linear model was 0.1815.\n",
        "\n",
        "After testing a few other models such as SVR I decided to use a LSTM time series forecasting model, which performed pretty well as shown below.\n"
      ]
    },
    {
      "cell_type": "markdown",
      "metadata": {
        "id": "x4311ZffdrVK",
        "colab_type": "text"
      },
      "source": [
        "## LSTM MODEL"
      ]
    },
    {
      "cell_type": "markdown",
      "metadata": {
        "id": "cZ5bKxx_HpUO",
        "colab_type": "text"
      },
      "source": [
        "LSTM is ideal for this problem because we are trying to predict future values using current and past values.\n",
        "\n",
        "LSTM can remember values from the past when they are important and forget when they are no longer important. This is great for example because as seasons and weather change our model will know not to put so much weight on conditions such as snow or precipitation when making predictions."
      ]
    },
    {
      "cell_type": "code",
      "metadata": {
        "id": "XK_JJVNRuSKS",
        "colab_type": "code",
        "colab": {}
      },
      "source": [
        "# Rearranging columns for prediction\n",
        "\n",
        "df4 = df3[['Temp', 'Rain', 'Snow', 'Precip', 'Is_holiday', 'Fall', 'Spring', 'Summer', 'Winter', 'Revenue']]\n"
      ],
      "execution_count": 19,
      "outputs": []
    },
    {
      "cell_type": "code",
      "metadata": {
        "id": "WDc_vp-S1PdL",
        "colab_type": "code",
        "colab": {
          "base_uri": "https://localhost:8080/",
          "height": 137
        },
        "outputId": "1d95a7d4-aa72-43d3-b766-35c4198f9d21"
      },
      "source": [
        "# This change to my dataset is implemented after I realized my data is too small for the model\n",
        "# I am downscaling revenue to minute level by deviding daily revenue by minutes in a day.\n",
        "# I already assume weather conditions don't change significantly to affect revenue collection in a day\n",
        "df4 = df4.resample('1Min').ffill()\n",
        "df4['Revenue'] = df4['Revenue']/(24*60)\n",
        "df4.head(3)\n"
      ],
      "execution_count": 50,
      "outputs": [
        {
          "output_type": "execute_result",
          "data": {
            "text/html": [
              "<div>\n",
              "<style scoped>\n",
              "    .dataframe tbody tr th:only-of-type {\n",
              "        vertical-align: middle;\n",
              "    }\n",
              "\n",
              "    .dataframe tbody tr th {\n",
              "        vertical-align: top;\n",
              "    }\n",
              "\n",
              "    .dataframe thead th {\n",
              "        text-align: right;\n",
              "    }\n",
              "</style>\n",
              "<table border=\"1\" class=\"dataframe\">\n",
              "  <thead>\n",
              "    <tr style=\"text-align: right;\">\n",
              "      <th></th>\n",
              "      <th>Temp</th>\n",
              "      <th>Rain</th>\n",
              "      <th>Snow</th>\n",
              "      <th>Precip</th>\n",
              "      <th>Is_holiday</th>\n",
              "      <th>Fall</th>\n",
              "      <th>Spring</th>\n",
              "      <th>Summer</th>\n",
              "      <th>Winter</th>\n",
              "      <th>Revenue</th>\n",
              "    </tr>\n",
              "  </thead>\n",
              "  <tbody>\n",
              "    <tr>\n",
              "      <th>2015-01-01 00:00:00</th>\n",
              "      <td>-5</td>\n",
              "      <td>0</td>\n",
              "      <td>0</td>\n",
              "      <td>0</td>\n",
              "      <td>1</td>\n",
              "      <td>0</td>\n",
              "      <td>0</td>\n",
              "      <td>0</td>\n",
              "      <td>1</td>\n",
              "      <td>55.538194</td>\n",
              "    </tr>\n",
              "    <tr>\n",
              "      <th>2015-01-01 00:01:00</th>\n",
              "      <td>-5</td>\n",
              "      <td>0</td>\n",
              "      <td>0</td>\n",
              "      <td>0</td>\n",
              "      <td>1</td>\n",
              "      <td>0</td>\n",
              "      <td>0</td>\n",
              "      <td>0</td>\n",
              "      <td>1</td>\n",
              "      <td>55.538194</td>\n",
              "    </tr>\n",
              "    <tr>\n",
              "      <th>2015-01-01 00:02:00</th>\n",
              "      <td>-5</td>\n",
              "      <td>0</td>\n",
              "      <td>0</td>\n",
              "      <td>0</td>\n",
              "      <td>1</td>\n",
              "      <td>0</td>\n",
              "      <td>0</td>\n",
              "      <td>0</td>\n",
              "      <td>1</td>\n",
              "      <td>55.538194</td>\n",
              "    </tr>\n",
              "  </tbody>\n",
              "</table>\n",
              "</div>"
            ],
            "text/plain": [
              "                     Temp  Rain  Snow  ...  Summer  Winter    Revenue\n",
              "2015-01-01 00:00:00    -5     0     0  ...       0       1  55.538194\n",
              "2015-01-01 00:01:00    -5     0     0  ...       0       1  55.538194\n",
              "2015-01-01 00:02:00    -5     0     0  ...       0       1  55.538194\n",
              "\n",
              "[3 rows x 10 columns]"
            ]
          },
          "metadata": {
            "tags": []
          },
          "execution_count": 50
        }
      ]
    },
    {
      "cell_type": "code",
      "metadata": {
        "id": "nw7UCFyz5da7",
        "colab_type": "code",
        "colab": {
          "base_uri": "https://localhost:8080/",
          "height": 34
        },
        "outputId": "a3d2d818-712c-4a96-e62f-93325ae26aff"
      },
      "source": [
        "# Now we have a much larger dataset\n",
        "df4.shape"
      ],
      "execution_count": 51,
      "outputs": [
        {
          "output_type": "execute_result",
          "data": {
            "text/plain": [
              "(2102401, 10)"
            ]
          },
          "metadata": {
            "tags": []
          },
          "execution_count": 51
        }
      ]
    },
    {
      "cell_type": "code",
      "metadata": {
        "id": "DfRyDjFJWKth",
        "colab_type": "code",
        "colab": {
          "base_uri": "https://localhost:8080/",
          "height": 34
        },
        "outputId": "33c26446-0c94-4269-b762-9a119e35a287"
      },
      "source": [
        "df4['Revenue'].min()"
      ],
      "execution_count": 74,
      "outputs": [
        {
          "output_type": "execute_result",
          "data": {
            "text/plain": [
              "17.90277777777778"
            ]
          },
          "metadata": {
            "tags": []
          },
          "execution_count": 74
        }
      ]
    },
    {
      "cell_type": "code",
      "metadata": {
        "id": "_pmDCnROWS39",
        "colab_type": "code",
        "colab": {
          "base_uri": "https://localhost:8080/",
          "height": 34
        },
        "outputId": "086ad9b3-87da-4379-9496-512b0c84ee89"
      },
      "source": [
        "df4['Revenue'].max()"
      ],
      "execution_count": 76,
      "outputs": [
        {
          "output_type": "execute_result",
          "data": {
            "text/plain": [
              "314.1979166666667"
            ]
          },
          "metadata": {
            "tags": []
          },
          "execution_count": 76
        }
      ]
    },
    {
      "cell_type": "markdown",
      "metadata": {
        "id": "DJcEAOxPhfqV",
        "colab_type": "text"
      },
      "source": [
        "To apply LSTM I need to convert the time_series data to supervised learning problem"
      ]
    },
    {
      "cell_type": "markdown",
      "metadata": {
        "id": "0c4BKmtdJOtb",
        "colab_type": "text"
      },
      "source": [
        "This long code does the following.\n",
        "\n",
        "1. Takes our data and naively forecasts the next value for each column by simply shifting the current value to one period in future.\n",
        "\n",
        "   i.e we are predicting values at time (t) & t(1-n) using past values. for both outputs and inputs.\n",
        "2. Aggegates the columns and deletes null values created by shifting values forward.\n",
        "3. Does this for both inputs and outputs."
      ]
    },
    {
      "cell_type": "code",
      "metadata": {
        "id": "hNQYSytehdSP",
        "colab_type": "code",
        "colab": {}
      },
      "source": [
        "\n",
        "# prepare data for lstm\n",
        "from pandas import concat\n",
        "from sklearn.preprocessing import MinMaxScaler\n",
        "from pandas import DataFrame\n",
        "from sklearn.model_selection import train_test_split\n",
        " \n",
        "# convert series to supervised learning\n",
        "\n",
        "def dataframe_to_supervised(data, n_in=1, n_out=1, dropnan=True):\n",
        "# n_in, n_out define the lag of input and output, I can increase if I want to predict deeper into the future\n",
        "\tn_vars = 1 if type(data) is list else data.shape[1]\n",
        "\tdf = DataFrame(data)\n",
        "\tcols, names = list(), list()\n",
        " \n",
        "\t# input sequence (t-n, ... t-1)\n",
        "\tfor i in range(n_in, 0, -1):\n",
        "\t\tcols.append(df.shift(i))\n",
        "\t\tnames += [('Col%d(t-%d)' % (j+1, i)) for j in range(n_vars)]\n",
        "\n",
        "\t# forecast sequence (t, t+1, ... t+n)\n",
        "\tfor i in range(0, n_out):\n",
        "\t\tcols.append(df.shift(-i))\n",
        "\t\tif i == 0:\n",
        "\t\t\tnames += [('Col%d(t)' % (j+1)) for j in range(n_vars)]\n",
        "\t\telse:\n",
        "\t\t\tnames += [('Col%d(t+%d)' % (j+1, i)) for j in range(n_vars)]\n",
        "\t\n",
        "  # put it all together\n",
        "\tagg = concat(cols, axis=1)\n",
        "\tagg.columns = names\n",
        "\t\n",
        "  # drop rows with NaN values\n",
        "\tif dropnan:\n",
        "\t\tagg.dropna(inplace=True)\n",
        "\treturn agg\n",
        " "
      ],
      "execution_count": 52,
      "outputs": []
    },
    {
      "cell_type": "code",
      "metadata": {
        "id": "59HK4vyk-Ve1",
        "colab_type": "code",
        "colab": {}
      },
      "source": [
        "# Convert  dataframe to numpy array to easily normalize everything\n",
        "values = df4.values \n",
        "\n",
        "# Make data float for normalization\n",
        "values = values.astype('float32')\n",
        "\n",
        "# normalize features for model convinience\n",
        "# model does not work well with large vales\n",
        "scaler = MinMaxScaler(feature_range=(0, 1))\n",
        "scaled = scaler.fit_transform(values)"
      ],
      "execution_count": 53,
      "outputs": []
    },
    {
      "cell_type": "code",
      "metadata": {
        "id": "KioyCBmtkm9P",
        "colab_type": "code",
        "colab": {
          "base_uri": "https://localhost:8080/",
          "height": 174
        },
        "outputId": "f3490142-2aba-4cbc-a77d-462f3cf8e4aa"
      },
      "source": [
        "# Transforming our dataset into a supervised learning problem using the function\n",
        "# Columns Colx(t-x) represented the forecated values for Colx(t) for the dataset\n",
        "\n",
        "df5 = dataframe_to_supervised(scaled)\n",
        "df5.head(3)"
      ],
      "execution_count": 54,
      "outputs": [
        {
          "output_type": "execute_result",
          "data": {
            "text/html": [
              "<div>\n",
              "<style scoped>\n",
              "    .dataframe tbody tr th:only-of-type {\n",
              "        vertical-align: middle;\n",
              "    }\n",
              "\n",
              "    .dataframe tbody tr th {\n",
              "        vertical-align: top;\n",
              "    }\n",
              "\n",
              "    .dataframe thead th {\n",
              "        text-align: right;\n",
              "    }\n",
              "</style>\n",
              "<table border=\"1\" class=\"dataframe\">\n",
              "  <thead>\n",
              "    <tr style=\"text-align: right;\">\n",
              "      <th></th>\n",
              "      <th>Col1(t-1)</th>\n",
              "      <th>Col2(t-1)</th>\n",
              "      <th>Col3(t-1)</th>\n",
              "      <th>Col4(t-1)</th>\n",
              "      <th>Col5(t-1)</th>\n",
              "      <th>Col6(t-1)</th>\n",
              "      <th>Col7(t-1)</th>\n",
              "      <th>Col8(t-1)</th>\n",
              "      <th>Col9(t-1)</th>\n",
              "      <th>Col10(t-1)</th>\n",
              "      <th>Col1(t)</th>\n",
              "      <th>Col2(t)</th>\n",
              "      <th>Col3(t)</th>\n",
              "      <th>Col4(t)</th>\n",
              "      <th>Col5(t)</th>\n",
              "      <th>Col6(t)</th>\n",
              "      <th>Col7(t)</th>\n",
              "      <th>Col8(t)</th>\n",
              "      <th>Col9(t)</th>\n",
              "      <th>Col10(t)</th>\n",
              "    </tr>\n",
              "  </thead>\n",
              "  <tbody>\n",
              "    <tr>\n",
              "      <th>1</th>\n",
              "      <td>0.320755</td>\n",
              "      <td>0.0</td>\n",
              "      <td>0.0</td>\n",
              "      <td>0.0</td>\n",
              "      <td>1.0</td>\n",
              "      <td>0.0</td>\n",
              "      <td>0.0</td>\n",
              "      <td>0.0</td>\n",
              "      <td>1.0</td>\n",
              "      <td>0.12702</td>\n",
              "      <td>0.320755</td>\n",
              "      <td>0.0</td>\n",
              "      <td>0.0</td>\n",
              "      <td>0.0</td>\n",
              "      <td>1.0</td>\n",
              "      <td>0.0</td>\n",
              "      <td>0.0</td>\n",
              "      <td>0.0</td>\n",
              "      <td>1.0</td>\n",
              "      <td>0.12702</td>\n",
              "    </tr>\n",
              "    <tr>\n",
              "      <th>2</th>\n",
              "      <td>0.320755</td>\n",
              "      <td>0.0</td>\n",
              "      <td>0.0</td>\n",
              "      <td>0.0</td>\n",
              "      <td>1.0</td>\n",
              "      <td>0.0</td>\n",
              "      <td>0.0</td>\n",
              "      <td>0.0</td>\n",
              "      <td>1.0</td>\n",
              "      <td>0.12702</td>\n",
              "      <td>0.320755</td>\n",
              "      <td>0.0</td>\n",
              "      <td>0.0</td>\n",
              "      <td>0.0</td>\n",
              "      <td>1.0</td>\n",
              "      <td>0.0</td>\n",
              "      <td>0.0</td>\n",
              "      <td>0.0</td>\n",
              "      <td>1.0</td>\n",
              "      <td>0.12702</td>\n",
              "    </tr>\n",
              "    <tr>\n",
              "      <th>3</th>\n",
              "      <td>0.320755</td>\n",
              "      <td>0.0</td>\n",
              "      <td>0.0</td>\n",
              "      <td>0.0</td>\n",
              "      <td>1.0</td>\n",
              "      <td>0.0</td>\n",
              "      <td>0.0</td>\n",
              "      <td>0.0</td>\n",
              "      <td>1.0</td>\n",
              "      <td>0.12702</td>\n",
              "      <td>0.320755</td>\n",
              "      <td>0.0</td>\n",
              "      <td>0.0</td>\n",
              "      <td>0.0</td>\n",
              "      <td>1.0</td>\n",
              "      <td>0.0</td>\n",
              "      <td>0.0</td>\n",
              "      <td>0.0</td>\n",
              "      <td>1.0</td>\n",
              "      <td>0.12702</td>\n",
              "    </tr>\n",
              "  </tbody>\n",
              "</table>\n",
              "</div>"
            ],
            "text/plain": [
              "   Col1(t-1)  Col2(t-1)  Col3(t-1)  ...  Col8(t)  Col9(t)  Col10(t)\n",
              "1   0.320755        0.0        0.0  ...      0.0      1.0   0.12702\n",
              "2   0.320755        0.0        0.0  ...      0.0      1.0   0.12702\n",
              "3   0.320755        0.0        0.0  ...      0.0      1.0   0.12702\n",
              "\n",
              "[3 rows x 20 columns]"
            ]
          },
          "metadata": {
            "tags": []
          },
          "execution_count": 54
        }
      ]
    },
    {
      "cell_type": "code",
      "metadata": {
        "id": "zCZ-62DdAzzy",
        "colab_type": "code",
        "colab": {
          "base_uri": "https://localhost:8080/",
          "height": 34
        },
        "outputId": "80c65a94-8083-4a04-b107-a42003b83bd9"
      },
      "source": [
        "df5.shape"
      ],
      "execution_count": 42,
      "outputs": [
        {
          "output_type": "execute_result",
          "data": {
            "text/plain": [
              "(1454, 80)"
            ]
          },
          "metadata": {
            "tags": []
          },
          "execution_count": 42
        }
      ]
    },
    {
      "cell_type": "markdown",
      "metadata": {
        "id": "GRDN16Quf68x",
        "colab_type": "text"
      },
      "source": [
        "The new dataset is constructed as a DataFrame, with each column suitably named both by variable number and time step. This allows you to design a variety of different time step sequence type forecasting problems from a given univariate or multivariate time series"
      ]
    },
    {
      "cell_type": "code",
      "metadata": {
        "id": "HnvVbJs-iJD4",
        "colab_type": "code",
        "colab": {
          "base_uri": "https://localhost:8080/",
          "height": 137
        },
        "outputId": "70694c8f-53a7-44d9-ad88-23074565d194"
      },
      "source": [
        "df6 = df5[['Col10(t-1)', 'Col1(t-1)', 'Col2(t-1)', 'Col3(t-1)', \n",
        "           'Col4(t-1)', 'Col5(t-1)', 'Col6(t-1)', 'Col7(t-1)', 'Col8(t-1)', 'Col9(t-1)', 'Col10(t)' ]]\n",
        "\n",
        "df6.head(3)\n"
      ],
      "execution_count": 57,
      "outputs": [
        {
          "output_type": "execute_result",
          "data": {
            "text/html": [
              "<div>\n",
              "<style scoped>\n",
              "    .dataframe tbody tr th:only-of-type {\n",
              "        vertical-align: middle;\n",
              "    }\n",
              "\n",
              "    .dataframe tbody tr th {\n",
              "        vertical-align: top;\n",
              "    }\n",
              "\n",
              "    .dataframe thead th {\n",
              "        text-align: right;\n",
              "    }\n",
              "</style>\n",
              "<table border=\"1\" class=\"dataframe\">\n",
              "  <thead>\n",
              "    <tr style=\"text-align: right;\">\n",
              "      <th></th>\n",
              "      <th>Col10(t-1)</th>\n",
              "      <th>Col1(t-1)</th>\n",
              "      <th>Col2(t-1)</th>\n",
              "      <th>Col3(t-1)</th>\n",
              "      <th>Col4(t-1)</th>\n",
              "      <th>Col5(t-1)</th>\n",
              "      <th>Col6(t-1)</th>\n",
              "      <th>Col7(t-1)</th>\n",
              "      <th>Col8(t-1)</th>\n",
              "      <th>Col9(t-1)</th>\n",
              "      <th>Col10(t)</th>\n",
              "    </tr>\n",
              "  </thead>\n",
              "  <tbody>\n",
              "    <tr>\n",
              "      <th>1</th>\n",
              "      <td>0.12702</td>\n",
              "      <td>0.320755</td>\n",
              "      <td>0.0</td>\n",
              "      <td>0.0</td>\n",
              "      <td>0.0</td>\n",
              "      <td>1.0</td>\n",
              "      <td>0.0</td>\n",
              "      <td>0.0</td>\n",
              "      <td>0.0</td>\n",
              "      <td>1.0</td>\n",
              "      <td>0.12702</td>\n",
              "    </tr>\n",
              "    <tr>\n",
              "      <th>2</th>\n",
              "      <td>0.12702</td>\n",
              "      <td>0.320755</td>\n",
              "      <td>0.0</td>\n",
              "      <td>0.0</td>\n",
              "      <td>0.0</td>\n",
              "      <td>1.0</td>\n",
              "      <td>0.0</td>\n",
              "      <td>0.0</td>\n",
              "      <td>0.0</td>\n",
              "      <td>1.0</td>\n",
              "      <td>0.12702</td>\n",
              "    </tr>\n",
              "    <tr>\n",
              "      <th>3</th>\n",
              "      <td>0.12702</td>\n",
              "      <td>0.320755</td>\n",
              "      <td>0.0</td>\n",
              "      <td>0.0</td>\n",
              "      <td>0.0</td>\n",
              "      <td>1.0</td>\n",
              "      <td>0.0</td>\n",
              "      <td>0.0</td>\n",
              "      <td>0.0</td>\n",
              "      <td>1.0</td>\n",
              "      <td>0.12702</td>\n",
              "    </tr>\n",
              "  </tbody>\n",
              "</table>\n",
              "</div>"
            ],
            "text/plain": [
              "   Col10(t-1)  Col1(t-1)  Col2(t-1)  ...  Col8(t-1)  Col9(t-1)  Col10(t)\n",
              "1     0.12702   0.320755        0.0  ...        0.0        1.0   0.12702\n",
              "2     0.12702   0.320755        0.0  ...        0.0        1.0   0.12702\n",
              "3     0.12702   0.320755        0.0  ...        0.0        1.0   0.12702\n",
              "\n",
              "[3 rows x 11 columns]"
            ]
          },
          "metadata": {
            "tags": []
          },
          "execution_count": 57
        }
      ]
    },
    {
      "cell_type": "code",
      "metadata": {
        "id": "w8rmsoBlWJM2",
        "colab_type": "code",
        "colab": {
          "base_uri": "https://localhost:8080/",
          "height": 34
        },
        "outputId": "929bf19f-dc2d-4415-ecab-9a78a34b6241"
      },
      "source": [
        "# I need a numpy array of values to proceed\n",
        "values2 = df6.values\n",
        "\n",
        "#Split to train and test\n",
        "Len = int(len(values2)*0.8)\n",
        "train = values2[:Len, :]\n",
        "test = values2[Len:, :]\n",
        "\n",
        "# split into input and outputs\n",
        "train_X, train_y = train[:, :-1], train[:, -1]\n",
        "test_X, test_y = test[:, :-1], test[:, -1]\n",
        "\n",
        "# reshape input to be 3D [samples, timesteps, features]\n",
        "train_X = train_X.reshape((train_X.shape[0], 1, train_X.shape[1]))\n",
        "test_X = test_X.reshape((test_X.shape[0], 1, test_X.shape[1]))\n",
        "print(train_X.shape, train_y.shape, test_X.shape, test_y.shape)"
      ],
      "execution_count": 58,
      "outputs": [
        {
          "output_type": "stream",
          "text": [
            "(1681920, 1, 10) (1681920,) (420480, 1, 10) (420480,)\n"
          ],
          "name": "stdout"
        }
      ]
    },
    {
      "cell_type": "markdown",
      "metadata": {
        "id": "MC5k1Urf-Bd4",
        "colab_type": "text"
      },
      "source": [
        "Creating the LSTM Model"
      ]
    },
    {
      "cell_type": "code",
      "metadata": {
        "id": "g150EeVS6XzA",
        "colab_type": "code",
        "colab": {}
      },
      "source": [
        "\n",
        "import keras\n",
        "from keras.models import Sequential\n",
        "from keras.layers import LSTM, Dense\n",
        "\n",
        "# Creating/Initializing\n",
        "\n",
        "model = Sequential()\n",
        "model.add(LSTM(50, input_shape=(1, 10), return_sequences= True, stateful= False))\n",
        "model.add(Dense(1))\n",
        "\n",
        "# Compiling\n",
        "model.compile(loss='mae', optimizer='adam')\n",
        "\n"
      ],
      "execution_count": 59,
      "outputs": []
    },
    {
      "cell_type": "markdown",
      "metadata": {
        "id": "BJES3_ky58jO",
        "colab_type": "text"
      },
      "source": [
        "Fitting model and evalueting to see accuracy"
      ]
    },
    {
      "cell_type": "code",
      "metadata": {
        "id": "GSBGMhk96Cgn",
        "colab_type": "code",
        "colab": {
          "base_uri": "https://localhost:8080/",
          "height": 814
        },
        "outputId": "e4abe2de-8909-4bef-d958-cc3e7b04e72e"
      },
      "source": [
        "# params\n",
        "\n",
        "epochs = 15\n",
        "BATCH_SIZE = 50\n",
        "# fit network\n",
        "history = model.fit(train_X, train_y, epochs=epochs, batch_size= BATCH_SIZE, validation_data=(test_X, test_y), verbose=1, shuffle=True)\n",
        "\n",
        "# plot history\n",
        "plt.plot(history.history['loss'], label='train')\n",
        "plt.plot(history.history['val_loss'], label='test')\n",
        "plt.title('loss')\n",
        "plt.legend()\n",
        "plt.show()\n"
      ],
      "execution_count": 60,
      "outputs": [
        {
          "output_type": "stream",
          "text": [
            "Epoch 1/15\n",
            "33639/33639 [==============================] - 120s 4ms/step - loss: 0.0025 - val_loss: 0.0020\n",
            "Epoch 2/15\n",
            "33639/33639 [==============================] - 118s 4ms/step - loss: 0.0011 - val_loss: 0.0020\n",
            "Epoch 3/15\n",
            "33639/33639 [==============================] - 120s 4ms/step - loss: 0.0010 - val_loss: 0.0020\n",
            "Epoch 4/15\n",
            "33639/33639 [==============================] - 118s 4ms/step - loss: 9.4354e-04 - val_loss: 7.4540e-04\n",
            "Epoch 5/15\n",
            "33639/33639 [==============================] - 120s 4ms/step - loss: 8.9475e-04 - val_loss: 0.0013\n",
            "Epoch 6/15\n",
            "33639/33639 [==============================] - 116s 3ms/step - loss: 8.5095e-04 - val_loss: 5.9496e-04\n",
            "Epoch 7/15\n",
            "33639/33639 [==============================] - 118s 3ms/step - loss: 8.1221e-04 - val_loss: 5.4257e-04\n",
            "Epoch 8/15\n",
            "33639/33639 [==============================] - 118s 3ms/step - loss: 7.9039e-04 - val_loss: 8.4808e-04\n",
            "Epoch 9/15\n",
            "33639/33639 [==============================] - 118s 4ms/step - loss: 7.6818e-04 - val_loss: 8.3103e-04\n",
            "Epoch 10/15\n",
            "33639/33639 [==============================] - 119s 4ms/step - loss: 7.3203e-04 - val_loss: 5.8617e-04\n",
            "Epoch 11/15\n",
            "33639/33639 [==============================] - 119s 4ms/step - loss: 7.1149e-04 - val_loss: 5.0256e-04\n",
            "Epoch 12/15\n",
            "33639/33639 [==============================] - 117s 3ms/step - loss: 6.9865e-04 - val_loss: 3.4189e-04\n",
            "Epoch 13/15\n",
            "33639/33639 [==============================] - 119s 4ms/step - loss: 6.6415e-04 - val_loss: 5.4125e-04\n",
            "Epoch 14/15\n",
            "33639/33639 [==============================] - 118s 4ms/step - loss: 6.5099e-04 - val_loss: 5.8875e-04\n",
            "Epoch 15/15\n",
            "33639/33639 [==============================] - 117s 3ms/step - loss: 6.2276e-04 - val_loss: 6.0986e-04\n"
          ],
          "name": "stdout"
        },
        {
          "output_type": "display_data",
          "data": {
            "image/png": "[encoded data removed]",
            "text/plain": [
              "<Figure size 432x288 with 1 Axes>"
            ]
          },
          "metadata": {
            "tags": [],
            "needs_background": "light"
          }
        }
      ]
    },
    {
      "cell_type": "markdown",
      "metadata": {
        "id": "9zGK-31AcIsx",
        "colab_type": "text"
      },
      "source": [
        "Evaluating model"
      ]
    },
    {
      "cell_type": "code",
      "metadata": {
        "id": "qv5GLgm83cnc",
        "colab_type": "code",
        "colab": {}
      },
      "source": [
        "\n",
        "from pandas import DataFrame\n",
        "from pandas import concat\n",
        "from numpy import concatenate\n",
        "\n",
        "# Predicting Y values using our test data\n",
        "yhat = model.predict(test_X)\n",
        "\n",
        "# Reshape yhat and test_X to 2D in order to combine the two\n",
        "yhat = yhat.reshape((yhat.shape[0], yhat.shape[2]))\n",
        "Newtest_X = test_X.reshape((test_X.shape[0], test_X.shape[2]))\n",
        "\n",
        "# Combine and trenasform to original values (denormalize)\n",
        "inv_yhat = concatenate((Newtest_X[:, :-1], yhat), axis=1)\n",
        "inv_yhat2 = scaler.inverse_transform(inv_yhat)\n",
        "inv_yhat3 = inv_yhat2[:,-1]\n"
      ],
      "execution_count": 65,
      "outputs": []
    },
    {
      "cell_type": "code",
      "metadata": {
        "id": "U6QcecZs4BPM",
        "colab_type": "code",
        "colab": {}
      },
      "source": [
        "# Invert actual Y values to original scale\n",
        "Newtest_y = test_y.reshape((len(test_y), 1))\n",
        "inv_y = concatenate((Newtest_X[:, :-1], Newtest_y), axis=1)\n",
        "inv_y2 = scaler.inverse_transform(inv_y)\n",
        "inv_y3 = inv_y2[:,-1]"
      ],
      "execution_count": 70,
      "outputs": []
    },
    {
      "cell_type": "code",
      "metadata": {
        "id": "vLUy7iJzD6zb",
        "colab_type": "code",
        "colab": {
          "base_uri": "https://localhost:8080/",
          "height": 34
        },
        "outputId": "8c66233c-07df-473c-9967-5223113147d4"
      },
      "source": [
        "# calculating Root Mean Squared Error (RMSE)\n",
        "from math import sqrt\n",
        "from sklearn.metrics import mean_squared_error\n",
        "rmse = sqrt(mean_squared_error(inv_y3, inv_yhat3))\n",
        "print('Test RMSE: %.3f' % rmse)"
      ],
      "execution_count": 72,
      "outputs": [
        {
          "output_type": "stream",
          "text": [
            "Test RMSE: 1.342\n"
          ],
          "name": "stdout"
        }
      ]
    },
    {
      "cell_type": "markdown",
      "metadata": {
        "id": "n3sAtC9wQ4hn",
        "colab_type": "text"
      },
      "source": [
        "Root Mean Square Error (RMSE) for minutes and daily data"
      ]
    },
    {
      "cell_type": "markdown",
      "metadata": {
        "id": "sqavFPhXXy-1",
        "colab_type": "text"
      },
      "source": [
        "`The model achieves a very good RMSE of $1.34 in per minute data. Given that the minimum revenue per minute is $18 and maximum revenue per minute is $314 this is a great RMSE.`"
      ]
    },
    {
      "cell_type": "markdown",
      "metadata": {
        "id": "5ybfMjTLR3lN",
        "colab_type": "text"
      },
      "source": [
        "`Daily data achieves a good RMSE of ~60K`"
      ]
    },
    {
      "cell_type": "code",
      "metadata": {
        "id": "rTWnOsleSev7",
        "colab_type": "code",
        "colab": {
          "base_uri": "https://localhost:8080/",
          "height": 34
        },
        "outputId": "049ef5a3-c017-4f16-bf66-ae202df741c7"
      },
      "source": [
        "# Comparing actuals and predicted values\n",
        "# actuals\n",
        "inv_y3[[1, 2001, 4001, 6001]]"
      ],
      "execution_count": 84,
      "outputs": [
        {
          "output_type": "execute_result",
          "data": {
            "text/plain": [
              "array([209.49652, 211.74652, 201.18402, 155.7743 ], dtype=float32)"
            ]
          },
          "metadata": {
            "tags": []
          },
          "execution_count": 84
        }
      ]
    },
    {
      "cell_type": "code",
      "metadata": {
        "id": "RmK757fnZM77",
        "colab_type": "code",
        "colab": {
          "base_uri": "https://localhost:8080/",
          "height": 34
        },
        "outputId": "7779d358-c552-4b08-9aec-0383cf2a1f5f"
      },
      "source": [
        "#predicted\n",
        "inv_yhat3[[1, 2001, 4001, 6001]]"
      ],
      "execution_count": 85,
      "outputs": [
        {
          "output_type": "execute_result",
          "data": {
            "text/plain": [
              "array([209.60353, 211.87834, 201.2818 , 155.88098], dtype=float32)"
            ]
          },
          "metadata": {
            "tags": []
          },
          "execution_count": 85
        }
      ]
    }
  ]
}