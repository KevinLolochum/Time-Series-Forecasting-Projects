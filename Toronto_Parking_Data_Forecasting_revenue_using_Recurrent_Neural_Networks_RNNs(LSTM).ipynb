{
  "nbformat": 4,
  "nbformat_minor": 0,
  "metadata": {
    "colab": {
      "name": "Toronto Parking Data - Forecasting revenue using Recurrent Neural Networks RNNs(LSTM)",
      "provenance": [],
      "collapsed_sections": [],
      "mount_file_id": "1OiC6Gu0DJ8iJzC4tpslpzDqquIhEYXlR",
      "authorship_tag": "ABX9TyNihyZdG+381oo+4T8XwWg+",
      "include_colab_link": true
    },
    "kernelspec": {
      "name": "python3",
      "display_name": "Python 3"
    },
    "accelerator": "GPU"
  },
  "cells": [
    {
      "cell_type": "markdown",
      "metadata": {
        "id": "view-in-github",
        "colab_type": "text"
      },
      "source": [
        "<a href=\"https://colab.research.google.com/github/KevinLolochum/Time-Series-Forecasting-Projects/blob/master/Toronto_Parking_Data_Forecasting_revenue_using_Recurrent_Neural_Networks_RNNs(LSTM).ipynb\" target=\"_parent\"><img src=\"https://colab.research.google.com/assets/colab-badge.svg\" alt=\"Open In Colab\"/></a>"
      ]
    },
    {
      "cell_type": "markdown",
      "metadata": {
        "id": "8IZFf1vsz9oN"
      },
      "source": [
        "# Introduction"
      ]
    },
    {
      "cell_type": "markdown",
      "metadata": {
        "id": "SG4apB0a0KX1"
      },
      "source": [
        "Predicting Toronto City revenue using previous revenue, weather conditions and holidays"
      ]
    },
    {
      "cell_type": "markdown",
      "metadata": {
        "id": "OvOSlYsc18mC"
      },
      "source": [
        "Data sources\n",
        "\n",
        "1. Canadian holidays dataset https://github.com/uWaterloo/Datasets/blob/master/Holidays/holidays.csv  \n",
        "2. Toronto temp and seasons dataset https://www.kaggle.com/rainbowgirl/climate-data-toronto-19372018\n",
        "and https://toronto.weatherstats.ca/download.html\n",
        "3. Parking tickets  https://open.toronto.ca/dataset/parking-tickets/\n"
      ]
    },
    {
      "cell_type": "code",
      "metadata": {
        "id": "MoBnXoqZOAUR"
      },
      "source": [
        "# Importing useful libraries\n",
        "\n",
        "# For data analysis and visualization\n",
        "import pandas as pd\n",
        "import numpy as np\n",
        "import glob\n",
        "# for ML and DL\n",
        "import tensorflow as ts\n",
        "import keras"
      ],
      "execution_count": null,
      "outputs": []
    },
    {
      "cell_type": "code",
      "metadata": {
        "id": "Po9ve_LZPnYt",
        "outputId": "aae01069-9606-4285-dc0f-4c92dc50404f",
        "colab": {
          "base_uri": "https://localhost:8080/"
        }
      },
      "source": [
        "# Connecting to Gdrive to aceess data\n",
        "from google.colab import drive\n",
        "drive.mount('/content/gdrive')"
      ],
      "execution_count": null,
      "outputs": [
        {
          "output_type": "stream",
          "text": [
            "Mounted at /content/gdrive\n"
          ],
          "name": "stdout"
        }
      ]
    },
    {
      "cell_type": "markdown",
      "metadata": {
        "id": "cQHWxn1-FcnA"
      },
      "source": [
        "Loading and combining the parking dataset from drive"
      ]
    },
    {
      "cell_type": "code",
      "metadata": {
        "id": "8OOgyLrgE6ak"
      },
      "source": [
        "filenames = sorted(glob.glob('/content/gdrive/My Drive/Parking_Tags_Data_201*.csv'))\n",
        "filenames = filenames[:]\n",
        "\n",
        "def conc(filenames):\n",
        "  df = pd.DataFrame()\n",
        "  for filename in filenames:\n",
        "    data = pd.read_csv(filename, delimiter=',')\n",
        "    df = df.append(data)\n",
        "  return df\n"
      ],
      "execution_count": null,
      "outputs": []
    },
    {
      "cell_type": "code",
      "metadata": {
        "id": "dyOYKgj1Jwki",
        "outputId": "827d139c-f26a-459b-e53a-6dba852e4e28",
        "colab": {
          "base_uri": "https://localhost:8080/",
          "height": 187
        }
      },
      "source": [
        "df = conc(filenames=filenames[:])\n",
        "df.head(3)\n"
      ],
      "execution_count": null,
      "outputs": [
        {
          "output_type": "execute_result",
          "data": {
            "text/html": [
              "<div>\n",
              "<style scoped>\n",
              "    .dataframe tbody tr th:only-of-type {\n",
              "        vertical-align: middle;\n",
              "    }\n",
              "\n",
              "    .dataframe tbody tr th {\n",
              "        vertical-align: top;\n",
              "    }\n",
              "\n",
              "    .dataframe thead th {\n",
              "        text-align: right;\n",
              "    }\n",
              "</style>\n",
              "<table border=\"1\" class=\"dataframe\">\n",
              "  <thead>\n",
              "    <tr style=\"text-align: right;\">\n",
              "      <th></th>\n",
              "      <th>tag_number_masked</th>\n",
              "      <th>date_of_infraction</th>\n",
              "      <th>infraction_code</th>\n",
              "      <th>infraction_description</th>\n",
              "      <th>set_fine_amount</th>\n",
              "      <th>time_of_infraction</th>\n",
              "      <th>location1</th>\n",
              "      <th>location2</th>\n",
              "      <th>location3</th>\n",
              "      <th>location4</th>\n",
              "      <th>province</th>\n",
              "    </tr>\n",
              "  </thead>\n",
              "  <tbody>\n",
              "    <tr>\n",
              "      <th>0</th>\n",
              "      <td>***87325</td>\n",
              "      <td>20150101</td>\n",
              "      <td>15.0</td>\n",
              "      <td>PARK-WITHIN 3M OF FIRE HYDRANT</td>\n",
              "      <td>100</td>\n",
              "      <td>1.0</td>\n",
              "      <td>OPP</td>\n",
              "      <td>11 CENTRE AVE</td>\n",
              "      <td>NaN</td>\n",
              "      <td>NaN</td>\n",
              "      <td>ON</td>\n",
              "    </tr>\n",
              "    <tr>\n",
              "      <th>1</th>\n",
              "      <td>***87326</td>\n",
              "      <td>20150101</td>\n",
              "      <td>15.0</td>\n",
              "      <td>PARK-WITHIN 3M OF FIRE HYDRANT</td>\n",
              "      <td>100</td>\n",
              "      <td>1.0</td>\n",
              "      <td>OPP</td>\n",
              "      <td>11 CENTRE AVE</td>\n",
              "      <td>NaN</td>\n",
              "      <td>NaN</td>\n",
              "      <td>ON</td>\n",
              "    </tr>\n",
              "    <tr>\n",
              "      <th>2</th>\n",
              "      <td>***09493</td>\n",
              "      <td>20150101</td>\n",
              "      <td>3.0</td>\n",
              "      <td>PARK ON PRIVATE PROPERTY</td>\n",
              "      <td>30</td>\n",
              "      <td>2.0</td>\n",
              "      <td>NR</td>\n",
              "      <td>2425 JANE ST</td>\n",
              "      <td>NaN</td>\n",
              "      <td>NaN</td>\n",
              "      <td>ON</td>\n",
              "    </tr>\n",
              "  </tbody>\n",
              "</table>\n",
              "</div>"
            ],
            "text/plain": [
              "  tag_number_masked  date_of_infraction  ...  location4 province\n",
              "0          ***87325            20150101  ...        NaN       ON\n",
              "1          ***87326            20150101  ...        NaN       ON\n",
              "2          ***09493            20150101  ...        NaN       ON\n",
              "\n",
              "[3 rows x 11 columns]"
            ]
          },
          "metadata": {
            "tags": []
          },
          "execution_count": 4
        }
      ]
    },
    {
      "cell_type": "markdown",
      "metadata": {
        "id": "BfUJ-Tzwp_6Y"
      },
      "source": [
        "Exploring output"
      ]
    },
    {
      "cell_type": "code",
      "metadata": {
        "id": "MyuEve7JnIXz",
        "outputId": "2800afb0-d3a3-4f27-effb-febcf1fbd18c",
        "colab": {
          "base_uri": "https://localhost:8080/"
        }
      },
      "source": [
        "#Checking the shape of data\n",
        "#df.isna().sum()\n",
        "#df.dtypes\n",
        "df.shape"
      ],
      "execution_count": null,
      "outputs": [
        {
          "output_type": "execute_result",
          "data": {
            "text/plain": [
              "(8611768, 11)"
            ]
          },
          "metadata": {
            "tags": []
          },
          "execution_count": 5
        }
      ]
    },
    {
      "cell_type": "markdown",
      "metadata": {
        "id": "iFOhvYf6fYGJ"
      },
      "source": [
        "Some cleaning"
      ]
    },
    {
      "cell_type": "code",
      "metadata": {
        "id": "VgAvzrtoBpuv"
      },
      "source": [
        "# Converting date of infraction to date and set as index\n",
        "def clean(data):\n",
        "  df.date_of_infraction = pd.to_datetime(df['date_of_infraction'], \n",
        "                                         format='%Y%m%d', errors='ignore')\n",
        "  dfr = df.set_index('date_of_infraction')\n",
        "\n",
        "# Aggregate fine amount by date and renaming\n",
        "# could do better with hourly agg but data is messy\n",
        "\n",
        "  dfx = dfr['set_fine_amount'].resample('d').sum()\n",
        "  dfs = pd.DataFrame(dfx)\n",
        "  dfs = dfs.rename(columns={'set_fine_amount': 'Revenue'})\n",
        "  return dfs\n"
      ],
      "execution_count": null,
      "outputs": []
    },
    {
      "cell_type": "code",
      "metadata": {
        "id": "VOitCuVSbMhS",
        "outputId": "ab7b9b70-ed7d-4ec4-da8e-fb9fe66bf144",
        "colab": {
          "base_uri": "https://localhost:8080/",
          "height": 137
        }
      },
      "source": [
        "df1 = clean(df)\n",
        "df1.head(2)"
      ],
      "execution_count": null,
      "outputs": [
        {
          "output_type": "execute_result",
          "data": {
            "text/html": [
              "<div>\n",
              "<style scoped>\n",
              "    .dataframe tbody tr th:only-of-type {\n",
              "        vertical-align: middle;\n",
              "    }\n",
              "\n",
              "    .dataframe tbody tr th {\n",
              "        vertical-align: top;\n",
              "    }\n",
              "\n",
              "    .dataframe thead th {\n",
              "        text-align: right;\n",
              "    }\n",
              "</style>\n",
              "<table border=\"1\" class=\"dataframe\">\n",
              "  <thead>\n",
              "    <tr style=\"text-align: right;\">\n",
              "      <th></th>\n",
              "      <th>Revenue</th>\n",
              "    </tr>\n",
              "    <tr>\n",
              "      <th>date_of_infraction</th>\n",
              "      <th></th>\n",
              "    </tr>\n",
              "  </thead>\n",
              "  <tbody>\n",
              "    <tr>\n",
              "      <th>2015-01-01</th>\n",
              "      <td>79975</td>\n",
              "    </tr>\n",
              "    <tr>\n",
              "      <th>2015-01-02</th>\n",
              "      <td>315130</td>\n",
              "    </tr>\n",
              "  </tbody>\n",
              "</table>\n",
              "</div>"
            ],
            "text/plain": [
              "                    Revenue\n",
              "date_of_infraction         \n",
              "2015-01-01            79975\n",
              "2015-01-02           315130"
            ]
          },
          "metadata": {
            "tags": []
          },
          "execution_count": 7
        }
      ]
    },
    {
      "cell_type": "markdown",
      "metadata": {
        "id": "eKZK4CXLq9ID"
      },
      "source": [
        "## Additional data - Weather, Holidays and Seasons"
      ]
    },
    {
      "cell_type": "code",
      "metadata": {
        "id": "aZYtoFVZ9aRE",
        "outputId": "59690c8f-768e-4dca-f4ed-68e9d278aeaa",
        "colab": {
          "base_uri": "https://localhost:8080/",
          "height": 137
        }
      },
      "source": [
        "# Loading from drive\n",
        "AData = pd.read_csv('/content/gdrive/My Drive/Toronto_weather_and_holidays.csv', delimiter=',', parse_dates=True)\n",
        "\n",
        "# Set date as index and delete holiday\n",
        "\n",
        "AData['DATE'] = pd.to_datetime(AData[['Year', 'Month', 'Day']])\n",
        "Data = AData.set_index('DATE')\n",
        "Data.pop('Date')\n",
        "Data.head(2)"
      ],
      "execution_count": null,
      "outputs": [
        {
          "output_type": "execute_result",
          "data": {
            "text/html": [
              "<div>\n",
              "<style scoped>\n",
              "    .dataframe tbody tr th:only-of-type {\n",
              "        vertical-align: middle;\n",
              "    }\n",
              "\n",
              "    .dataframe tbody tr th {\n",
              "        vertical-align: top;\n",
              "    }\n",
              "\n",
              "    .dataframe thead th {\n",
              "        text-align: right;\n",
              "    }\n",
              "</style>\n",
              "<table border=\"1\" class=\"dataframe\">\n",
              "  <thead>\n",
              "    <tr style=\"text-align: right;\">\n",
              "      <th></th>\n",
              "      <th>Year</th>\n",
              "      <th>Month</th>\n",
              "      <th>Day</th>\n",
              "      <th>Temp</th>\n",
              "      <th>Rain</th>\n",
              "      <th>Snow</th>\n",
              "      <th>Precip</th>\n",
              "      <th>season</th>\n",
              "      <th>Holiday</th>\n",
              "      <th>Is_holiday</th>\n",
              "    </tr>\n",
              "    <tr>\n",
              "      <th>DATE</th>\n",
              "      <th></th>\n",
              "      <th></th>\n",
              "      <th></th>\n",
              "      <th></th>\n",
              "      <th></th>\n",
              "      <th></th>\n",
              "      <th></th>\n",
              "      <th></th>\n",
              "      <th></th>\n",
              "      <th></th>\n",
              "    </tr>\n",
              "  </thead>\n",
              "  <tbody>\n",
              "    <tr>\n",
              "      <th>2018-01-01</th>\n",
              "      <td>2018</td>\n",
              "      <td>1</td>\n",
              "      <td>1</td>\n",
              "      <td>-15</td>\n",
              "      <td>0</td>\n",
              "      <td>0</td>\n",
              "      <td>0</td>\n",
              "      <td>Winter</td>\n",
              "      <td>New Year's Day</td>\n",
              "      <td>1</td>\n",
              "    </tr>\n",
              "    <tr>\n",
              "      <th>2018-01-02</th>\n",
              "      <td>2018</td>\n",
              "      <td>1</td>\n",
              "      <td>2</td>\n",
              "      <td>-11</td>\n",
              "      <td>0</td>\n",
              "      <td>1</td>\n",
              "      <td>1</td>\n",
              "      <td>Winter</td>\n",
              "      <td>NaN</td>\n",
              "      <td>0</td>\n",
              "    </tr>\n",
              "  </tbody>\n",
              "</table>\n",
              "</div>"
            ],
            "text/plain": [
              "            Year  Month  Day  Temp  ...  Precip  season         Holiday Is_holiday\n",
              "DATE                                ...                                           \n",
              "2018-01-01  2018      1    1   -15  ...       0  Winter  New Year's Day          1\n",
              "2018-01-02  2018      1    2   -11  ...       1  Winter             NaN          0\n",
              "\n",
              "[2 rows x 10 columns]"
            ]
          },
          "metadata": {
            "tags": []
          },
          "execution_count": 8
        }
      ]
    },
    {
      "cell_type": "code",
      "metadata": {
        "id": "opOTbhLmra9n",
        "outputId": "15bab24b-026c-4d1a-e702-f8dc2a386caa",
        "colab": {
          "base_uri": "https://localhost:8080/",
          "height": 137
        }
      },
      "source": [
        "# Creating dummies for seasons\n",
        "df2 = Data[['Temp', 'Rain', 'Snow', 'Precip', 'season', 'Is_holiday']]\n",
        "df2 = pd.get_dummies(df2, dummy_na = False)\n",
        "df2.head(2)"
      ],
      "execution_count": null,
      "outputs": [
        {
          "output_type": "execute_result",
          "data": {
            "text/html": [
              "<div>\n",
              "<style scoped>\n",
              "    .dataframe tbody tr th:only-of-type {\n",
              "        vertical-align: middle;\n",
              "    }\n",
              "\n",
              "    .dataframe tbody tr th {\n",
              "        vertical-align: top;\n",
              "    }\n",
              "\n",
              "    .dataframe thead th {\n",
              "        text-align: right;\n",
              "    }\n",
              "</style>\n",
              "<table border=\"1\" class=\"dataframe\">\n",
              "  <thead>\n",
              "    <tr style=\"text-align: right;\">\n",
              "      <th></th>\n",
              "      <th>Temp</th>\n",
              "      <th>Rain</th>\n",
              "      <th>Snow</th>\n",
              "      <th>Precip</th>\n",
              "      <th>Is_holiday</th>\n",
              "      <th>season_Fall</th>\n",
              "      <th>season_Spring</th>\n",
              "      <th>season_Summer</th>\n",
              "      <th>season_Winter</th>\n",
              "    </tr>\n",
              "    <tr>\n",
              "      <th>DATE</th>\n",
              "      <th></th>\n",
              "      <th></th>\n",
              "      <th></th>\n",
              "      <th></th>\n",
              "      <th></th>\n",
              "      <th></th>\n",
              "      <th></th>\n",
              "      <th></th>\n",
              "      <th></th>\n",
              "    </tr>\n",
              "  </thead>\n",
              "  <tbody>\n",
              "    <tr>\n",
              "      <th>2018-01-01</th>\n",
              "      <td>-15</td>\n",
              "      <td>0</td>\n",
              "      <td>0</td>\n",
              "      <td>0</td>\n",
              "      <td>1</td>\n",
              "      <td>0</td>\n",
              "      <td>0</td>\n",
              "      <td>0</td>\n",
              "      <td>1</td>\n",
              "    </tr>\n",
              "    <tr>\n",
              "      <th>2018-01-02</th>\n",
              "      <td>-11</td>\n",
              "      <td>0</td>\n",
              "      <td>1</td>\n",
              "      <td>1</td>\n",
              "      <td>0</td>\n",
              "      <td>0</td>\n",
              "      <td>0</td>\n",
              "      <td>0</td>\n",
              "      <td>1</td>\n",
              "    </tr>\n",
              "  </tbody>\n",
              "</table>\n",
              "</div>"
            ],
            "text/plain": [
              "            Temp  Rain  Snow  ...  season_Spring  season_Summer  season_Winter\n",
              "DATE                          ...                                             \n",
              "2018-01-01   -15     0     0  ...              0              0              1\n",
              "2018-01-02   -11     0     1  ...              0              0              1\n",
              "\n",
              "[2 rows x 9 columns]"
            ]
          },
          "metadata": {
            "tags": []
          },
          "execution_count": 9
        }
      ]
    },
    {
      "cell_type": "markdown",
      "metadata": {
        "id": "uoS1WMZDF4tL"
      },
      "source": [
        "Combining the two datasets form our final dataset"
      ]
    },
    {
      "cell_type": "code",
      "metadata": {
        "id": "WZdYpw4gLjHJ",
        "outputId": "36d34136-cc6c-4b4a-d724-476f78c4d420",
        "colab": {
          "base_uri": "https://localhost:8080/",
          "height": 107
        }
      },
      "source": [
        "# Pd.merge on date combines horizontally and also implements cross join if\n",
        "df3 = pd.merge(df2, df1, left_index=True, right_index=True)\n",
        "df3.head(2)\n"
      ],
      "execution_count": null,
      "outputs": [
        {
          "output_type": "execute_result",
          "data": {
            "text/html": [
              "<div>\n",
              "<style scoped>\n",
              "    .dataframe tbody tr th:only-of-type {\n",
              "        vertical-align: middle;\n",
              "    }\n",
              "\n",
              "    .dataframe tbody tr th {\n",
              "        vertical-align: top;\n",
              "    }\n",
              "\n",
              "    .dataframe thead th {\n",
              "        text-align: right;\n",
              "    }\n",
              "</style>\n",
              "<table border=\"1\" class=\"dataframe\">\n",
              "  <thead>\n",
              "    <tr style=\"text-align: right;\">\n",
              "      <th></th>\n",
              "      <th>Temp</th>\n",
              "      <th>Rain</th>\n",
              "      <th>Snow</th>\n",
              "      <th>Precip</th>\n",
              "      <th>Is_holiday</th>\n",
              "      <th>season_Fall</th>\n",
              "      <th>season_Spring</th>\n",
              "      <th>season_Summer</th>\n",
              "      <th>season_Winter</th>\n",
              "      <th>Revenue</th>\n",
              "    </tr>\n",
              "  </thead>\n",
              "  <tbody>\n",
              "    <tr>\n",
              "      <th>2018-01-01</th>\n",
              "      <td>-15</td>\n",
              "      <td>0</td>\n",
              "      <td>0</td>\n",
              "      <td>0</td>\n",
              "      <td>1</td>\n",
              "      <td>0</td>\n",
              "      <td>0</td>\n",
              "      <td>0</td>\n",
              "      <td>1</td>\n",
              "      <td>63490</td>\n",
              "    </tr>\n",
              "    <tr>\n",
              "      <th>2018-01-02</th>\n",
              "      <td>-11</td>\n",
              "      <td>0</td>\n",
              "      <td>1</td>\n",
              "      <td>1</td>\n",
              "      <td>0</td>\n",
              "      <td>0</td>\n",
              "      <td>0</td>\n",
              "      <td>0</td>\n",
              "      <td>1</td>\n",
              "      <td>285635</td>\n",
              "    </tr>\n",
              "  </tbody>\n",
              "</table>\n",
              "</div>"
            ],
            "text/plain": [
              "            Temp  Rain  Snow  ...  season_Summer  season_Winter  Revenue\n",
              "2018-01-01   -15     0     0  ...              0              1    63490\n",
              "2018-01-02   -11     0     1  ...              0              1   285635\n",
              "\n",
              "[2 rows x 10 columns]"
            ]
          },
          "metadata": {
            "tags": []
          },
          "execution_count": 11
        }
      ]
    },
    {
      "cell_type": "code",
      "metadata": {
        "id": "YlxbI7Tgxjmi"
      },
      "source": [
        "# Changing holiday to categorical\n",
        "df3['Is_holiday'] = df3['Is_holiday'].astype('uint8')"
      ],
      "execution_count": null,
      "outputs": []
    },
    {
      "cell_type": "markdown",
      "metadata": {
        "id": "VGSrm4eLvYg7"
      },
      "source": [
        "Downloading data to excel"
      ]
    },
    {
      "cell_type": "code",
      "metadata": {
        "id": "deuuUROHAD4y"
      },
      "source": [
        "#df3.to_excel(\"Toronto_Parking_Data.xlsx\", index=True, encoding='utf8')"
      ],
      "execution_count": null,
      "outputs": []
    },
    {
      "cell_type": "markdown",
      "metadata": {
        "id": "jLE8UKqBxXCs"
      },
      "source": [
        "## EDA"
      ]
    },
    {
      "cell_type": "markdown",
      "metadata": {
        "id": "ns9NX1k12S4E"
      },
      "source": [
        "This section will help me decide which model is best for this problem"
      ]
    },
    {
      "cell_type": "code",
      "metadata": {
        "id": "x_K9Xn_QmmvD"
      },
      "source": [
        "#! pip install https://github.com/pandas-profiling/pandas-profiling/archive/master.zip \n",
        "\n",
        "#from pandas_profiling import ProfileReport\n",
        "\n",
        "#Profile = ProfileReport(df3)"
      ],
      "execution_count": null,
      "outputs": []
    },
    {
      "cell_type": "code",
      "metadata": {
        "id": "_qelNLS7xVuH",
        "outputId": "60e86dcd-2e38-4bea-d171-ce1412d51174",
        "colab": {
          "base_uri": "https://localhost:8080/",
          "height": 162
        }
      },
      "source": [
        "import matplotlib.pyplot as plt\n",
        "import seaborn as sns\n",
        "\n",
        "columns = ['Temp', 'Rain', 'Snow', 'Precip', 'Is_holiday', 'season_Fall', 'season_Spring', 'season_Summer', 'season_Winter']\n",
        "\n",
        "sns.pairplot(df3, x_vars = columns , \n",
        "             y_vars = 'Revenue', height = 2);"
      ],
      "execution_count": null,
      "outputs": [
        {
          "output_type": "display_data",
          "data": {
            "image/png": "[encoded data removed]",
            "text/plain": [
              "<Figure size 1296x144 with 9 Axes>"
            ]
          },
          "metadata": {
            "tags": [],
            "needs_background": "light"
          }
        }
      ]
    },
    {
      "cell_type": "markdown",
      "metadata": {
        "id": "pktwwF8r2c80"
      },
      "source": [
        "There is some linear relationship between weather conditions and revenue.\n"
      ]
    },
    {
      "cell_type": "markdown",
      "metadata": {
        "id": "cqzXTJRR36q6"
      },
      "source": [
        "# Modelling"
      ]
    },
    {
      "cell_type": "markdown",
      "metadata": {
        "id": "JWFclvE54BA_"
      },
      "source": [
        "Even though my analysis above indicate indicate that there is some linear relationship between revenue and some some features, this data perfomed very bad on linear models even after regularization. The R_squared (coefficient of determination) for the best linear model was 0.1815.\n",
        "\n",
        "After testing a few other models such as SVR I decided to use a LSTM time series forecasting model, which performed pretty well as shown below.\n"
      ]
    },
    {
      "cell_type": "markdown",
      "metadata": {
        "id": "x4311ZffdrVK"
      },
      "source": [
        "## LSTM MODEL"
      ]
    },
    {
      "cell_type": "markdown",
      "metadata": {
        "id": "cZ5bKxx_HpUO"
      },
      "source": [
        "LSTM is ideal for this problem because we are trying to predict future values using current and past values.\n",
        "\n",
        "LSTM can remember values from the past when they are important and forget when they are no longer important. This is great for example because as seasons and weather change our model will know not to put so much weight on conditions such as snow or precipitation when making predictions."
      ]
    },
    {
      "cell_type": "code",
      "metadata": {
        "id": "XK_JJVNRuSKS"
      },
      "source": [
        "\n",
        "df4 = df3\n"
      ],
      "execution_count": null,
      "outputs": []
    },
    {
      "cell_type": "code",
      "metadata": {
        "id": "nw7UCFyz5da7",
        "outputId": "6ae1a100-855b-4676-d3c6-cc98d5268c36",
        "colab": {
          "base_uri": "https://localhost:8080/"
        }
      },
      "source": [
        "# Now we have a much larger dataset\n",
        "df4.shape"
      ],
      "execution_count": null,
      "outputs": [
        {
          "output_type": "execute_result",
          "data": {
            "text/plain": [
              "(1461, 10)"
            ]
          },
          "metadata": {
            "tags": []
          },
          "execution_count": 15
        }
      ]
    },
    {
      "cell_type": "markdown",
      "metadata": {
        "id": "DJcEAOxPhfqV"
      },
      "source": [
        "To apply LSTM I need to convert the time_series data to supervised learning problem"
      ]
    },
    {
      "cell_type": "markdown",
      "metadata": {
        "id": "0c4BKmtdJOtb"
      },
      "source": [
        "This long code does the following.\n",
        "\n",
        "1. Takes our data and naively forecasts the next value for each column by simply shifting current value to one period in future.\n",
        "\n",
        "   i.e we are predicting values at time (t) & t(1-n) using past values. for both outputs and inputs.\n",
        "2. Aggegates the columns and deletes null values created by shifting values forward.\n",
        "3. We do this for both features and targets because we also use the target for predicting."
      ]
    },
    {
      "cell_type": "code",
      "metadata": {
        "id": "hNQYSytehdSP"
      },
      "source": [
        "\n",
        "# prepare data for lstm\n",
        "from pandas import concat\n",
        "from sklearn.preprocessing import MinMaxScaler\n",
        "from pandas import DataFrame\n",
        "from sklearn.model_selection import train_test_split\n",
        " \n",
        "# convert series to supervised learning\n",
        "\n",
        "def dataframe_to_supervised(data, n_in=1, n_out=1, dropnan=True):\n",
        "# n_in, n_out define the lag of input and output, I can increase if I want to predict deeper into the future\n",
        "\tn_vars = 1 if type(data) is list else data.shape[1]\n",
        "\tdf = DataFrame(data)\n",
        "\tcols, names = list(), list()\n",
        " \n",
        "\t# input sequence (t-n, ... t-1)\n",
        "\tfor i in range(n_in, 0, -1):\n",
        "\t\tcols.append(df.shift(i))\n",
        "\t\tnames += [('Col%d(t-%d)' % (j+1, i)) for j in range(n_vars)]\n",
        "\n",
        "\t# forecast sequence (t, t+1, ... t+n)\n",
        "\tfor i in range(0, n_out):\n",
        "\t\tcols.append(df.shift(-i))\n",
        "\t\tif i == 0:\n",
        "\t\t\tnames += [('Col%d(t)' % (j+1)) for j in range(n_vars)]\n",
        "\t\telse:\n",
        "\t\t\tnames += [('Col%d(t+%d)' % (j+1, i)) for j in range(n_vars)]\n",
        "\t\n",
        "  # put it all together\n",
        "\tagg = concat(cols, axis=1)\n",
        "\tagg.columns = names\n",
        "\t\n",
        "  # drop rows with NaN values\n",
        "\tif dropnan:\n",
        "\t\tagg.dropna(inplace=True)\n",
        "\treturn agg\n",
        " "
      ],
      "execution_count": null,
      "outputs": []
    },
    {
      "cell_type": "code",
      "metadata": {
        "id": "59HK4vyk-Ve1"
      },
      "source": [
        "# Convert  dataframe to numpy array to easily normalize everything\n",
        "values = df4.values \n",
        "\n",
        "# Make data float for normalization\n",
        "values = values.astype('float32')\n",
        "\n",
        "# normalize features for model convinience\n",
        "scaler = MinMaxScaler(feature_range=(0, 1))\n",
        "scaled = scaler.fit_transform(values)"
      ],
      "execution_count": null,
      "outputs": []
    },
    {
      "cell_type": "code",
      "metadata": {
        "id": "KioyCBmtkm9P",
        "outputId": "55260441-f99c-40ca-b1de-362e7a0e7d5c",
        "colab": {
          "base_uri": "https://localhost:8080/",
          "height": 174
        }
      },
      "source": [
        "# Transforming our dataset into a supervised learning problem using the function\n",
        "# Columns Colx(t) are values forecasted from Colx(t-x)\n",
        "\n",
        "df5 = dataframe_to_supervised(scaled)\n",
        "df5.head(3)"
      ],
      "execution_count": null,
      "outputs": [
        {
          "output_type": "execute_result",
          "data": {
            "text/html": [
              "<div>\n",
              "<style scoped>\n",
              "    .dataframe tbody tr th:only-of-type {\n",
              "        vertical-align: middle;\n",
              "    }\n",
              "\n",
              "    .dataframe tbody tr th {\n",
              "        vertical-align: top;\n",
              "    }\n",
              "\n",
              "    .dataframe thead th {\n",
              "        text-align: right;\n",
              "    }\n",
              "</style>\n",
              "<table border=\"1\" class=\"dataframe\">\n",
              "  <thead>\n",
              "    <tr style=\"text-align: right;\">\n",
              "      <th></th>\n",
              "      <th>Col1(t-1)</th>\n",
              "      <th>Col2(t-1)</th>\n",
              "      <th>Col3(t-1)</th>\n",
              "      <th>Col4(t-1)</th>\n",
              "      <th>Col5(t-1)</th>\n",
              "      <th>Col6(t-1)</th>\n",
              "      <th>Col7(t-1)</th>\n",
              "      <th>Col8(t-1)</th>\n",
              "      <th>Col9(t-1)</th>\n",
              "      <th>Col10(t-1)</th>\n",
              "      <th>Col1(t)</th>\n",
              "      <th>Col2(t)</th>\n",
              "      <th>Col3(t)</th>\n",
              "      <th>Col4(t)</th>\n",
              "      <th>Col5(t)</th>\n",
              "      <th>Col6(t)</th>\n",
              "      <th>Col7(t)</th>\n",
              "      <th>Col8(t)</th>\n",
              "      <th>Col9(t)</th>\n",
              "      <th>Col10(t)</th>\n",
              "    </tr>\n",
              "  </thead>\n",
              "  <tbody>\n",
              "    <tr>\n",
              "      <th>1</th>\n",
              "      <td>0.132075</td>\n",
              "      <td>0.0</td>\n",
              "      <td>0.0000</td>\n",
              "      <td>0.000000</td>\n",
              "      <td>1.0</td>\n",
              "      <td>0.0</td>\n",
              "      <td>0.0</td>\n",
              "      <td>0.0</td>\n",
              "      <td>1.0</td>\n",
              "      <td>0.088383</td>\n",
              "      <td>0.207547</td>\n",
              "      <td>0.0</td>\n",
              "      <td>0.0625</td>\n",
              "      <td>0.022222</td>\n",
              "      <td>0.0</td>\n",
              "      <td>0.0</td>\n",
              "      <td>0.0</td>\n",
              "      <td>0.0</td>\n",
              "      <td>1.0</td>\n",
              "      <td>0.609038</td>\n",
              "    </tr>\n",
              "    <tr>\n",
              "      <th>2</th>\n",
              "      <td>0.207547</td>\n",
              "      <td>0.0</td>\n",
              "      <td>0.0625</td>\n",
              "      <td>0.022222</td>\n",
              "      <td>0.0</td>\n",
              "      <td>0.0</td>\n",
              "      <td>0.0</td>\n",
              "      <td>0.0</td>\n",
              "      <td>1.0</td>\n",
              "      <td>0.609038</td>\n",
              "      <td>0.226415</td>\n",
              "      <td>0.0</td>\n",
              "      <td>0.0000</td>\n",
              "      <td>0.000000</td>\n",
              "      <td>0.0</td>\n",
              "      <td>0.0</td>\n",
              "      <td>0.0</td>\n",
              "      <td>0.0</td>\n",
              "      <td>1.0</td>\n",
              "      <td>0.591424</td>\n",
              "    </tr>\n",
              "    <tr>\n",
              "      <th>3</th>\n",
              "      <td>0.226415</td>\n",
              "      <td>0.0</td>\n",
              "      <td>0.0000</td>\n",
              "      <td>0.000000</td>\n",
              "      <td>0.0</td>\n",
              "      <td>0.0</td>\n",
              "      <td>0.0</td>\n",
              "      <td>0.0</td>\n",
              "      <td>1.0</td>\n",
              "      <td>0.591424</td>\n",
              "      <td>0.132075</td>\n",
              "      <td>0.0</td>\n",
              "      <td>0.0000</td>\n",
              "      <td>0.000000</td>\n",
              "      <td>0.0</td>\n",
              "      <td>0.0</td>\n",
              "      <td>0.0</td>\n",
              "      <td>0.0</td>\n",
              "      <td>1.0</td>\n",
              "      <td>0.564483</td>\n",
              "    </tr>\n",
              "  </tbody>\n",
              "</table>\n",
              "</div>"
            ],
            "text/plain": [
              "   Col1(t-1)  Col2(t-1)  Col3(t-1)  ...  Col8(t)  Col9(t)  Col10(t)\n",
              "1   0.132075        0.0     0.0000  ...      0.0      1.0  0.609038\n",
              "2   0.207547        0.0     0.0625  ...      0.0      1.0  0.591424\n",
              "3   0.226415        0.0     0.0000  ...      0.0      1.0  0.564483\n",
              "\n",
              "[3 rows x 20 columns]"
            ]
          },
          "metadata": {
            "tags": []
          },
          "execution_count": 18
        }
      ]
    },
    {
      "cell_type": "code",
      "metadata": {
        "id": "zCZ-62DdAzzy",
        "outputId": "930fee8f-22ec-491e-d969-7bdfe946566d",
        "colab": {
          "base_uri": "https://localhost:8080/"
        }
      },
      "source": [
        "df5.shape"
      ],
      "execution_count": null,
      "outputs": [
        {
          "output_type": "execute_result",
          "data": {
            "text/plain": [
              "(1460, 20)"
            ]
          },
          "metadata": {
            "tags": []
          },
          "execution_count": 19
        }
      ]
    },
    {
      "cell_type": "markdown",
      "metadata": {
        "id": "GRDN16Quf68x"
      },
      "source": [
        "The new dataset is constructed as a DataFrame, with each column suitably named both by variable number and time step. This allows you to design a variety of different time step sequence type forecasting problems from a given univariate or multivariate time series"
      ]
    },
    {
      "cell_type": "code",
      "metadata": {
        "id": "HnvVbJs-iJD4",
        "outputId": "f987f49c-ac28-4c0a-ffae-762579c76fe8",
        "colab": {
          "base_uri": "https://localhost:8080/",
          "height": 137
        }
      },
      "source": [
        "df6 = df5[['Col10(t-1)', 'Col1(t-1)', 'Col2(t-1)', 'Col3(t-1)', \n",
        "           'Col4(t-1)', 'Col5(t-1)', 'Col6(t-1)', 'Col7(t-1)', 'Col8(t-1)', 'Col9(t-1)', 'Col10(t)' ]]\n",
        "\n",
        "df6.head(3)\n"
      ],
      "execution_count": null,
      "outputs": [
        {
          "output_type": "execute_result",
          "data": {
            "text/html": [
              "<div>\n",
              "<style scoped>\n",
              "    .dataframe tbody tr th:only-of-type {\n",
              "        vertical-align: middle;\n",
              "    }\n",
              "\n",
              "    .dataframe tbody tr th {\n",
              "        vertical-align: top;\n",
              "    }\n",
              "\n",
              "    .dataframe thead th {\n",
              "        text-align: right;\n",
              "    }\n",
              "</style>\n",
              "<table border=\"1\" class=\"dataframe\">\n",
              "  <thead>\n",
              "    <tr style=\"text-align: right;\">\n",
              "      <th></th>\n",
              "      <th>Col10(t-1)</th>\n",
              "      <th>Col1(t-1)</th>\n",
              "      <th>Col2(t-1)</th>\n",
              "      <th>Col3(t-1)</th>\n",
              "      <th>Col4(t-1)</th>\n",
              "      <th>Col5(t-1)</th>\n",
              "      <th>Col6(t-1)</th>\n",
              "      <th>Col7(t-1)</th>\n",
              "      <th>Col8(t-1)</th>\n",
              "      <th>Col9(t-1)</th>\n",
              "      <th>Col10(t)</th>\n",
              "    </tr>\n",
              "  </thead>\n",
              "  <tbody>\n",
              "    <tr>\n",
              "      <th>1</th>\n",
              "      <td>0.088383</td>\n",
              "      <td>0.132075</td>\n",
              "      <td>0.0</td>\n",
              "      <td>0.0000</td>\n",
              "      <td>0.000000</td>\n",
              "      <td>1.0</td>\n",
              "      <td>0.0</td>\n",
              "      <td>0.0</td>\n",
              "      <td>0.0</td>\n",
              "      <td>1.0</td>\n",
              "      <td>0.609038</td>\n",
              "    </tr>\n",
              "    <tr>\n",
              "      <th>2</th>\n",
              "      <td>0.609038</td>\n",
              "      <td>0.207547</td>\n",
              "      <td>0.0</td>\n",
              "      <td>0.0625</td>\n",
              "      <td>0.022222</td>\n",
              "      <td>0.0</td>\n",
              "      <td>0.0</td>\n",
              "      <td>0.0</td>\n",
              "      <td>0.0</td>\n",
              "      <td>1.0</td>\n",
              "      <td>0.591424</td>\n",
              "    </tr>\n",
              "    <tr>\n",
              "      <th>3</th>\n",
              "      <td>0.591424</td>\n",
              "      <td>0.226415</td>\n",
              "      <td>0.0</td>\n",
              "      <td>0.0000</td>\n",
              "      <td>0.000000</td>\n",
              "      <td>0.0</td>\n",
              "      <td>0.0</td>\n",
              "      <td>0.0</td>\n",
              "      <td>0.0</td>\n",
              "      <td>1.0</td>\n",
              "      <td>0.564483</td>\n",
              "    </tr>\n",
              "  </tbody>\n",
              "</table>\n",
              "</div>"
            ],
            "text/plain": [
              "   Col10(t-1)  Col1(t-1)  Col2(t-1)  ...  Col8(t-1)  Col9(t-1)  Col10(t)\n",
              "1    0.088383   0.132075        0.0  ...        0.0        1.0  0.609038\n",
              "2    0.609038   0.207547        0.0  ...        0.0        1.0  0.591424\n",
              "3    0.591424   0.226415        0.0  ...        0.0        1.0  0.564483\n",
              "\n",
              "[3 rows x 11 columns]"
            ]
          },
          "metadata": {
            "tags": []
          },
          "execution_count": 20
        }
      ]
    },
    {
      "cell_type": "code",
      "metadata": {
        "id": "w8rmsoBlWJM2",
        "outputId": "3d3e5b5a-fd14-45c1-bb64-da88e4c6550c",
        "colab": {
          "base_uri": "https://localhost:8080/"
        }
      },
      "source": [
        "# I need a numpy array of values to proceed\n",
        "values2 = df6.values\n",
        "\n",
        "#Split to train and test\n",
        "Len = int(len(values2)*0.8)\n",
        "train = values2[:Len, :]\n",
        "test = values2[Len:, :]\n",
        "\n",
        "# split into input and outputs\n",
        "train_X, train_y = train[:, :-1], train[:, -1]\n",
        "test_X, test_y = test[:, :-1], test[:, -1]\n",
        "\n",
        "# reshape input to be 3D [samples, timesteps, features]\n",
        "train_X = train_X.reshape((train_X.shape[0], 1, train_X.shape[1]))\n",
        "test_X = test_X.reshape((test_X.shape[0], 1, test_X.shape[1]))\n",
        "print(train_X.shape, train_y.shape, test_X.shape, test_y.shape)"
      ],
      "execution_count": null,
      "outputs": [
        {
          "output_type": "stream",
          "text": [
            "(1168, 1, 10) (1168,) (292, 1, 10) (292,)\n"
          ],
          "name": "stdout"
        }
      ]
    },
    {
      "cell_type": "markdown",
      "metadata": {
        "id": "MC5k1Urf-Bd4"
      },
      "source": [
        "Creating the LSTM Model"
      ]
    },
    {
      "cell_type": "code",
      "metadata": {
        "id": "g150EeVS6XzA"
      },
      "source": [
        "\n",
        "import keras\n",
        "from keras.models import Sequential\n",
        "from keras.layers import LSTM, Dense\n",
        "\n",
        "# Creating/Initializing\n",
        "\n",
        "model = Sequential()\n",
        "model.add(LSTM(64, input_shape=(1, 10), return_sequences= True, stateful= False))\n",
        "model.add(Dense(1))\n",
        "\n",
        "# Compiling\n",
        "model.compile(loss='mae', optimizer='adam')\n",
        "\n"
      ],
      "execution_count": null,
      "outputs": []
    },
    {
      "cell_type": "markdown",
      "metadata": {
        "id": "BJES3_ky58jO"
      },
      "source": [
        "Fitting model and evalueting to see accuracy"
      ]
    },
    {
      "cell_type": "code",
      "metadata": {
        "id": "GSBGMhk96Cgn",
        "outputId": "be49d841-caee-4def-eb24-533e4eb0e5a1",
        "colab": {
          "base_uri": "https://localhost:8080/",
          "height": 814
        }
      },
      "source": [
        "# params\n",
        "\n",
        "epochs = 15\n",
        "BATCH_SIZE = 50\n",
        "# fit network\n",
        "history = model.fit(train_X, train_y, epochs=epochs, batch_size= BATCH_SIZE, validation_data=(test_X, test_y), verbose=1, shuffle=True)\n",
        "\n",
        "# plot history\n",
        "plt.plot(history.history['loss'], label='train')\n",
        "plt.plot(history.history['val_loss'], label='test')\n",
        "plt.title('loss')\n",
        "plt.legend()\n",
        "plt.show()\n"
      ],
      "execution_count": null,
      "outputs": [
        {
          "output_type": "stream",
          "text": [
            "Epoch 1/15\n",
            "24/24 [==============================] - 0s 19ms/step - loss: 0.4478 - val_loss: 0.2769\n",
            "Epoch 2/15\n",
            "24/24 [==============================] - 0s 4ms/step - loss: 0.1932 - val_loss: 0.1103\n",
            "Epoch 3/15\n",
            "24/24 [==============================] - 0s 4ms/step - loss: 0.1256 - val_loss: 0.1066\n",
            "Epoch 4/15\n",
            "24/24 [==============================] - 0s 4ms/step - loss: 0.1203 - val_loss: 0.1107\n",
            "Epoch 5/15\n",
            "24/24 [==============================] - 0s 4ms/step - loss: 0.1184 - val_loss: 0.1051\n",
            "Epoch 6/15\n",
            "24/24 [==============================] - 0s 4ms/step - loss: 0.1185 - val_loss: 0.1037\n",
            "Epoch 7/15\n",
            "24/24 [==============================] - 0s 4ms/step - loss: 0.1179 - val_loss: 0.1080\n",
            "Epoch 8/15\n",
            "24/24 [==============================] - 0s 4ms/step - loss: 0.1175 - val_loss: 0.1074\n",
            "Epoch 9/15\n",
            "24/24 [==============================] - 0s 4ms/step - loss: 0.1170 - val_loss: 0.1033\n",
            "Epoch 10/15\n",
            "24/24 [==============================] - 0s 4ms/step - loss: 0.1173 - val_loss: 0.1040\n",
            "Epoch 11/15\n",
            "24/24 [==============================] - 0s 4ms/step - loss: 0.1168 - val_loss: 0.1061\n",
            "Epoch 12/15\n",
            "24/24 [==============================] - 0s 4ms/step - loss: 0.1168 - val_loss: 0.1021\n",
            "Epoch 13/15\n",
            "24/24 [==============================] - 0s 4ms/step - loss: 0.1169 - val_loss: 0.1048\n",
            "Epoch 14/15\n",
            "24/24 [==============================] - 0s 4ms/step - loss: 0.1165 - val_loss: 0.1062\n",
            "Epoch 15/15\n",
            "24/24 [==============================] - 0s 4ms/step - loss: 0.1165 - val_loss: 0.1012\n"
          ],
          "name": "stdout"
        },
        {
          "output_type": "display_data",
          "data": {
            "image/png": "[encoded data removed]",
            "text/plain": [
              "<Figure size 432x288 with 1 Axes>"
            ]
          },
          "metadata": {
            "tags": [],
            "needs_background": "light"
          }
        }
      ]
    },
    {
      "cell_type": "markdown",
      "metadata": {
        "id": "9zGK-31AcIsx"
      },
      "source": [
        "Evaluating model"
      ]
    },
    {
      "cell_type": "code",
      "metadata": {
        "id": "qv5GLgm83cnc"
      },
      "source": [
        "\n",
        "from pandas import DataFrame\n",
        "from pandas import concat\n",
        "from numpy import concatenate\n",
        "\n",
        "# Predicting Y values using our test data\n",
        "yhat = model.predict(test_X)\n",
        "\n",
        "# Reshape yhat and test_X to 2D in order to combine the two\n",
        "yhat = yhat.reshape((yhat.shape[0], yhat.shape[2]))\n",
        "Newtest_X = test_X.reshape((test_X.shape[0], test_X.shape[2]))\n",
        "\n",
        "# Combine and trenasform to original values (denormalize)\n",
        "inv_yhat = concatenate((Newtest_X[:, :-1], yhat), axis=1)\n",
        "inv_yhat2 = scaler.inverse_transform(inv_yhat)\n",
        "inv_yhat3 = inv_yhat2[:,-1]\n"
      ],
      "execution_count": null,
      "outputs": []
    },
    {
      "cell_type": "code",
      "metadata": {
        "id": "U6QcecZs4BPM"
      },
      "source": [
        "# Invert actual Y values to original scale\n",
        "Newtest_y = test_y.reshape((len(test_y), 1))\n",
        "inv_y = concatenate((Newtest_X[:, :-1], Newtest_y), axis=1)\n",
        "inv_y2 = scaler.inverse_transform(inv_y)\n",
        "inv_y3 = inv_y2[:,-1]"
      ],
      "execution_count": null,
      "outputs": []
    },
    {
      "cell_type": "code",
      "metadata": {
        "id": "vLUy7iJzD6zb",
        "outputId": "421e4e68-08df-4b8c-f69a-7f19eb480ec5",
        "colab": {
          "base_uri": "https://localhost:8080/"
        }
      },
      "source": [
        "# calculating Root Mean Squared Error (RMSE)\n",
        "from math import sqrt\n",
        "from sklearn.metrics import mean_squared_error\n",
        "rmse = sqrt(mean_squared_error(inv_y3, inv_yhat3))\n",
        "print('Test RMSE: %.3f' % rmse)"
      ],
      "execution_count": null,
      "outputs": [
        {
          "output_type": "stream",
          "text": [
            "Test RMSE: 60538.695\n"
          ],
          "name": "stdout"
        }
      ]
    },
    {
      "cell_type": "markdown",
      "metadata": {
        "id": "n3sAtC9wQ4hn"
      },
      "source": [
        "Root Mean Square Error (RMSE) for minutes and daily data"
      ]
    },
    {
      "cell_type": "markdown",
      "metadata": {
        "id": "5ybfMjTLR3lN"
      },
      "source": [
        "`Daily data achieves a good RMSE of ~60K`"
      ]
    },
    {
      "cell_type": "code",
      "metadata": {
        "id": "rTWnOsleSev7",
        "outputId": "8167fe00-4703-4f7d-da19-40b20b334ced",
        "colab": {
          "base_uri": "https://localhost:8080/"
        }
      },
      "source": [
        "# Comparing actuals and predicted values\n",
        "# actuals\n",
        "inv_y3[[1, 50, 100, 150, 200]]"
      ],
      "execution_count": null,
      "outputs": [
        {
          "output_type": "execute_result",
          "data": {
            "text/plain": [
              "array([308470., 302745., 297465., 314460., 349470.], dtype=float32)"
            ]
          },
          "metadata": {
            "tags": []
          },
          "execution_count": 29
        }
      ]
    },
    {
      "cell_type": "code",
      "metadata": {
        "id": "RmK757fnZM77",
        "outputId": "9cacb48e-fc59-49ab-8949-8be60377a826",
        "colab": {
          "base_uri": "https://localhost:8080/"
        }
      },
      "source": [
        "#predicted\n",
        "inv_yhat3[[1, 50, 100, 150, 200]]"
      ],
      "execution_count": null,
      "outputs": [
        {
          "output_type": "execute_result",
          "data": {
            "text/plain": [
              "array([273680.9 , 288317.16, 293992.8 , 307735.06, 307348.16],\n",
              "      dtype=float32)"
            ]
          },
          "metadata": {
            "tags": []
          },
          "execution_count": 30
        }
      ]
    }
  ]
}